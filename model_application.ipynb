{
 "cells": [
  {
   "cell_type": "code",
   "execution_count": 1,
   "metadata": {},
   "outputs": [],
   "source": [
    "import numpy as np\n",
    "import pandas as pd"
   ]
  },
  {
   "cell_type": "code",
   "execution_count": 2,
   "metadata": {},
   "outputs": [],
   "source": [
    "from sklearn.preprocessing import StandardScaler\n",
    "from sklearn.model_selection import StratifiedKFold,RandomizedSearchCV,GridSearchCV"
   ]
  },
  {
   "cell_type": "code",
   "execution_count": 3,
   "metadata": {},
   "outputs": [],
   "source": [
    "df=pd.read_csv('application.csv')"
   ]
  },
  {
   "cell_type": "code",
   "execution_count": 4,
   "metadata": {},
   "outputs": [
    {
     "data": {
      "text/html": [
       "<div>\n",
       "<style scoped>\n",
       "    .dataframe tbody tr th:only-of-type {\n",
       "        vertical-align: middle;\n",
       "    }\n",
       "\n",
       "    .dataframe tbody tr th {\n",
       "        vertical-align: top;\n",
       "    }\n",
       "\n",
       "    .dataframe thead th {\n",
       "        text-align: right;\n",
       "    }\n",
       "</style>\n",
       "<table border=\"1\" class=\"dataframe\">\n",
       "  <thead>\n",
       "    <tr style=\"text-align: right;\">\n",
       "      <th></th>\n",
       "      <th>TARGET</th>\n",
       "      <th>AMT_INCOME_TOTAL</th>\n",
       "      <th>AMT_CREDIT</th>\n",
       "      <th>REGION_POPULATION_RELATIVE</th>\n",
       "      <th>DAYS_BIRTH</th>\n",
       "      <th>DAYS_EMPLOYED</th>\n",
       "      <th>DAYS_REGISTRATION</th>\n",
       "      <th>DAYS_ID_PUBLISH</th>\n",
       "      <th>FLAG_EMP_PHONE</th>\n",
       "      <th>FLAG_WORK_PHONE</th>\n",
       "      <th>...</th>\n",
       "      <th>HOUSETYPE_MODE_terraced house</th>\n",
       "      <th>WALLSMATERIAL_MODE_Mixed</th>\n",
       "      <th>WALLSMATERIAL_MODE_Monolithic</th>\n",
       "      <th>WALLSMATERIAL_MODE_Others</th>\n",
       "      <th>WALLSMATERIAL_MODE_Panel</th>\n",
       "      <th>WALLSMATERIAL_MODE_Stone, brick</th>\n",
       "      <th>WALLSMATERIAL_MODE_WALLSMATERIAL_missing</th>\n",
       "      <th>WALLSMATERIAL_MODE_Wooden</th>\n",
       "      <th>EMERGENCYSTATE_MODE_No</th>\n",
       "      <th>EMERGENCYSTATE_MODE_Yes</th>\n",
       "    </tr>\n",
       "  </thead>\n",
       "  <tbody>\n",
       "    <tr>\n",
       "      <th>0</th>\n",
       "      <td>1</td>\n",
       "      <td>202500.0</td>\n",
       "      <td>406597.5</td>\n",
       "      <td>0.018801</td>\n",
       "      <td>-9461</td>\n",
       "      <td>-637</td>\n",
       "      <td>-3648.0</td>\n",
       "      <td>-2120</td>\n",
       "      <td>1</td>\n",
       "      <td>0</td>\n",
       "      <td>...</td>\n",
       "      <td>0</td>\n",
       "      <td>0</td>\n",
       "      <td>0</td>\n",
       "      <td>0</td>\n",
       "      <td>0</td>\n",
       "      <td>1</td>\n",
       "      <td>0</td>\n",
       "      <td>0</td>\n",
       "      <td>1</td>\n",
       "      <td>0</td>\n",
       "    </tr>\n",
       "    <tr>\n",
       "      <th>1</th>\n",
       "      <td>0</td>\n",
       "      <td>270000.0</td>\n",
       "      <td>1293502.5</td>\n",
       "      <td>0.003541</td>\n",
       "      <td>-16765</td>\n",
       "      <td>-1188</td>\n",
       "      <td>-1186.0</td>\n",
       "      <td>-291</td>\n",
       "      <td>1</td>\n",
       "      <td>0</td>\n",
       "      <td>...</td>\n",
       "      <td>0</td>\n",
       "      <td>0</td>\n",
       "      <td>0</td>\n",
       "      <td>0</td>\n",
       "      <td>0</td>\n",
       "      <td>0</td>\n",
       "      <td>0</td>\n",
       "      <td>0</td>\n",
       "      <td>1</td>\n",
       "      <td>0</td>\n",
       "    </tr>\n",
       "    <tr>\n",
       "      <th>2</th>\n",
       "      <td>0</td>\n",
       "      <td>67500.0</td>\n",
       "      <td>135000.0</td>\n",
       "      <td>0.010032</td>\n",
       "      <td>-19046</td>\n",
       "      <td>-225</td>\n",
       "      <td>-4260.0</td>\n",
       "      <td>-2531</td>\n",
       "      <td>1</td>\n",
       "      <td>1</td>\n",
       "      <td>...</td>\n",
       "      <td>0</td>\n",
       "      <td>0</td>\n",
       "      <td>0</td>\n",
       "      <td>0</td>\n",
       "      <td>0</td>\n",
       "      <td>0</td>\n",
       "      <td>1</td>\n",
       "      <td>0</td>\n",
       "      <td>0</td>\n",
       "      <td>0</td>\n",
       "    </tr>\n",
       "    <tr>\n",
       "      <th>3</th>\n",
       "      <td>0</td>\n",
       "      <td>135000.0</td>\n",
       "      <td>312682.5</td>\n",
       "      <td>0.008019</td>\n",
       "      <td>-19005</td>\n",
       "      <td>-3039</td>\n",
       "      <td>-9833.0</td>\n",
       "      <td>-2437</td>\n",
       "      <td>1</td>\n",
       "      <td>0</td>\n",
       "      <td>...</td>\n",
       "      <td>0</td>\n",
       "      <td>0</td>\n",
       "      <td>0</td>\n",
       "      <td>0</td>\n",
       "      <td>0</td>\n",
       "      <td>0</td>\n",
       "      <td>1</td>\n",
       "      <td>0</td>\n",
       "      <td>0</td>\n",
       "      <td>0</td>\n",
       "    </tr>\n",
       "    <tr>\n",
       "      <th>4</th>\n",
       "      <td>0</td>\n",
       "      <td>121500.0</td>\n",
       "      <td>513000.0</td>\n",
       "      <td>0.028663</td>\n",
       "      <td>-19932</td>\n",
       "      <td>-3038</td>\n",
       "      <td>-4311.0</td>\n",
       "      <td>-3458</td>\n",
       "      <td>1</td>\n",
       "      <td>0</td>\n",
       "      <td>...</td>\n",
       "      <td>0</td>\n",
       "      <td>0</td>\n",
       "      <td>0</td>\n",
       "      <td>0</td>\n",
       "      <td>0</td>\n",
       "      <td>0</td>\n",
       "      <td>1</td>\n",
       "      <td>0</td>\n",
       "      <td>0</td>\n",
       "      <td>0</td>\n",
       "    </tr>\n",
       "  </tbody>\n",
       "</table>\n",
       "<p>5 rows × 139 columns</p>\n",
       "</div>"
      ],
      "text/plain": [
       "   TARGET  AMT_INCOME_TOTAL  AMT_CREDIT  REGION_POPULATION_RELATIVE  \\\n",
       "0       1          202500.0    406597.5                    0.018801   \n",
       "1       0          270000.0   1293502.5                    0.003541   \n",
       "2       0           67500.0    135000.0                    0.010032   \n",
       "3       0          135000.0    312682.5                    0.008019   \n",
       "4       0          121500.0    513000.0                    0.028663   \n",
       "\n",
       "   DAYS_BIRTH  DAYS_EMPLOYED  DAYS_REGISTRATION  DAYS_ID_PUBLISH  \\\n",
       "0       -9461           -637            -3648.0            -2120   \n",
       "1      -16765          -1188            -1186.0             -291   \n",
       "2      -19046           -225            -4260.0            -2531   \n",
       "3      -19005          -3039            -9833.0            -2437   \n",
       "4      -19932          -3038            -4311.0            -3458   \n",
       "\n",
       "   FLAG_EMP_PHONE  FLAG_WORK_PHONE  ...  HOUSETYPE_MODE_terraced house  \\\n",
       "0               1                0  ...                              0   \n",
       "1               1                0  ...                              0   \n",
       "2               1                1  ...                              0   \n",
       "3               1                0  ...                              0   \n",
       "4               1                0  ...                              0   \n",
       "\n",
       "   WALLSMATERIAL_MODE_Mixed  WALLSMATERIAL_MODE_Monolithic  \\\n",
       "0                         0                              0   \n",
       "1                         0                              0   \n",
       "2                         0                              0   \n",
       "3                         0                              0   \n",
       "4                         0                              0   \n",
       "\n",
       "   WALLSMATERIAL_MODE_Others  WALLSMATERIAL_MODE_Panel  \\\n",
       "0                          0                         0   \n",
       "1                          0                         0   \n",
       "2                          0                         0   \n",
       "3                          0                         0   \n",
       "4                          0                         0   \n",
       "\n",
       "   WALLSMATERIAL_MODE_Stone, brick  WALLSMATERIAL_MODE_WALLSMATERIAL_missing  \\\n",
       "0                                1                                         0   \n",
       "1                                0                                         0   \n",
       "2                                0                                         1   \n",
       "3                                0                                         1   \n",
       "4                                0                                         1   \n",
       "\n",
       "   WALLSMATERIAL_MODE_Wooden  EMERGENCYSTATE_MODE_No  EMERGENCYSTATE_MODE_Yes  \n",
       "0                          0                       1                        0  \n",
       "1                          0                       1                        0  \n",
       "2                          0                       0                        0  \n",
       "3                          0                       0                        0  \n",
       "4                          0                       0                        0  \n",
       "\n",
       "[5 rows x 139 columns]"
      ]
     },
     "execution_count": 4,
     "metadata": {},
     "output_type": "execute_result"
    }
   ],
   "source": [
    "df.head()"
   ]
  },
  {
   "cell_type": "code",
   "execution_count": 5,
   "metadata": {},
   "outputs": [],
   "source": [
    "x=df.drop('TARGET',axis=1).values\n",
    "y=df['TARGET'].values"
   ]
  },
  {
   "cell_type": "code",
   "execution_count": 6,
   "metadata": {},
   "outputs": [],
   "source": [
    "stf=StratifiedKFold(n_splits=10)"
   ]
  },
  {
   "cell_type": "code",
   "execution_count": 7,
   "metadata": {},
   "outputs": [],
   "source": [
    "for train,test in stf.split(x,y):\n",
    "    x_train,x_test,y_train,y_test=x[train],x[test],y[train],y[test]"
   ]
  },
  {
   "cell_type": "code",
   "execution_count": 8,
   "metadata": {},
   "outputs": [
    {
     "name": "stderr",
     "output_type": "stream",
     "text": [
      "C:\\Users\\beast brothers\\anaconda3\\lib\\site-packages\\tensorflow\\python\\framework\\dtypes.py:516: FutureWarning: Passing (type, 1) or '1type' as a synonym of type is deprecated; in a future version of numpy, it will be understood as (type, (1,)) / '(1,)type'.\n",
      "  _np_qint8 = np.dtype([(\"qint8\", np.int8, 1)])\n",
      "C:\\Users\\beast brothers\\anaconda3\\lib\\site-packages\\tensorflow\\python\\framework\\dtypes.py:517: FutureWarning: Passing (type, 1) or '1type' as a synonym of type is deprecated; in a future version of numpy, it will be understood as (type, (1,)) / '(1,)type'.\n",
      "  _np_quint8 = np.dtype([(\"quint8\", np.uint8, 1)])\n",
      "C:\\Users\\beast brothers\\anaconda3\\lib\\site-packages\\tensorflow\\python\\framework\\dtypes.py:518: FutureWarning: Passing (type, 1) or '1type' as a synonym of type is deprecated; in a future version of numpy, it will be understood as (type, (1,)) / '(1,)type'.\n",
      "  _np_qint16 = np.dtype([(\"qint16\", np.int16, 1)])\n",
      "C:\\Users\\beast brothers\\anaconda3\\lib\\site-packages\\tensorflow\\python\\framework\\dtypes.py:519: FutureWarning: Passing (type, 1) or '1type' as a synonym of type is deprecated; in a future version of numpy, it will be understood as (type, (1,)) / '(1,)type'.\n",
      "  _np_quint16 = np.dtype([(\"quint16\", np.uint16, 1)])\n",
      "C:\\Users\\beast brothers\\anaconda3\\lib\\site-packages\\tensorflow\\python\\framework\\dtypes.py:520: FutureWarning: Passing (type, 1) or '1type' as a synonym of type is deprecated; in a future version of numpy, it will be understood as (type, (1,)) / '(1,)type'.\n",
      "  _np_qint32 = np.dtype([(\"qint32\", np.int32, 1)])\n",
      "C:\\Users\\beast brothers\\anaconda3\\lib\\site-packages\\tensorflow\\python\\framework\\dtypes.py:525: FutureWarning: Passing (type, 1) or '1type' as a synonym of type is deprecated; in a future version of numpy, it will be understood as (type, (1,)) / '(1,)type'.\n",
      "  np_resource = np.dtype([(\"resource\", np.ubyte, 1)])\n",
      "C:\\Users\\beast brothers\\anaconda3\\lib\\site-packages\\tensorboard\\compat\\tensorflow_stub\\dtypes.py:541: FutureWarning: Passing (type, 1) or '1type' as a synonym of type is deprecated; in a future version of numpy, it will be understood as (type, (1,)) / '(1,)type'.\n",
      "  _np_qint8 = np.dtype([(\"qint8\", np.int8, 1)])\n",
      "C:\\Users\\beast brothers\\anaconda3\\lib\\site-packages\\tensorboard\\compat\\tensorflow_stub\\dtypes.py:542: FutureWarning: Passing (type, 1) or '1type' as a synonym of type is deprecated; in a future version of numpy, it will be understood as (type, (1,)) / '(1,)type'.\n",
      "  _np_quint8 = np.dtype([(\"quint8\", np.uint8, 1)])\n",
      "C:\\Users\\beast brothers\\anaconda3\\lib\\site-packages\\tensorboard\\compat\\tensorflow_stub\\dtypes.py:543: FutureWarning: Passing (type, 1) or '1type' as a synonym of type is deprecated; in a future version of numpy, it will be understood as (type, (1,)) / '(1,)type'.\n",
      "  _np_qint16 = np.dtype([(\"qint16\", np.int16, 1)])\n",
      "C:\\Users\\beast brothers\\anaconda3\\lib\\site-packages\\tensorboard\\compat\\tensorflow_stub\\dtypes.py:544: FutureWarning: Passing (type, 1) or '1type' as a synonym of type is deprecated; in a future version of numpy, it will be understood as (type, (1,)) / '(1,)type'.\n",
      "  _np_quint16 = np.dtype([(\"quint16\", np.uint16, 1)])\n",
      "C:\\Users\\beast brothers\\anaconda3\\lib\\site-packages\\tensorboard\\compat\\tensorflow_stub\\dtypes.py:545: FutureWarning: Passing (type, 1) or '1type' as a synonym of type is deprecated; in a future version of numpy, it will be understood as (type, (1,)) / '(1,)type'.\n",
      "  _np_qint32 = np.dtype([(\"qint32\", np.int32, 1)])\n",
      "C:\\Users\\beast brothers\\anaconda3\\lib\\site-packages\\tensorboard\\compat\\tensorflow_stub\\dtypes.py:550: FutureWarning: Passing (type, 1) or '1type' as a synonym of type is deprecated; in a future version of numpy, it will be understood as (type, (1,)) / '(1,)type'.\n",
      "  np_resource = np.dtype([(\"resource\", np.ubyte, 1)])\n"
     ]
    }
   ],
   "source": [
    "from imblearn.over_sampling import SMOTE"
   ]
  },
  {
   "cell_type": "code",
   "execution_count": 9,
   "metadata": {},
   "outputs": [],
   "source": [
    "smote=SMOTE(sampling_strategy='minority')"
   ]
  },
  {
   "cell_type": "code",
   "execution_count": 10,
   "metadata": {},
   "outputs": [],
   "source": [
    "scaler=StandardScaler()"
   ]
  },
  {
   "cell_type": "code",
   "execution_count": 11,
   "metadata": {},
   "outputs": [],
   "source": [
    "x_train=scaler.fit_transform(x_train)\n",
    "x_test=scaler.transform(x_test)"
   ]
  },
  {
   "cell_type": "code",
   "execution_count": 12,
   "metadata": {},
   "outputs": [],
   "source": [
    "import seaborn as sn"
   ]
  },
  {
   "cell_type": "code",
   "execution_count": 13,
   "metadata": {},
   "outputs": [
    {
     "data": {
      "text/plain": [
       "<matplotlib.axes._subplots.AxesSubplot at 0x2388a426f08>"
      ]
     },
     "execution_count": 13,
     "metadata": {},
     "output_type": "execute_result"
    },
    {
     "data": {
      "image/png": "[encoded data removed]",
      "text/plain": [
       "<Figure size 432x288 with 1 Axes>"
      ]
     },
     "metadata": {
      "needs_background": "light"
     },
     "output_type": "display_data"
    }
   ],
   "source": [
    "sn.countplot(y_train)"
   ]
  },
  {
   "cell_type": "code",
   "execution_count": 14,
   "metadata": {},
   "outputs": [],
   "source": [
    "x_train,y_train=smote.fit_sample(x_train,y_train)"
   ]
  },
  {
   "cell_type": "code",
   "execution_count": 15,
   "metadata": {},
   "outputs": [
    {
     "data": {
      "text/plain": [
       "(254417, 254417)"
      ]
     },
     "execution_count": 15,
     "metadata": {},
     "output_type": "execute_result"
    }
   ],
   "source": [
    "np.sum(y_train),np.sum(1-y_train)"
   ]
  },
  {
   "cell_type": "code",
   "execution_count": 68,
   "metadata": {},
   "outputs": [],
   "source": [
    "import xgboost"
   ]
  },
  {
   "cell_type": "code",
   "execution_count": 17,
   "metadata": {},
   "outputs": [],
   "source": [
    "xgb=xgboost.XGBClassifier(n_estimators=100)"
   ]
  },
  {
   "cell_type": "code",
   "execution_count": 18,
   "metadata": {},
   "outputs": [],
   "source": [
    "params={\n",
    "        'max_depth':[4,6,8,10,12,14],'subsample':[0.5,0.7,0.8,0.9],\n",
    "        'colsample_bytree':[0.6,0.8,0.9],'gamma':[1,3,5],'reg_lambda':[1,5,10]\n",
    "            }"
   ]
  },
  {
   "cell_type": "code",
   "execution_count": 19,
   "metadata": {},
   "outputs": [],
   "source": [
    "random=RandomizedSearchCV(xgb,param_distributions=params,cv=StratifiedKFold(n_splits=5),n_iter=90,scoring='f1',verbose=5)"
   ]
  },
  {
   "cell_type": "code",
   "execution_count": 23,
   "metadata": {
    "scrolled": true
   },
   "outputs": [
    {
     "name": "stdout",
     "output_type": "stream",
     "text": [
      "Fitting 5 folds for each of 90 candidates, totalling 450 fits\n",
      "[CV] subsample=0.8, reg_lambda=10, max_depth=4, gamma=1, colsample_bytree=0.9 \n"
     ]
    },
    {
     "name": "stderr",
     "output_type": "stream",
     "text": [
      "[Parallel(n_jobs=1)]: Using backend SequentialBackend with 1 concurrent workers.\n"
     ]
    },
    {
     "name": "stdout",
     "output_type": "stream",
     "text": [
      "[CV]  subsample=0.8, reg_lambda=10, max_depth=4, gamma=1, colsample_bytree=0.9, score=0.773, total= 2.3min\n",
      "[CV] subsample=0.8, reg_lambda=10, max_depth=4, gamma=1, colsample_bytree=0.9 \n"
     ]
    },
    {
     "name": "stderr",
     "output_type": "stream",
     "text": [
      "[Parallel(n_jobs=1)]: Done   1 out of   1 | elapsed:  2.3min remaining:    0.0s\n"
     ]
    },
    {
     "name": "stdout",
     "output_type": "stream",
     "text": [
      "[CV]  subsample=0.8, reg_lambda=10, max_depth=4, gamma=1, colsample_bytree=0.9, score=0.995, total= 2.3min\n",
      "[CV] subsample=0.8, reg_lambda=10, max_depth=4, gamma=1, colsample_bytree=0.9 \n"
     ]
    },
    {
     "name": "stderr",
     "output_type": "stream",
     "text": [
      "[Parallel(n_jobs=1)]: Done   2 out of   2 | elapsed:  4.6min remaining:    0.0s\n"
     ]
    },
    {
     "name": "stdout",
     "output_type": "stream",
     "text": [
      "[CV]  subsample=0.8, reg_lambda=10, max_depth=4, gamma=1, colsample_bytree=0.9, score=0.996, total= 2.2min\n",
      "[CV] subsample=0.8, reg_lambda=10, max_depth=4, gamma=1, colsample_bytree=0.9 \n"
     ]
    },
    {
     "name": "stderr",
     "output_type": "stream",
     "text": [
      "[Parallel(n_jobs=1)]: Done   3 out of   3 | elapsed:  6.9min remaining:    0.0s\n"
     ]
    },
    {
     "name": "stdout",
     "output_type": "stream",
     "text": [
      "[CV]  subsample=0.8, reg_lambda=10, max_depth=4, gamma=1, colsample_bytree=0.9, score=0.996, total= 2.2min\n",
      "[CV] subsample=0.8, reg_lambda=10, max_depth=4, gamma=1, colsample_bytree=0.9 \n"
     ]
    },
    {
     "name": "stderr",
     "output_type": "stream",
     "text": [
      "[Parallel(n_jobs=1)]: Done   4 out of   4 | elapsed:  9.0min remaining:    0.0s\n"
     ]
    },
    {
     "name": "stdout",
     "output_type": "stream",
     "text": [
      "[CV]  subsample=0.8, reg_lambda=10, max_depth=4, gamma=1, colsample_bytree=0.9, score=0.996, total= 2.2min\n",
      "[CV] subsample=0.9, reg_lambda=10, max_depth=10, gamma=5, colsample_bytree=0.6 \n",
      "[CV]  subsample=0.9, reg_lambda=10, max_depth=10, gamma=5, colsample_bytree=0.6, score=0.777, total= 3.8min\n",
      "[CV] subsample=0.9, reg_lambda=10, max_depth=10, gamma=5, colsample_bytree=0.6 \n",
      "[CV]  subsample=0.9, reg_lambda=10, max_depth=10, gamma=5, colsample_bytree=0.6, score=0.998, total= 3.8min\n",
      "[CV] subsample=0.9, reg_lambda=10, max_depth=10, gamma=5, colsample_bytree=0.6 \n",
      "[CV]  subsample=0.9, reg_lambda=10, max_depth=10, gamma=5, colsample_bytree=0.6, score=0.998, total= 3.8min\n",
      "[CV] subsample=0.9, reg_lambda=10, max_depth=10, gamma=5, colsample_bytree=0.6 \n",
      "[CV]  subsample=0.9, reg_lambda=10, max_depth=10, gamma=5, colsample_bytree=0.6, score=0.998, total= 4.5min\n",
      "[CV] subsample=0.9, reg_lambda=10, max_depth=10, gamma=5, colsample_bytree=0.6 \n",
      "[CV]  subsample=0.9, reg_lambda=10, max_depth=10, gamma=5, colsample_bytree=0.6, score=0.998, total= 4.8min\n",
      "[CV] subsample=0.7, reg_lambda=5, max_depth=8, gamma=3, colsample_bytree=0.6 \n",
      "[CV]  subsample=0.7, reg_lambda=5, max_depth=8, gamma=3, colsample_bytree=0.6, score=0.777, total= 3.7min\n",
      "[CV] subsample=0.7, reg_lambda=5, max_depth=8, gamma=3, colsample_bytree=0.6 \n",
      "[CV]  subsample=0.7, reg_lambda=5, max_depth=8, gamma=3, colsample_bytree=0.6, score=0.998, total= 3.7min\n",
      "[CV] subsample=0.7, reg_lambda=5, max_depth=8, gamma=3, colsample_bytree=0.6 \n",
      "[CV]  subsample=0.7, reg_lambda=5, max_depth=8, gamma=3, colsample_bytree=0.6, score=0.998, total= 3.9min\n",
      "[CV] subsample=0.7, reg_lambda=5, max_depth=8, gamma=3, colsample_bytree=0.6 \n",
      "[CV]  subsample=0.7, reg_lambda=5, max_depth=8, gamma=3, colsample_bytree=0.6, score=0.998, total= 3.3min\n",
      "[CV] subsample=0.7, reg_lambda=5, max_depth=8, gamma=3, colsample_bytree=0.6 \n",
      "[CV]  subsample=0.7, reg_lambda=5, max_depth=8, gamma=3, colsample_bytree=0.6, score=0.998, total= 3.3min\n",
      "[CV] subsample=0.7, reg_lambda=5, max_depth=6, gamma=5, colsample_bytree=0.8 \n",
      "[CV]  subsample=0.7, reg_lambda=5, max_depth=6, gamma=5, colsample_bytree=0.8, score=0.776, total= 3.5min\n",
      "[CV] subsample=0.7, reg_lambda=5, max_depth=6, gamma=5, colsample_bytree=0.8 \n",
      "[CV]  subsample=0.7, reg_lambda=5, max_depth=6, gamma=5, colsample_bytree=0.8, score=0.998, total= 3.4min\n",
      "[CV] subsample=0.7, reg_lambda=5, max_depth=6, gamma=5, colsample_bytree=0.8 \n",
      "[CV]  subsample=0.7, reg_lambda=5, max_depth=6, gamma=5, colsample_bytree=0.8, score=0.998, total= 3.4min\n",
      "[CV] subsample=0.7, reg_lambda=5, max_depth=6, gamma=5, colsample_bytree=0.8 \n",
      "[CV]  subsample=0.7, reg_lambda=5, max_depth=6, gamma=5, colsample_bytree=0.8, score=0.997, total= 4.0min\n",
      "[CV] subsample=0.7, reg_lambda=5, max_depth=6, gamma=5, colsample_bytree=0.8 \n",
      "[CV]  subsample=0.7, reg_lambda=5, max_depth=6, gamma=5, colsample_bytree=0.8, score=0.998, total= 3.4min\n",
      "[CV] subsample=0.7, reg_lambda=5, max_depth=14, gamma=5, colsample_bytree=0.8 \n",
      "[CV]  subsample=0.7, reg_lambda=5, max_depth=14, gamma=5, colsample_bytree=0.8, score=0.778, total= 7.5min\n",
      "[CV] subsample=0.7, reg_lambda=5, max_depth=14, gamma=5, colsample_bytree=0.8 \n",
      "[CV]  subsample=0.7, reg_lambda=5, max_depth=14, gamma=5, colsample_bytree=0.8, score=0.997, total= 8.5min\n",
      "[CV] subsample=0.7, reg_lambda=5, max_depth=14, gamma=5, colsample_bytree=0.8 \n",
      "[CV]  subsample=0.7, reg_lambda=5, max_depth=14, gamma=5, colsample_bytree=0.8, score=0.998, total= 8.7min\n",
      "[CV] subsample=0.7, reg_lambda=5, max_depth=14, gamma=5, colsample_bytree=0.8 \n",
      "[CV]  subsample=0.7, reg_lambda=5, max_depth=14, gamma=5, colsample_bytree=0.8, score=0.998, total= 8.4min\n",
      "[CV] subsample=0.7, reg_lambda=5, max_depth=14, gamma=5, colsample_bytree=0.8 \n",
      "[CV]  subsample=0.7, reg_lambda=5, max_depth=14, gamma=5, colsample_bytree=0.8, score=0.998, total= 8.7min\n",
      "[CV] subsample=0.9, reg_lambda=10, max_depth=4, gamma=3, colsample_bytree=0.8 \n",
      "[CV]  subsample=0.9, reg_lambda=10, max_depth=4, gamma=3, colsample_bytree=0.8, score=0.773, total= 2.2min\n",
      "[CV] subsample=0.9, reg_lambda=10, max_depth=4, gamma=3, colsample_bytree=0.8 \n",
      "[CV]  subsample=0.9, reg_lambda=10, max_depth=4, gamma=3, colsample_bytree=0.8, score=0.995, total= 2.1min\n",
      "[CV] subsample=0.9, reg_lambda=10, max_depth=4, gamma=3, colsample_bytree=0.8 \n",
      "[CV]  subsample=0.9, reg_lambda=10, max_depth=4, gamma=3, colsample_bytree=0.8, score=0.996, total= 2.2min\n",
      "[CV] subsample=0.9, reg_lambda=10, max_depth=4, gamma=3, colsample_bytree=0.8 \n",
      "[CV]  subsample=0.9, reg_lambda=10, max_depth=4, gamma=3, colsample_bytree=0.8, score=0.995, total= 2.2min\n",
      "[CV] subsample=0.9, reg_lambda=10, max_depth=4, gamma=3, colsample_bytree=0.8 \n",
      "[CV]  subsample=0.9, reg_lambda=10, max_depth=4, gamma=3, colsample_bytree=0.8, score=0.996, total= 2.3min\n",
      "[CV] subsample=0.9, reg_lambda=1, max_depth=8, gamma=5, colsample_bytree=0.6 \n",
      "[CV]  subsample=0.9, reg_lambda=1, max_depth=8, gamma=5, colsample_bytree=0.6, score=0.777, total= 3.6min\n",
      "[CV] subsample=0.9, reg_lambda=1, max_depth=8, gamma=5, colsample_bytree=0.6 \n",
      "[CV]  subsample=0.9, reg_lambda=1, max_depth=8, gamma=5, colsample_bytree=0.6, score=0.998, total= 3.6min\n",
      "[CV] subsample=0.9, reg_lambda=1, max_depth=8, gamma=5, colsample_bytree=0.6 \n",
      "[CV]  subsample=0.9, reg_lambda=1, max_depth=8, gamma=5, colsample_bytree=0.6, score=0.998, total= 3.4min\n",
      "[CV] subsample=0.9, reg_lambda=1, max_depth=8, gamma=5, colsample_bytree=0.6 \n",
      "[CV]  subsample=0.9, reg_lambda=1, max_depth=8, gamma=5, colsample_bytree=0.6, score=0.998, total= 3.5min\n",
      "[CV] subsample=0.9, reg_lambda=1, max_depth=8, gamma=5, colsample_bytree=0.6 \n",
      "[CV]  subsample=0.9, reg_lambda=1, max_depth=8, gamma=5, colsample_bytree=0.6, score=0.998, total= 3.2min\n",
      "[CV] subsample=0.5, reg_lambda=5, max_depth=10, gamma=3, colsample_bytree=0.6 \n",
      "[CV]  subsample=0.5, reg_lambda=5, max_depth=10, gamma=3, colsample_bytree=0.6, score=0.777, total= 4.4min\n",
      "[CV] subsample=0.5, reg_lambda=5, max_depth=10, gamma=3, colsample_bytree=0.6 \n",
      "[CV]  subsample=0.5, reg_lambda=5, max_depth=10, gamma=3, colsample_bytree=0.6, score=0.998, total= 4.6min\n",
      "[CV] subsample=0.5, reg_lambda=5, max_depth=10, gamma=3, colsample_bytree=0.6 \n",
      "[CV]  subsample=0.5, reg_lambda=5, max_depth=10, gamma=3, colsample_bytree=0.6, score=0.998, total= 4.6min\n",
      "[CV] subsample=0.5, reg_lambda=5, max_depth=10, gamma=3, colsample_bytree=0.6 \n",
      "[CV]  subsample=0.5, reg_lambda=5, max_depth=10, gamma=3, colsample_bytree=0.6, score=0.998, total= 4.5min\n",
      "[CV] subsample=0.5, reg_lambda=5, max_depth=10, gamma=3, colsample_bytree=0.6 \n",
      "[CV]  subsample=0.5, reg_lambda=5, max_depth=10, gamma=3, colsample_bytree=0.6, score=0.998, total= 4.5min\n",
      "[CV] subsample=0.8, reg_lambda=10, max_depth=10, gamma=1, colsample_bytree=0.9 \n",
      "[CV]  subsample=0.8, reg_lambda=10, max_depth=10, gamma=1, colsample_bytree=0.9, score=0.777, total= 6.2min\n",
      "[CV] subsample=0.8, reg_lambda=10, max_depth=10, gamma=1, colsample_bytree=0.9 \n",
      "[CV]  subsample=0.8, reg_lambda=10, max_depth=10, gamma=1, colsample_bytree=0.9, score=0.998, total= 6.3min\n",
      "[CV] subsample=0.8, reg_lambda=10, max_depth=10, gamma=1, colsample_bytree=0.9 \n",
      "[CV]  subsample=0.8, reg_lambda=10, max_depth=10, gamma=1, colsample_bytree=0.9, score=0.998, total= 6.4min\n",
      "[CV] subsample=0.8, reg_lambda=10, max_depth=10, gamma=1, colsample_bytree=0.9 \n",
      "[CV]  subsample=0.8, reg_lambda=10, max_depth=10, gamma=1, colsample_bytree=0.9, score=0.998, total=10.7min\n",
      "[CV] subsample=0.8, reg_lambda=10, max_depth=10, gamma=1, colsample_bytree=0.9 \n",
      "[CV]  subsample=0.8, reg_lambda=10, max_depth=10, gamma=1, colsample_bytree=0.9, score=0.998, total=14.7min\n",
      "[CV] subsample=0.5, reg_lambda=1, max_depth=10, gamma=1, colsample_bytree=0.8 \n",
      "[CV]  subsample=0.5, reg_lambda=1, max_depth=10, gamma=1, colsample_bytree=0.8, score=0.778, total= 5.7min\n",
      "[CV] subsample=0.5, reg_lambda=1, max_depth=10, gamma=1, colsample_bytree=0.8 \n",
      "[CV]  subsample=0.5, reg_lambda=1, max_depth=10, gamma=1, colsample_bytree=0.8, score=0.998, total= 5.3min\n",
      "[CV] subsample=0.5, reg_lambda=1, max_depth=10, gamma=1, colsample_bytree=0.8 \n",
      "[CV]  subsample=0.5, reg_lambda=1, max_depth=10, gamma=1, colsample_bytree=0.8, score=0.998, total= 5.3min\n",
      "[CV] subsample=0.5, reg_lambda=1, max_depth=10, gamma=1, colsample_bytree=0.8 \n",
      "[CV]  subsample=0.5, reg_lambda=1, max_depth=10, gamma=1, colsample_bytree=0.8, score=0.998, total= 5.4min\n",
      "[CV] subsample=0.5, reg_lambda=1, max_depth=10, gamma=1, colsample_bytree=0.8 \n"
     ]
    },
    {
     "name": "stdout",
     "output_type": "stream",
     "text": [
      "[CV]  subsample=0.5, reg_lambda=1, max_depth=10, gamma=1, colsample_bytree=0.8, score=0.998, total= 5.3min\n",
      "[CV] subsample=0.9, reg_lambda=5, max_depth=4, gamma=3, colsample_bytree=0.8 \n",
      "[CV]  subsample=0.9, reg_lambda=5, max_depth=4, gamma=3, colsample_bytree=0.8, score=0.773, total= 1.9min\n",
      "[CV] subsample=0.9, reg_lambda=5, max_depth=4, gamma=3, colsample_bytree=0.8 \n",
      "[CV]  subsample=0.9, reg_lambda=5, max_depth=4, gamma=3, colsample_bytree=0.8, score=0.996, total= 1.9min\n",
      "[CV] subsample=0.9, reg_lambda=5, max_depth=4, gamma=3, colsample_bytree=0.8 \n",
      "[CV]  subsample=0.9, reg_lambda=5, max_depth=4, gamma=3, colsample_bytree=0.8, score=0.996, total= 1.9min\n",
      "[CV] subsample=0.9, reg_lambda=5, max_depth=4, gamma=3, colsample_bytree=0.8 \n",
      "[CV]  subsample=0.9, reg_lambda=5, max_depth=4, gamma=3, colsample_bytree=0.8, score=0.995, total= 1.9min\n",
      "[CV] subsample=0.9, reg_lambda=5, max_depth=4, gamma=3, colsample_bytree=0.8 \n",
      "[CV]  subsample=0.9, reg_lambda=5, max_depth=4, gamma=3, colsample_bytree=0.8, score=0.996, total= 1.9min\n",
      "[CV] subsample=0.5, reg_lambda=1, max_depth=8, gamma=5, colsample_bytree=0.8 \n",
      "[CV]  subsample=0.5, reg_lambda=1, max_depth=8, gamma=5, colsample_bytree=0.8, score=0.777, total= 4.5min\n",
      "[CV] subsample=0.5, reg_lambda=1, max_depth=8, gamma=5, colsample_bytree=0.8 \n",
      "[CV]  subsample=0.5, reg_lambda=1, max_depth=8, gamma=5, colsample_bytree=0.8, score=0.998, total= 4.8min\n",
      "[CV] subsample=0.5, reg_lambda=1, max_depth=8, gamma=5, colsample_bytree=0.8 \n",
      "[CV]  subsample=0.5, reg_lambda=1, max_depth=8, gamma=5, colsample_bytree=0.8, score=0.998, total= 4.7min\n",
      "[CV] subsample=0.5, reg_lambda=1, max_depth=8, gamma=5, colsample_bytree=0.8 \n",
      "[CV]  subsample=0.5, reg_lambda=1, max_depth=8, gamma=5, colsample_bytree=0.8, score=0.998, total= 4.7min\n",
      "[CV] subsample=0.5, reg_lambda=1, max_depth=8, gamma=5, colsample_bytree=0.8 \n",
      "[CV]  subsample=0.5, reg_lambda=1, max_depth=8, gamma=5, colsample_bytree=0.8, score=0.998, total= 4.6min\n",
      "[CV] subsample=0.5, reg_lambda=1, max_depth=4, gamma=1, colsample_bytree=0.8 \n",
      "[CV]  subsample=0.5, reg_lambda=1, max_depth=4, gamma=1, colsample_bytree=0.8, score=0.773, total= 2.5min\n",
      "[CV] subsample=0.5, reg_lambda=1, max_depth=4, gamma=1, colsample_bytree=0.8 \n",
      "[CV]  subsample=0.5, reg_lambda=1, max_depth=4, gamma=1, colsample_bytree=0.8, score=0.995, total= 2.4min\n",
      "[CV] subsample=0.5, reg_lambda=1, max_depth=4, gamma=1, colsample_bytree=0.8 \n",
      "[CV]  subsample=0.5, reg_lambda=1, max_depth=4, gamma=1, colsample_bytree=0.8, score=0.995, total= 2.4min\n",
      "[CV] subsample=0.5, reg_lambda=1, max_depth=4, gamma=1, colsample_bytree=0.8 \n",
      "[CV]  subsample=0.5, reg_lambda=1, max_depth=4, gamma=1, colsample_bytree=0.8, score=0.996, total= 2.5min\n",
      "[CV] subsample=0.5, reg_lambda=1, max_depth=4, gamma=1, colsample_bytree=0.8 \n",
      "[CV]  subsample=0.5, reg_lambda=1, max_depth=4, gamma=1, colsample_bytree=0.8, score=0.995, total= 2.5min\n",
      "[CV] subsample=0.7, reg_lambda=5, max_depth=14, gamma=1, colsample_bytree=0.6 \n",
      "[CV]  subsample=0.7, reg_lambda=5, max_depth=14, gamma=1, colsample_bytree=0.6, score=0.778, total= 6.0min\n",
      "[CV] subsample=0.7, reg_lambda=5, max_depth=14, gamma=1, colsample_bytree=0.6 \n",
      "[CV]  subsample=0.7, reg_lambda=5, max_depth=14, gamma=1, colsample_bytree=0.6, score=0.998, total= 6.5min\n",
      "[CV] subsample=0.7, reg_lambda=5, max_depth=14, gamma=1, colsample_bytree=0.6 \n",
      "[CV]  subsample=0.7, reg_lambda=5, max_depth=14, gamma=1, colsample_bytree=0.6, score=0.998, total= 6.4min\n",
      "[CV] subsample=0.7, reg_lambda=5, max_depth=14, gamma=1, colsample_bytree=0.6 \n",
      "[CV]  subsample=0.7, reg_lambda=5, max_depth=14, gamma=1, colsample_bytree=0.6, score=0.998, total= 6.3min\n",
      "[CV] subsample=0.7, reg_lambda=5, max_depth=14, gamma=1, colsample_bytree=0.6 \n",
      "[CV]  subsample=0.7, reg_lambda=5, max_depth=14, gamma=1, colsample_bytree=0.6, score=0.998, total= 6.3min\n",
      "[CV] subsample=0.9, reg_lambda=5, max_depth=8, gamma=1, colsample_bytree=0.9 \n",
      "[CV]  subsample=0.9, reg_lambda=5, max_depth=8, gamma=1, colsample_bytree=0.9, score=0.777, total= 4.5min\n",
      "[CV] subsample=0.9, reg_lambda=5, max_depth=8, gamma=1, colsample_bytree=0.9 \n",
      "[CV]  subsample=0.9, reg_lambda=5, max_depth=8, gamma=1, colsample_bytree=0.9, score=0.998, total= 4.6min\n",
      "[CV] subsample=0.9, reg_lambda=5, max_depth=8, gamma=1, colsample_bytree=0.9 \n",
      "[CV]  subsample=0.9, reg_lambda=5, max_depth=8, gamma=1, colsample_bytree=0.9, score=0.998, total= 4.6min\n",
      "[CV] subsample=0.9, reg_lambda=5, max_depth=8, gamma=1, colsample_bytree=0.9 \n",
      "[CV]  subsample=0.9, reg_lambda=5, max_depth=8, gamma=1, colsample_bytree=0.9, score=0.998, total= 4.6min\n",
      "[CV] subsample=0.9, reg_lambda=5, max_depth=8, gamma=1, colsample_bytree=0.9 \n",
      "[CV]  subsample=0.9, reg_lambda=5, max_depth=8, gamma=1, colsample_bytree=0.9, score=0.998, total= 4.6min\n",
      "[CV] subsample=0.9, reg_lambda=10, max_depth=12, gamma=1, colsample_bytree=0.6 \n",
      "[CV]  subsample=0.9, reg_lambda=10, max_depth=12, gamma=1, colsample_bytree=0.6, score=0.778, total= 4.9min\n",
      "[CV] subsample=0.9, reg_lambda=10, max_depth=12, gamma=1, colsample_bytree=0.6 \n",
      "[CV]  subsample=0.9, reg_lambda=10, max_depth=12, gamma=1, colsample_bytree=0.6, score=0.998, total= 5.0min\n",
      "[CV] subsample=0.9, reg_lambda=10, max_depth=12, gamma=1, colsample_bytree=0.6 \n",
      "[CV]  subsample=0.9, reg_lambda=10, max_depth=12, gamma=1, colsample_bytree=0.6, score=0.998, total= 5.1min\n",
      "[CV] subsample=0.9, reg_lambda=10, max_depth=12, gamma=1, colsample_bytree=0.6 \n",
      "[CV]  subsample=0.9, reg_lambda=10, max_depth=12, gamma=1, colsample_bytree=0.6, score=0.998, total= 5.2min\n",
      "[CV] subsample=0.9, reg_lambda=10, max_depth=12, gamma=1, colsample_bytree=0.6 \n",
      "[CV]  subsample=0.9, reg_lambda=10, max_depth=12, gamma=1, colsample_bytree=0.6, score=0.999, total= 5.0min\n",
      "[CV] subsample=0.9, reg_lambda=5, max_depth=14, gamma=3, colsample_bytree=0.6 \n",
      "[CV]  subsample=0.9, reg_lambda=5, max_depth=14, gamma=3, colsample_bytree=0.6, score=0.778, total= 5.6min\n",
      "[CV] subsample=0.9, reg_lambda=5, max_depth=14, gamma=3, colsample_bytree=0.6 \n",
      "[CV]  subsample=0.9, reg_lambda=5, max_depth=14, gamma=3, colsample_bytree=0.6, score=0.998, total= 5.9min\n",
      "[CV] subsample=0.9, reg_lambda=5, max_depth=14, gamma=3, colsample_bytree=0.6 \n",
      "[CV]  subsample=0.9, reg_lambda=5, max_depth=14, gamma=3, colsample_bytree=0.6, score=0.998, total= 6.0min\n",
      "[CV] subsample=0.9, reg_lambda=5, max_depth=14, gamma=3, colsample_bytree=0.6 \n",
      "[CV]  subsample=0.9, reg_lambda=5, max_depth=14, gamma=3, colsample_bytree=0.6, score=0.998, total= 5.9min\n",
      "[CV] subsample=0.9, reg_lambda=5, max_depth=14, gamma=3, colsample_bytree=0.6 \n",
      "[CV]  subsample=0.9, reg_lambda=5, max_depth=14, gamma=3, colsample_bytree=0.6, score=0.999, total= 5.6min\n",
      "[CV] subsample=0.7, reg_lambda=5, max_depth=14, gamma=1, colsample_bytree=0.9 \n",
      "[CV]  subsample=0.7, reg_lambda=5, max_depth=14, gamma=1, colsample_bytree=0.9, score=0.778, total= 8.0min\n",
      "[CV] subsample=0.7, reg_lambda=5, max_depth=14, gamma=1, colsample_bytree=0.9 \n",
      "[CV]  subsample=0.7, reg_lambda=5, max_depth=14, gamma=1, colsample_bytree=0.9, score=0.998, total= 8.5min\n",
      "[CV] subsample=0.7, reg_lambda=5, max_depth=14, gamma=1, colsample_bytree=0.9 \n",
      "[CV]  subsample=0.7, reg_lambda=5, max_depth=14, gamma=1, colsample_bytree=0.9, score=0.998, total= 8.4min\n",
      "[CV] subsample=0.7, reg_lambda=5, max_depth=14, gamma=1, colsample_bytree=0.9 \n",
      "[CV]  subsample=0.7, reg_lambda=5, max_depth=14, gamma=1, colsample_bytree=0.9, score=0.998, total= 8.4min\n",
      "[CV] subsample=0.7, reg_lambda=5, max_depth=14, gamma=1, colsample_bytree=0.9 \n",
      "[CV]  subsample=0.7, reg_lambda=5, max_depth=14, gamma=1, colsample_bytree=0.9, score=0.998, total= 8.9min\n",
      "[CV] subsample=0.7, reg_lambda=5, max_depth=12, gamma=3, colsample_bytree=0.8 \n",
      "[CV]  subsample=0.7, reg_lambda=5, max_depth=12, gamma=3, colsample_bytree=0.8, score=0.778, total= 7.2min\n",
      "[CV] subsample=0.7, reg_lambda=5, max_depth=12, gamma=3, colsample_bytree=0.8 \n",
      "[CV]  subsample=0.7, reg_lambda=5, max_depth=12, gamma=3, colsample_bytree=0.8, score=0.998, total= 6.9min\n",
      "[CV] subsample=0.7, reg_lambda=5, max_depth=12, gamma=3, colsample_bytree=0.8 \n",
      "[CV]  subsample=0.7, reg_lambda=5, max_depth=12, gamma=3, colsample_bytree=0.8, score=0.998, total= 6.9min\n",
      "[CV] subsample=0.7, reg_lambda=5, max_depth=12, gamma=3, colsample_bytree=0.8 \n",
      "[CV]  subsample=0.7, reg_lambda=5, max_depth=12, gamma=3, colsample_bytree=0.8, score=0.998, total= 7.2min\n",
      "[CV] subsample=0.7, reg_lambda=5, max_depth=12, gamma=3, colsample_bytree=0.8 \n"
     ]
    },
    {
     "name": "stdout",
     "output_type": "stream",
     "text": [
      "[CV]  subsample=0.7, reg_lambda=5, max_depth=12, gamma=3, colsample_bytree=0.8, score=0.998, total= 7.1min\n",
      "[CV] subsample=0.7, reg_lambda=10, max_depth=6, gamma=5, colsample_bytree=0.8 \n",
      "[CV]  subsample=0.7, reg_lambda=10, max_depth=6, gamma=5, colsample_bytree=0.8, score=0.776, total= 3.1min\n",
      "[CV] subsample=0.7, reg_lambda=10, max_depth=6, gamma=5, colsample_bytree=0.8 \n",
      "[CV]  subsample=0.7, reg_lambda=10, max_depth=6, gamma=5, colsample_bytree=0.8, score=0.997, total= 3.1min\n",
      "[CV] subsample=0.7, reg_lambda=10, max_depth=6, gamma=5, colsample_bytree=0.8 \n",
      "[CV]  subsample=0.7, reg_lambda=10, max_depth=6, gamma=5, colsample_bytree=0.8, score=0.998, total= 3.1min\n",
      "[CV] subsample=0.7, reg_lambda=10, max_depth=6, gamma=5, colsample_bytree=0.8 \n",
      "[CV]  subsample=0.7, reg_lambda=10, max_depth=6, gamma=5, colsample_bytree=0.8, score=0.997, total= 3.1min\n",
      "[CV] subsample=0.7, reg_lambda=10, max_depth=6, gamma=5, colsample_bytree=0.8 \n",
      "[CV]  subsample=0.7, reg_lambda=10, max_depth=6, gamma=5, colsample_bytree=0.8, score=0.998, total= 3.1min\n",
      "[CV] subsample=0.5, reg_lambda=1, max_depth=14, gamma=1, colsample_bytree=0.8 \n",
      "[CV]  subsample=0.5, reg_lambda=1, max_depth=14, gamma=1, colsample_bytree=0.8, score=0.778, total= 6.7min\n",
      "[CV] subsample=0.5, reg_lambda=1, max_depth=14, gamma=1, colsample_bytree=0.8 \n",
      "[CV]  subsample=0.5, reg_lambda=1, max_depth=14, gamma=1, colsample_bytree=0.8, score=0.997, total= 7.4min\n",
      "[CV] subsample=0.5, reg_lambda=1, max_depth=14, gamma=1, colsample_bytree=0.8 \n",
      "[CV]  subsample=0.5, reg_lambda=1, max_depth=14, gamma=1, colsample_bytree=0.8, score=0.998, total= 9.0min\n",
      "[CV] subsample=0.5, reg_lambda=1, max_depth=14, gamma=1, colsample_bytree=0.8 \n",
      "[CV]  subsample=0.5, reg_lambda=1, max_depth=14, gamma=1, colsample_bytree=0.8, score=0.997, total= 8.6min\n",
      "[CV] subsample=0.5, reg_lambda=1, max_depth=14, gamma=1, colsample_bytree=0.8 \n",
      "[CV]  subsample=0.5, reg_lambda=1, max_depth=14, gamma=1, colsample_bytree=0.8, score=0.998, total= 8.7min\n",
      "[CV] subsample=0.8, reg_lambda=5, max_depth=8, gamma=5, colsample_bytree=0.8 \n",
      "[CV]  subsample=0.8, reg_lambda=5, max_depth=8, gamma=5, colsample_bytree=0.8, score=0.777, total= 5.0min\n",
      "[CV] subsample=0.8, reg_lambda=5, max_depth=8, gamma=5, colsample_bytree=0.8 \n",
      "[CV]  subsample=0.8, reg_lambda=5, max_depth=8, gamma=5, colsample_bytree=0.8, score=0.998, total= 5.1min\n",
      "[CV] subsample=0.8, reg_lambda=5, max_depth=8, gamma=5, colsample_bytree=0.8 \n",
      "[CV]  subsample=0.8, reg_lambda=5, max_depth=8, gamma=5, colsample_bytree=0.8, score=0.998, total= 4.5min\n",
      "[CV] subsample=0.8, reg_lambda=5, max_depth=8, gamma=5, colsample_bytree=0.8 \n",
      "[CV]  subsample=0.8, reg_lambda=5, max_depth=8, gamma=5, colsample_bytree=0.8, score=0.998, total= 4.8min\n",
      "[CV] subsample=0.8, reg_lambda=5, max_depth=8, gamma=5, colsample_bytree=0.8 \n",
      "[CV]  subsample=0.8, reg_lambda=5, max_depth=8, gamma=5, colsample_bytree=0.8, score=0.998, total= 4.6min\n",
      "[CV] subsample=0.9, reg_lambda=5, max_depth=12, gamma=1, colsample_bytree=0.9 \n",
      "[CV]  subsample=0.9, reg_lambda=5, max_depth=12, gamma=1, colsample_bytree=0.9, score=0.778, total= 8.2min\n",
      "[CV] subsample=0.9, reg_lambda=5, max_depth=12, gamma=1, colsample_bytree=0.9 \n",
      "[CV]  subsample=0.9, reg_lambda=5, max_depth=12, gamma=1, colsample_bytree=0.9, score=0.998, total= 8.2min\n",
      "[CV] subsample=0.9, reg_lambda=5, max_depth=12, gamma=1, colsample_bytree=0.9 \n",
      "[CV]  subsample=0.9, reg_lambda=5, max_depth=12, gamma=1, colsample_bytree=0.9, score=0.998, total= 7.0min\n",
      "[CV] subsample=0.9, reg_lambda=5, max_depth=12, gamma=1, colsample_bytree=0.9 \n",
      "[CV]  subsample=0.9, reg_lambda=5, max_depth=12, gamma=1, colsample_bytree=0.9, score=0.998, total= 6.7min\n",
      "[CV] subsample=0.9, reg_lambda=5, max_depth=12, gamma=1, colsample_bytree=0.9 \n",
      "[CV]  subsample=0.9, reg_lambda=5, max_depth=12, gamma=1, colsample_bytree=0.9, score=0.999, total= 6.8min\n",
      "[CV] subsample=0.5, reg_lambda=5, max_depth=12, gamma=3, colsample_bytree=0.6 \n",
      "[CV]  subsample=0.5, reg_lambda=5, max_depth=12, gamma=3, colsample_bytree=0.6, score=0.777, total= 4.6min\n",
      "[CV] subsample=0.5, reg_lambda=5, max_depth=12, gamma=3, colsample_bytree=0.6 \n",
      "[CV]  subsample=0.5, reg_lambda=5, max_depth=12, gamma=3, colsample_bytree=0.6, score=0.998, total= 5.0min\n",
      "[CV] subsample=0.5, reg_lambda=5, max_depth=12, gamma=3, colsample_bytree=0.6 \n",
      "[CV]  subsample=0.5, reg_lambda=5, max_depth=12, gamma=3, colsample_bytree=0.6, score=0.998, total= 5.7min\n",
      "[CV] subsample=0.5, reg_lambda=5, max_depth=12, gamma=3, colsample_bytree=0.6 \n",
      "[CV]  subsample=0.5, reg_lambda=5, max_depth=12, gamma=3, colsample_bytree=0.6, score=0.998, total= 5.9min\n",
      "[CV] subsample=0.5, reg_lambda=5, max_depth=12, gamma=3, colsample_bytree=0.6 \n",
      "[CV]  subsample=0.5, reg_lambda=5, max_depth=12, gamma=3, colsample_bytree=0.6, score=0.998, total= 6.4min\n",
      "[CV] subsample=0.8, reg_lambda=5, max_depth=6, gamma=1, colsample_bytree=0.9 \n",
      "[CV]  subsample=0.8, reg_lambda=5, max_depth=6, gamma=1, colsample_bytree=0.9, score=0.776, total= 4.0min\n",
      "[CV] subsample=0.8, reg_lambda=5, max_depth=6, gamma=1, colsample_bytree=0.9 \n",
      "[CV]  subsample=0.8, reg_lambda=5, max_depth=6, gamma=1, colsample_bytree=0.9, score=0.998, total= 3.7min\n",
      "[CV] subsample=0.8, reg_lambda=5, max_depth=6, gamma=1, colsample_bytree=0.9 \n",
      "[CV]  subsample=0.8, reg_lambda=5, max_depth=6, gamma=1, colsample_bytree=0.9, score=0.998, total= 4.9min\n",
      "[CV] subsample=0.8, reg_lambda=5, max_depth=6, gamma=1, colsample_bytree=0.9 \n",
      "[CV]  subsample=0.8, reg_lambda=5, max_depth=6, gamma=1, colsample_bytree=0.9, score=0.997, total= 8.4min\n",
      "[CV] subsample=0.8, reg_lambda=5, max_depth=6, gamma=1, colsample_bytree=0.9 \n",
      "[CV]  subsample=0.8, reg_lambda=5, max_depth=6, gamma=1, colsample_bytree=0.9, score=0.998, total= 7.4min\n",
      "[CV] subsample=0.5, reg_lambda=5, max_depth=10, gamma=3, colsample_bytree=0.9 \n",
      "[CV]  subsample=0.5, reg_lambda=5, max_depth=10, gamma=3, colsample_bytree=0.9, score=0.777, total= 6.8min\n",
      "[CV] subsample=0.5, reg_lambda=5, max_depth=10, gamma=3, colsample_bytree=0.9 \n",
      "[CV]  subsample=0.5, reg_lambda=5, max_depth=10, gamma=3, colsample_bytree=0.9, score=0.997, total= 7.1min\n",
      "[CV] subsample=0.5, reg_lambda=5, max_depth=10, gamma=3, colsample_bytree=0.9 \n",
      "[CV]  subsample=0.5, reg_lambda=5, max_depth=10, gamma=3, colsample_bytree=0.9, score=0.998, total= 6.4min\n",
      "[CV] subsample=0.5, reg_lambda=5, max_depth=10, gamma=3, colsample_bytree=0.9 \n",
      "[CV]  subsample=0.5, reg_lambda=5, max_depth=10, gamma=3, colsample_bytree=0.9, score=0.998, total= 5.8min\n",
      "[CV] subsample=0.5, reg_lambda=5, max_depth=10, gamma=3, colsample_bytree=0.9 \n",
      "[CV]  subsample=0.5, reg_lambda=5, max_depth=10, gamma=3, colsample_bytree=0.9, score=0.998, total= 6.0min\n",
      "[CV] subsample=0.7, reg_lambda=5, max_depth=14, gamma=5, colsample_bytree=0.6 \n",
      "[CV]  subsample=0.7, reg_lambda=5, max_depth=14, gamma=5, colsample_bytree=0.6, score=0.778, total= 6.0min\n",
      "[CV] subsample=0.7, reg_lambda=5, max_depth=14, gamma=5, colsample_bytree=0.6 \n",
      "[CV]  subsample=0.7, reg_lambda=5, max_depth=14, gamma=5, colsample_bytree=0.6, score=0.998, total= 6.9min\n",
      "[CV] subsample=0.7, reg_lambda=5, max_depth=14, gamma=5, colsample_bytree=0.6 \n",
      "[CV]  subsample=0.7, reg_lambda=5, max_depth=14, gamma=5, colsample_bytree=0.6, score=0.998, total= 6.2min\n",
      "[CV] subsample=0.7, reg_lambda=5, max_depth=14, gamma=5, colsample_bytree=0.6 \n",
      "[CV]  subsample=0.7, reg_lambda=5, max_depth=14, gamma=5, colsample_bytree=0.6, score=0.998, total= 5.9min\n",
      "[CV] subsample=0.7, reg_lambda=5, max_depth=14, gamma=5, colsample_bytree=0.6 \n",
      "[CV]  subsample=0.7, reg_lambda=5, max_depth=14, gamma=5, colsample_bytree=0.6, score=0.998, total= 6.5min\n",
      "[CV] subsample=0.5, reg_lambda=1, max_depth=14, gamma=5, colsample_bytree=0.6 \n",
      "[CV]  subsample=0.5, reg_lambda=1, max_depth=14, gamma=5, colsample_bytree=0.6, score=0.778, total= 5.9min\n",
      "[CV] subsample=0.5, reg_lambda=1, max_depth=14, gamma=5, colsample_bytree=0.6 \n",
      "[CV]  subsample=0.5, reg_lambda=1, max_depth=14, gamma=5, colsample_bytree=0.6, score=0.998, total= 5.7min\n",
      "[CV] subsample=0.5, reg_lambda=1, max_depth=14, gamma=5, colsample_bytree=0.6 \n",
      "[CV]  subsample=0.5, reg_lambda=1, max_depth=14, gamma=5, colsample_bytree=0.6, score=0.998, total=10.5min\n",
      "[CV] subsample=0.5, reg_lambda=1, max_depth=14, gamma=5, colsample_bytree=0.6 \n",
      "[CV]  subsample=0.5, reg_lambda=1, max_depth=14, gamma=5, colsample_bytree=0.6, score=0.998, total=15.1min\n",
      "[CV] subsample=0.5, reg_lambda=1, max_depth=14, gamma=5, colsample_bytree=0.6 \n"
     ]
    },
    {
     "name": "stdout",
     "output_type": "stream",
     "text": [
      "[CV]  subsample=0.5, reg_lambda=1, max_depth=14, gamma=5, colsample_bytree=0.6, score=0.998, total= 5.8min\n",
      "[CV] subsample=0.5, reg_lambda=10, max_depth=4, gamma=5, colsample_bytree=0.9 \n",
      "[CV]  subsample=0.5, reg_lambda=10, max_depth=4, gamma=5, colsample_bytree=0.9, score=0.773, total= 2.5min\n",
      "[CV] subsample=0.5, reg_lambda=10, max_depth=4, gamma=5, colsample_bytree=0.9 \n",
      "[CV]  subsample=0.5, reg_lambda=10, max_depth=4, gamma=5, colsample_bytree=0.9, score=0.995, total= 2.4min\n",
      "[CV] subsample=0.5, reg_lambda=10, max_depth=4, gamma=5, colsample_bytree=0.9 \n",
      "[CV]  subsample=0.5, reg_lambda=10, max_depth=4, gamma=5, colsample_bytree=0.9, score=0.996, total= 2.5min\n",
      "[CV] subsample=0.5, reg_lambda=10, max_depth=4, gamma=5, colsample_bytree=0.9 \n",
      "[CV]  subsample=0.5, reg_lambda=10, max_depth=4, gamma=5, colsample_bytree=0.9, score=0.995, total= 2.5min\n",
      "[CV] subsample=0.5, reg_lambda=10, max_depth=4, gamma=5, colsample_bytree=0.9 \n",
      "[CV]  subsample=0.5, reg_lambda=10, max_depth=4, gamma=5, colsample_bytree=0.9, score=0.996, total= 2.5min\n",
      "[CV] subsample=0.9, reg_lambda=1, max_depth=6, gamma=1, colsample_bytree=0.8 \n",
      "[CV]  subsample=0.9, reg_lambda=1, max_depth=6, gamma=1, colsample_bytree=0.8, score=0.776, total= 2.8min\n",
      "[CV] subsample=0.9, reg_lambda=1, max_depth=6, gamma=1, colsample_bytree=0.8 \n",
      "[CV]  subsample=0.9, reg_lambda=1, max_depth=6, gamma=1, colsample_bytree=0.8, score=0.997, total= 2.8min\n",
      "[CV] subsample=0.9, reg_lambda=1, max_depth=6, gamma=1, colsample_bytree=0.8 \n",
      "[CV]  subsample=0.9, reg_lambda=1, max_depth=6, gamma=1, colsample_bytree=0.8, score=0.998, total= 2.8min\n",
      "[CV] subsample=0.9, reg_lambda=1, max_depth=6, gamma=1, colsample_bytree=0.8 \n",
      "[CV]  subsample=0.9, reg_lambda=1, max_depth=6, gamma=1, colsample_bytree=0.8, score=0.997, total= 2.8min\n",
      "[CV] subsample=0.9, reg_lambda=1, max_depth=6, gamma=1, colsample_bytree=0.8 \n",
      "[CV]  subsample=0.9, reg_lambda=1, max_depth=6, gamma=1, colsample_bytree=0.8, score=0.998, total= 2.8min\n",
      "[CV] subsample=0.8, reg_lambda=1, max_depth=4, gamma=5, colsample_bytree=0.8 \n",
      "[CV]  subsample=0.8, reg_lambda=1, max_depth=4, gamma=5, colsample_bytree=0.8, score=0.774, total= 5.2min\n",
      "[CV] subsample=0.8, reg_lambda=1, max_depth=4, gamma=5, colsample_bytree=0.8 \n",
      "[CV]  subsample=0.8, reg_lambda=1, max_depth=4, gamma=5, colsample_bytree=0.8, score=0.996, total= 5.2min\n",
      "[CV] subsample=0.8, reg_lambda=1, max_depth=4, gamma=5, colsample_bytree=0.8 \n",
      "[CV]  subsample=0.8, reg_lambda=1, max_depth=4, gamma=5, colsample_bytree=0.8, score=0.996, total= 5.2min\n",
      "[CV] subsample=0.8, reg_lambda=1, max_depth=4, gamma=5, colsample_bytree=0.8 \n",
      "[CV]  subsample=0.8, reg_lambda=1, max_depth=4, gamma=5, colsample_bytree=0.8, score=0.996, total= 5.2min\n",
      "[CV] subsample=0.8, reg_lambda=1, max_depth=4, gamma=5, colsample_bytree=0.8 \n",
      "[CV]  subsample=0.8, reg_lambda=1, max_depth=4, gamma=5, colsample_bytree=0.8, score=0.997, total= 5.1min\n",
      "[CV] subsample=0.9, reg_lambda=5, max_depth=14, gamma=3, colsample_bytree=0.9 \n",
      "[CV]  subsample=0.9, reg_lambda=5, max_depth=14, gamma=3, colsample_bytree=0.9, score=0.778, total=19.6min\n",
      "[CV] subsample=0.9, reg_lambda=5, max_depth=14, gamma=3, colsample_bytree=0.9 \n",
      "[CV]  subsample=0.9, reg_lambda=5, max_depth=14, gamma=3, colsample_bytree=0.9, score=0.998, total=10.8min\n",
      "[CV] subsample=0.9, reg_lambda=5, max_depth=14, gamma=3, colsample_bytree=0.9 \n",
      "[CV]  subsample=0.9, reg_lambda=5, max_depth=14, gamma=3, colsample_bytree=0.9, score=0.998, total= 9.9min\n",
      "[CV] subsample=0.9, reg_lambda=5, max_depth=14, gamma=3, colsample_bytree=0.9 \n",
      "[CV]  subsample=0.9, reg_lambda=5, max_depth=14, gamma=3, colsample_bytree=0.9, score=0.998, total=10.0min\n",
      "[CV] subsample=0.9, reg_lambda=5, max_depth=14, gamma=3, colsample_bytree=0.9 \n",
      "[CV]  subsample=0.9, reg_lambda=5, max_depth=14, gamma=3, colsample_bytree=0.9, score=0.998, total=10.2min\n",
      "[CV] subsample=0.5, reg_lambda=5, max_depth=4, gamma=1, colsample_bytree=0.8 \n",
      "[CV]  subsample=0.5, reg_lambda=5, max_depth=4, gamma=1, colsample_bytree=0.8, score=0.773, total= 2.3min\n",
      "[CV] subsample=0.5, reg_lambda=5, max_depth=4, gamma=1, colsample_bytree=0.8 \n",
      "[CV]  subsample=0.5, reg_lambda=5, max_depth=4, gamma=1, colsample_bytree=0.8, score=0.995, total= 2.3min\n",
      "[CV] subsample=0.5, reg_lambda=5, max_depth=4, gamma=1, colsample_bytree=0.8 \n",
      "[CV]  subsample=0.5, reg_lambda=5, max_depth=4, gamma=1, colsample_bytree=0.8, score=0.996, total= 2.3min\n",
      "[CV] subsample=0.5, reg_lambda=5, max_depth=4, gamma=1, colsample_bytree=0.8 \n",
      "[CV]  subsample=0.5, reg_lambda=5, max_depth=4, gamma=1, colsample_bytree=0.8, score=0.995, total= 2.2min\n",
      "[CV] subsample=0.5, reg_lambda=5, max_depth=4, gamma=1, colsample_bytree=0.8 \n",
      "[CV]  subsample=0.5, reg_lambda=5, max_depth=4, gamma=1, colsample_bytree=0.8, score=0.995, total= 2.2min\n",
      "[CV] subsample=0.9, reg_lambda=10, max_depth=14, gamma=5, colsample_bytree=0.9 \n"
     ]
    },
    {
     "ename": "KeyboardInterrupt",
     "evalue": "",
     "output_type": "error",
     "traceback": [
      "\u001b[1;31m---------------------------------------------------------------------------\u001b[0m",
      "\u001b[1;31mKeyboardInterrupt\u001b[0m                         Traceback (most recent call last)",
      "\u001b[1;32m<ipython-input-23-227d99c26e3a>\u001b[0m in \u001b[0;36m<module>\u001b[1;34m\u001b[0m\n\u001b[1;32m----> 1\u001b[1;33m \u001b[0mrandom\u001b[0m\u001b[1;33m.\u001b[0m\u001b[0mfit\u001b[0m\u001b[1;33m(\u001b[0m\u001b[0mx_train\u001b[0m\u001b[1;33m,\u001b[0m\u001b[0my_train\u001b[0m\u001b[1;33m)\u001b[0m\u001b[1;33m\u001b[0m\u001b[1;33m\u001b[0m\u001b[0m\n\u001b[0m",
      "\u001b[1;32m~\\anaconda3\\lib\\site-packages\\sklearn\\model_selection\\_search.py\u001b[0m in \u001b[0;36mfit\u001b[1;34m(self, X, y, groups, **fit_params)\u001b[0m\n\u001b[0;32m    708\u001b[0m                 \u001b[1;32mreturn\u001b[0m \u001b[0mresults\u001b[0m\u001b[1;33m\u001b[0m\u001b[1;33m\u001b[0m\u001b[0m\n\u001b[0;32m    709\u001b[0m \u001b[1;33m\u001b[0m\u001b[0m\n\u001b[1;32m--> 710\u001b[1;33m             \u001b[0mself\u001b[0m\u001b[1;33m.\u001b[0m\u001b[0m_run_search\u001b[0m\u001b[1;33m(\u001b[0m\u001b[0mevaluate_candidates\u001b[0m\u001b[1;33m)\u001b[0m\u001b[1;33m\u001b[0m\u001b[1;33m\u001b[0m\u001b[0m\n\u001b[0m\u001b[0;32m    711\u001b[0m \u001b[1;33m\u001b[0m\u001b[0m\n\u001b[0;32m    712\u001b[0m         \u001b[1;31m# For multi-metric evaluation, store the best_index_, best_params_ and\u001b[0m\u001b[1;33m\u001b[0m\u001b[1;33m\u001b[0m\u001b[1;33m\u001b[0m\u001b[0m\n",
      "\u001b[1;32m~\\anaconda3\\lib\\site-packages\\sklearn\\model_selection\\_search.py\u001b[0m in \u001b[0;36m_run_search\u001b[1;34m(self, evaluate_candidates)\u001b[0m\n\u001b[0;32m   1482\u001b[0m         evaluate_candidates(ParameterSampler(\n\u001b[0;32m   1483\u001b[0m             \u001b[0mself\u001b[0m\u001b[1;33m.\u001b[0m\u001b[0mparam_distributions\u001b[0m\u001b[1;33m,\u001b[0m \u001b[0mself\u001b[0m\u001b[1;33m.\u001b[0m\u001b[0mn_iter\u001b[0m\u001b[1;33m,\u001b[0m\u001b[1;33m\u001b[0m\u001b[1;33m\u001b[0m\u001b[0m\n\u001b[1;32m-> 1484\u001b[1;33m             random_state=self.random_state))\n\u001b[0m",
      "\u001b[1;32m~\\anaconda3\\lib\\site-packages\\sklearn\\model_selection\\_search.py\u001b[0m in \u001b[0;36mevaluate_candidates\u001b[1;34m(candidate_params)\u001b[0m\n\u001b[0;32m    687\u001b[0m                                \u001b[1;32mfor\u001b[0m \u001b[0mparameters\u001b[0m\u001b[1;33m,\u001b[0m \u001b[1;33m(\u001b[0m\u001b[0mtrain\u001b[0m\u001b[1;33m,\u001b[0m \u001b[0mtest\u001b[0m\u001b[1;33m)\u001b[0m\u001b[1;33m\u001b[0m\u001b[1;33m\u001b[0m\u001b[0m\n\u001b[0;32m    688\u001b[0m                                in product(candidate_params,\n\u001b[1;32m--> 689\u001b[1;33m                                           cv.split(X, y, groups)))\n\u001b[0m\u001b[0;32m    690\u001b[0m \u001b[1;33m\u001b[0m\u001b[0m\n\u001b[0;32m    691\u001b[0m                 \u001b[1;32mif\u001b[0m \u001b[0mlen\u001b[0m\u001b[1;33m(\u001b[0m\u001b[0mout\u001b[0m\u001b[1;33m)\u001b[0m \u001b[1;33m<\u001b[0m \u001b[1;36m1\u001b[0m\u001b[1;33m:\u001b[0m\u001b[1;33m\u001b[0m\u001b[1;33m\u001b[0m\u001b[0m\n",
      "\u001b[1;32m~\\anaconda3\\lib\\site-packages\\joblib\\parallel.py\u001b[0m in \u001b[0;36m__call__\u001b[1;34m(self, iterable)\u001b[0m\n\u001b[0;32m   1005\u001b[0m                 \u001b[0mself\u001b[0m\u001b[1;33m.\u001b[0m\u001b[0m_iterating\u001b[0m \u001b[1;33m=\u001b[0m \u001b[0mself\u001b[0m\u001b[1;33m.\u001b[0m\u001b[0m_original_iterator\u001b[0m \u001b[1;32mis\u001b[0m \u001b[1;32mnot\u001b[0m \u001b[1;32mNone\u001b[0m\u001b[1;33m\u001b[0m\u001b[1;33m\u001b[0m\u001b[0m\n\u001b[0;32m   1006\u001b[0m \u001b[1;33m\u001b[0m\u001b[0m\n\u001b[1;32m-> 1007\u001b[1;33m             \u001b[1;32mwhile\u001b[0m \u001b[0mself\u001b[0m\u001b[1;33m.\u001b[0m\u001b[0mdispatch_one_batch\u001b[0m\u001b[1;33m(\u001b[0m\u001b[0miterator\u001b[0m\u001b[1;33m)\u001b[0m\u001b[1;33m:\u001b[0m\u001b[1;33m\u001b[0m\u001b[1;33m\u001b[0m\u001b[0m\n\u001b[0m\u001b[0;32m   1008\u001b[0m                 \u001b[1;32mpass\u001b[0m\u001b[1;33m\u001b[0m\u001b[1;33m\u001b[0m\u001b[0m\n\u001b[0;32m   1009\u001b[0m \u001b[1;33m\u001b[0m\u001b[0m\n",
      "\u001b[1;32m~\\anaconda3\\lib\\site-packages\\joblib\\parallel.py\u001b[0m in \u001b[0;36mdispatch_one_batch\u001b[1;34m(self, iterator)\u001b[0m\n\u001b[0;32m    833\u001b[0m                 \u001b[1;32mreturn\u001b[0m \u001b[1;32mFalse\u001b[0m\u001b[1;33m\u001b[0m\u001b[1;33m\u001b[0m\u001b[0m\n\u001b[0;32m    834\u001b[0m             \u001b[1;32melse\u001b[0m\u001b[1;33m:\u001b[0m\u001b[1;33m\u001b[0m\u001b[1;33m\u001b[0m\u001b[0m\n\u001b[1;32m--> 835\u001b[1;33m                 \u001b[0mself\u001b[0m\u001b[1;33m.\u001b[0m\u001b[0m_dispatch\u001b[0m\u001b[1;33m(\u001b[0m\u001b[0mtasks\u001b[0m\u001b[1;33m)\u001b[0m\u001b[1;33m\u001b[0m\u001b[1;33m\u001b[0m\u001b[0m\n\u001b[0m\u001b[0;32m    836\u001b[0m                 \u001b[1;32mreturn\u001b[0m \u001b[1;32mTrue\u001b[0m\u001b[1;33m\u001b[0m\u001b[1;33m\u001b[0m\u001b[0m\n\u001b[0;32m    837\u001b[0m \u001b[1;33m\u001b[0m\u001b[0m\n",
      "\u001b[1;32m~\\anaconda3\\lib\\site-packages\\joblib\\parallel.py\u001b[0m in \u001b[0;36m_dispatch\u001b[1;34m(self, batch)\u001b[0m\n\u001b[0;32m    752\u001b[0m         \u001b[1;32mwith\u001b[0m \u001b[0mself\u001b[0m\u001b[1;33m.\u001b[0m\u001b[0m_lock\u001b[0m\u001b[1;33m:\u001b[0m\u001b[1;33m\u001b[0m\u001b[1;33m\u001b[0m\u001b[0m\n\u001b[0;32m    753\u001b[0m             \u001b[0mjob_idx\u001b[0m \u001b[1;33m=\u001b[0m \u001b[0mlen\u001b[0m\u001b[1;33m(\u001b[0m\u001b[0mself\u001b[0m\u001b[1;33m.\u001b[0m\u001b[0m_jobs\u001b[0m\u001b[1;33m)\u001b[0m\u001b[1;33m\u001b[0m\u001b[1;33m\u001b[0m\u001b[0m\n\u001b[1;32m--> 754\u001b[1;33m             \u001b[0mjob\u001b[0m \u001b[1;33m=\u001b[0m \u001b[0mself\u001b[0m\u001b[1;33m.\u001b[0m\u001b[0m_backend\u001b[0m\u001b[1;33m.\u001b[0m\u001b[0mapply_async\u001b[0m\u001b[1;33m(\u001b[0m\u001b[0mbatch\u001b[0m\u001b[1;33m,\u001b[0m \u001b[0mcallback\u001b[0m\u001b[1;33m=\u001b[0m\u001b[0mcb\u001b[0m\u001b[1;33m)\u001b[0m\u001b[1;33m\u001b[0m\u001b[1;33m\u001b[0m\u001b[0m\n\u001b[0m\u001b[0;32m    755\u001b[0m             \u001b[1;31m# A job can complete so quickly than its callback is\u001b[0m\u001b[1;33m\u001b[0m\u001b[1;33m\u001b[0m\u001b[1;33m\u001b[0m\u001b[0m\n\u001b[0;32m    756\u001b[0m             \u001b[1;31m# called before we get here, causing self._jobs to\u001b[0m\u001b[1;33m\u001b[0m\u001b[1;33m\u001b[0m\u001b[1;33m\u001b[0m\u001b[0m\n",
      "\u001b[1;32m~\\anaconda3\\lib\\site-packages\\joblib\\_parallel_backends.py\u001b[0m in \u001b[0;36mapply_async\u001b[1;34m(self, func, callback)\u001b[0m\n\u001b[0;32m    207\u001b[0m     \u001b[1;32mdef\u001b[0m \u001b[0mapply_async\u001b[0m\u001b[1;33m(\u001b[0m\u001b[0mself\u001b[0m\u001b[1;33m,\u001b[0m \u001b[0mfunc\u001b[0m\u001b[1;33m,\u001b[0m \u001b[0mcallback\u001b[0m\u001b[1;33m=\u001b[0m\u001b[1;32mNone\u001b[0m\u001b[1;33m)\u001b[0m\u001b[1;33m:\u001b[0m\u001b[1;33m\u001b[0m\u001b[1;33m\u001b[0m\u001b[0m\n\u001b[0;32m    208\u001b[0m         \u001b[1;34m\"\"\"Schedule a func to be run\"\"\"\u001b[0m\u001b[1;33m\u001b[0m\u001b[1;33m\u001b[0m\u001b[0m\n\u001b[1;32m--> 209\u001b[1;33m         \u001b[0mresult\u001b[0m \u001b[1;33m=\u001b[0m \u001b[0mImmediateResult\u001b[0m\u001b[1;33m(\u001b[0m\u001b[0mfunc\u001b[0m\u001b[1;33m)\u001b[0m\u001b[1;33m\u001b[0m\u001b[1;33m\u001b[0m\u001b[0m\n\u001b[0m\u001b[0;32m    210\u001b[0m         \u001b[1;32mif\u001b[0m \u001b[0mcallback\u001b[0m\u001b[1;33m:\u001b[0m\u001b[1;33m\u001b[0m\u001b[1;33m\u001b[0m\u001b[0m\n\u001b[0;32m    211\u001b[0m             \u001b[0mcallback\u001b[0m\u001b[1;33m(\u001b[0m\u001b[0mresult\u001b[0m\u001b[1;33m)\u001b[0m\u001b[1;33m\u001b[0m\u001b[1;33m\u001b[0m\u001b[0m\n",
      "\u001b[1;32m~\\anaconda3\\lib\\site-packages\\joblib\\_parallel_backends.py\u001b[0m in \u001b[0;36m__init__\u001b[1;34m(self, batch)\u001b[0m\n\u001b[0;32m    588\u001b[0m         \u001b[1;31m# Don't delay the application, to avoid keeping the input\u001b[0m\u001b[1;33m\u001b[0m\u001b[1;33m\u001b[0m\u001b[1;33m\u001b[0m\u001b[0m\n\u001b[0;32m    589\u001b[0m         \u001b[1;31m# arguments in memory\u001b[0m\u001b[1;33m\u001b[0m\u001b[1;33m\u001b[0m\u001b[1;33m\u001b[0m\u001b[0m\n\u001b[1;32m--> 590\u001b[1;33m         \u001b[0mself\u001b[0m\u001b[1;33m.\u001b[0m\u001b[0mresults\u001b[0m \u001b[1;33m=\u001b[0m \u001b[0mbatch\u001b[0m\u001b[1;33m(\u001b[0m\u001b[1;33m)\u001b[0m\u001b[1;33m\u001b[0m\u001b[1;33m\u001b[0m\u001b[0m\n\u001b[0m\u001b[0;32m    591\u001b[0m \u001b[1;33m\u001b[0m\u001b[0m\n\u001b[0;32m    592\u001b[0m     \u001b[1;32mdef\u001b[0m \u001b[0mget\u001b[0m\u001b[1;33m(\u001b[0m\u001b[0mself\u001b[0m\u001b[1;33m)\u001b[0m\u001b[1;33m:\u001b[0m\u001b[1;33m\u001b[0m\u001b[1;33m\u001b[0m\u001b[0m\n",
      "\u001b[1;32m~\\anaconda3\\lib\\site-packages\\joblib\\parallel.py\u001b[0m in \u001b[0;36m__call__\u001b[1;34m(self)\u001b[0m\n\u001b[0;32m    254\u001b[0m         \u001b[1;32mwith\u001b[0m \u001b[0mparallel_backend\u001b[0m\u001b[1;33m(\u001b[0m\u001b[0mself\u001b[0m\u001b[1;33m.\u001b[0m\u001b[0m_backend\u001b[0m\u001b[1;33m,\u001b[0m \u001b[0mn_jobs\u001b[0m\u001b[1;33m=\u001b[0m\u001b[0mself\u001b[0m\u001b[1;33m.\u001b[0m\u001b[0m_n_jobs\u001b[0m\u001b[1;33m)\u001b[0m\u001b[1;33m:\u001b[0m\u001b[1;33m\u001b[0m\u001b[1;33m\u001b[0m\u001b[0m\n\u001b[0;32m    255\u001b[0m             return [func(*args, **kwargs)\n\u001b[1;32m--> 256\u001b[1;33m                     for func, args, kwargs in self.items]\n\u001b[0m\u001b[0;32m    257\u001b[0m \u001b[1;33m\u001b[0m\u001b[0m\n\u001b[0;32m    258\u001b[0m     \u001b[1;32mdef\u001b[0m \u001b[0m__len__\u001b[0m\u001b[1;33m(\u001b[0m\u001b[0mself\u001b[0m\u001b[1;33m)\u001b[0m\u001b[1;33m:\u001b[0m\u001b[1;33m\u001b[0m\u001b[1;33m\u001b[0m\u001b[0m\n",
      "\u001b[1;32m~\\anaconda3\\lib\\site-packages\\joblib\\parallel.py\u001b[0m in \u001b[0;36m<listcomp>\u001b[1;34m(.0)\u001b[0m\n\u001b[0;32m    254\u001b[0m         \u001b[1;32mwith\u001b[0m \u001b[0mparallel_backend\u001b[0m\u001b[1;33m(\u001b[0m\u001b[0mself\u001b[0m\u001b[1;33m.\u001b[0m\u001b[0m_backend\u001b[0m\u001b[1;33m,\u001b[0m \u001b[0mn_jobs\u001b[0m\u001b[1;33m=\u001b[0m\u001b[0mself\u001b[0m\u001b[1;33m.\u001b[0m\u001b[0m_n_jobs\u001b[0m\u001b[1;33m)\u001b[0m\u001b[1;33m:\u001b[0m\u001b[1;33m\u001b[0m\u001b[1;33m\u001b[0m\u001b[0m\n\u001b[0;32m    255\u001b[0m             return [func(*args, **kwargs)\n\u001b[1;32m--> 256\u001b[1;33m                     for func, args, kwargs in self.items]\n\u001b[0m\u001b[0;32m    257\u001b[0m \u001b[1;33m\u001b[0m\u001b[0m\n\u001b[0;32m    258\u001b[0m     \u001b[1;32mdef\u001b[0m \u001b[0m__len__\u001b[0m\u001b[1;33m(\u001b[0m\u001b[0mself\u001b[0m\u001b[1;33m)\u001b[0m\u001b[1;33m:\u001b[0m\u001b[1;33m\u001b[0m\u001b[1;33m\u001b[0m\u001b[0m\n",
      "\u001b[1;32m~\\anaconda3\\lib\\site-packages\\sklearn\\model_selection\\_validation.py\u001b[0m in \u001b[0;36m_fit_and_score\u001b[1;34m(estimator, X, y, scorer, train, test, verbose, parameters, fit_params, return_train_score, return_parameters, return_n_test_samples, return_times, return_estimator, error_score)\u001b[0m\n\u001b[0;32m    513\u001b[0m             \u001b[0mestimator\u001b[0m\u001b[1;33m.\u001b[0m\u001b[0mfit\u001b[0m\u001b[1;33m(\u001b[0m\u001b[0mX_train\u001b[0m\u001b[1;33m,\u001b[0m \u001b[1;33m**\u001b[0m\u001b[0mfit_params\u001b[0m\u001b[1;33m)\u001b[0m\u001b[1;33m\u001b[0m\u001b[1;33m\u001b[0m\u001b[0m\n\u001b[0;32m    514\u001b[0m         \u001b[1;32melse\u001b[0m\u001b[1;33m:\u001b[0m\u001b[1;33m\u001b[0m\u001b[1;33m\u001b[0m\u001b[0m\n\u001b[1;32m--> 515\u001b[1;33m             \u001b[0mestimator\u001b[0m\u001b[1;33m.\u001b[0m\u001b[0mfit\u001b[0m\u001b[1;33m(\u001b[0m\u001b[0mX_train\u001b[0m\u001b[1;33m,\u001b[0m \u001b[0my_train\u001b[0m\u001b[1;33m,\u001b[0m \u001b[1;33m**\u001b[0m\u001b[0mfit_params\u001b[0m\u001b[1;33m)\u001b[0m\u001b[1;33m\u001b[0m\u001b[1;33m\u001b[0m\u001b[0m\n\u001b[0m\u001b[0;32m    516\u001b[0m \u001b[1;33m\u001b[0m\u001b[0m\n\u001b[0;32m    517\u001b[0m     \u001b[1;32mexcept\u001b[0m \u001b[0mException\u001b[0m \u001b[1;32mas\u001b[0m \u001b[0me\u001b[0m\u001b[1;33m:\u001b[0m\u001b[1;33m\u001b[0m\u001b[1;33m\u001b[0m\u001b[0m\n",
      "\u001b[1;32m~\\anaconda3\\lib\\site-packages\\xgboost\\sklearn.py\u001b[0m in \u001b[0;36mfit\u001b[1;34m(self, X, y, sample_weight, eval_set, eval_metric, early_stopping_rounds, verbose, xgb_model, sample_weight_eval_set, callbacks)\u001b[0m\n\u001b[0;32m    730\u001b[0m                               \u001b[0mevals_result\u001b[0m\u001b[1;33m=\u001b[0m\u001b[0mevals_result\u001b[0m\u001b[1;33m,\u001b[0m \u001b[0mobj\u001b[0m\u001b[1;33m=\u001b[0m\u001b[0mobj\u001b[0m\u001b[1;33m,\u001b[0m \u001b[0mfeval\u001b[0m\u001b[1;33m=\u001b[0m\u001b[0mfeval\u001b[0m\u001b[1;33m,\u001b[0m\u001b[1;33m\u001b[0m\u001b[1;33m\u001b[0m\u001b[0m\n\u001b[0;32m    731\u001b[0m                               \u001b[0mverbose_eval\u001b[0m\u001b[1;33m=\u001b[0m\u001b[0mverbose\u001b[0m\u001b[1;33m,\u001b[0m \u001b[0mxgb_model\u001b[0m\u001b[1;33m=\u001b[0m\u001b[0mxgb_model\u001b[0m\u001b[1;33m,\u001b[0m\u001b[1;33m\u001b[0m\u001b[1;33m\u001b[0m\u001b[0m\n\u001b[1;32m--> 732\u001b[1;33m                               callbacks=callbacks)\n\u001b[0m\u001b[0;32m    733\u001b[0m \u001b[1;33m\u001b[0m\u001b[0m\n\u001b[0;32m    734\u001b[0m         \u001b[0mself\u001b[0m\u001b[1;33m.\u001b[0m\u001b[0mobjective\u001b[0m \u001b[1;33m=\u001b[0m \u001b[0mxgb_options\u001b[0m\u001b[1;33m[\u001b[0m\u001b[1;34m\"objective\"\u001b[0m\u001b[1;33m]\u001b[0m\u001b[1;33m\u001b[0m\u001b[1;33m\u001b[0m\u001b[0m\n",
      "\u001b[1;32m~\\anaconda3\\lib\\site-packages\\xgboost\\training.py\u001b[0m in \u001b[0;36mtrain\u001b[1;34m(params, dtrain, num_boost_round, evals, obj, feval, maximize, early_stopping_rounds, evals_result, verbose_eval, xgb_model, callbacks, learning_rates)\u001b[0m\n\u001b[0;32m    214\u001b[0m                            \u001b[0mevals\u001b[0m\u001b[1;33m=\u001b[0m\u001b[0mevals\u001b[0m\u001b[1;33m,\u001b[0m\u001b[1;33m\u001b[0m\u001b[1;33m\u001b[0m\u001b[0m\n\u001b[0;32m    215\u001b[0m                            \u001b[0mobj\u001b[0m\u001b[1;33m=\u001b[0m\u001b[0mobj\u001b[0m\u001b[1;33m,\u001b[0m \u001b[0mfeval\u001b[0m\u001b[1;33m=\u001b[0m\u001b[0mfeval\u001b[0m\u001b[1;33m,\u001b[0m\u001b[1;33m\u001b[0m\u001b[1;33m\u001b[0m\u001b[0m\n\u001b[1;32m--> 216\u001b[1;33m                            xgb_model=xgb_model, callbacks=callbacks)\n\u001b[0m\u001b[0;32m    217\u001b[0m \u001b[1;33m\u001b[0m\u001b[0m\n\u001b[0;32m    218\u001b[0m \u001b[1;33m\u001b[0m\u001b[0m\n",
      "\u001b[1;32m~\\anaconda3\\lib\\site-packages\\xgboost\\training.py\u001b[0m in \u001b[0;36m_train_internal\u001b[1;34m(params, dtrain, num_boost_round, evals, obj, feval, xgb_model, callbacks)\u001b[0m\n\u001b[0;32m     72\u001b[0m         \u001b[1;31m# Skip the first update if it is a recovery step.\u001b[0m\u001b[1;33m\u001b[0m\u001b[1;33m\u001b[0m\u001b[1;33m\u001b[0m\u001b[0m\n\u001b[0;32m     73\u001b[0m         \u001b[1;32mif\u001b[0m \u001b[0mversion\u001b[0m \u001b[1;33m%\u001b[0m \u001b[1;36m2\u001b[0m \u001b[1;33m==\u001b[0m \u001b[1;36m0\u001b[0m\u001b[1;33m:\u001b[0m\u001b[1;33m\u001b[0m\u001b[1;33m\u001b[0m\u001b[0m\n\u001b[1;32m---> 74\u001b[1;33m             \u001b[0mbst\u001b[0m\u001b[1;33m.\u001b[0m\u001b[0mupdate\u001b[0m\u001b[1;33m(\u001b[0m\u001b[0mdtrain\u001b[0m\u001b[1;33m,\u001b[0m \u001b[0mi\u001b[0m\u001b[1;33m,\u001b[0m \u001b[0mobj\u001b[0m\u001b[1;33m)\u001b[0m\u001b[1;33m\u001b[0m\u001b[1;33m\u001b[0m\u001b[0m\n\u001b[0m\u001b[0;32m     75\u001b[0m             \u001b[0mbst\u001b[0m\u001b[1;33m.\u001b[0m\u001b[0msave_rabit_checkpoint\u001b[0m\u001b[1;33m(\u001b[0m\u001b[1;33m)\u001b[0m\u001b[1;33m\u001b[0m\u001b[1;33m\u001b[0m\u001b[0m\n\u001b[0;32m     76\u001b[0m             \u001b[0mversion\u001b[0m \u001b[1;33m+=\u001b[0m \u001b[1;36m1\u001b[0m\u001b[1;33m\u001b[0m\u001b[1;33m\u001b[0m\u001b[0m\n",
      "\u001b[1;32m~\\anaconda3\\lib\\site-packages\\xgboost\\core.py\u001b[0m in \u001b[0;36mupdate\u001b[1;34m(self, dtrain, iteration, fobj)\u001b[0m\n\u001b[0;32m   1107\u001b[0m         \u001b[1;32mif\u001b[0m \u001b[0mfobj\u001b[0m \u001b[1;32mis\u001b[0m \u001b[1;32mNone\u001b[0m\u001b[1;33m:\u001b[0m\u001b[1;33m\u001b[0m\u001b[1;33m\u001b[0m\u001b[0m\n\u001b[0;32m   1108\u001b[0m             _check_call(_LIB.XGBoosterUpdateOneIter(self.handle, ctypes.c_int(iteration),\n\u001b[1;32m-> 1109\u001b[1;33m                                                     dtrain.handle))\n\u001b[0m\u001b[0;32m   1110\u001b[0m         \u001b[1;32melse\u001b[0m\u001b[1;33m:\u001b[0m\u001b[1;33m\u001b[0m\u001b[1;33m\u001b[0m\u001b[0m\n\u001b[0;32m   1111\u001b[0m             \u001b[0mpred\u001b[0m \u001b[1;33m=\u001b[0m \u001b[0mself\u001b[0m\u001b[1;33m.\u001b[0m\u001b[0mpredict\u001b[0m\u001b[1;33m(\u001b[0m\u001b[0mdtrain\u001b[0m\u001b[1;33m)\u001b[0m\u001b[1;33m\u001b[0m\u001b[1;33m\u001b[0m\u001b[0m\n",
      "\u001b[1;31mKeyboardInterrupt\u001b[0m: "
     ]
    }
   ],
   "source": [
    "random.fit(x_train,y_train)"
   ]
  },
  {
   "cell_type": "markdown",
   "metadata": {},
   "source": [
    "the above search run for 1 day. From the results I took the best list of params and tried"
   ]
  },
  {
   "cell_type": "code",
   "execution_count": 20,
   "metadata": {},
   "outputs": [],
   "source": [
    "best_xgb=xgboost.XGBClassifier(n_estimators=150,subsample=0.9, reg_lambda=5, max_depth=14, gamma=3, colsample_bytree=0.9,n_jobs=-1)"
   ]
  },
  {
   "cell_type": "code",
   "execution_count": 26,
   "metadata": {},
   "outputs": [
    {
     "name": "stdout",
     "output_type": "stream",
     "text": [
      "[0]\tvalidation_0-aucpr:0.967098\tvalidation_0-auc:0.957167\tvalidation_1-aucpr:0.372084\tvalidation_1-auc:0.773632\n",
      "[1]\tvalidation_0-aucpr:0.981782\tvalidation_0-auc:0.976199\tvalidation_1-aucpr:0.392566\tvalidation_1-auc:0.797795\n",
      "[2]\tvalidation_0-aucpr:0.983718\tvalidation_0-auc:0.978937\tvalidation_1-aucpr:0.395325\tvalidation_1-auc:0.800809\n",
      "[3]\tvalidation_0-aucpr:0.986503\tvalidation_0-auc:0.982367\tvalidation_1-aucpr:0.40825\tvalidation_1-auc:0.806127\n",
      "[4]\tvalidation_0-aucpr:0.987772\tvalidation_0-auc:0.983884\tvalidation_1-aucpr:0.415225\tvalidation_1-auc:0.809618\n",
      "[5]\tvalidation_0-aucpr:0.988335\tvalidation_0-auc:0.984691\tvalidation_1-aucpr:0.418462\tvalidation_1-auc:0.811686\n",
      "[6]\tvalidation_0-aucpr:0.988834\tvalidation_0-auc:0.985373\tvalidation_1-aucpr:0.42368\tvalidation_1-auc:0.814581\n",
      "[7]\tvalidation_0-aucpr:0.989236\tvalidation_0-auc:0.985894\tvalidation_1-aucpr:0.426577\tvalidation_1-auc:0.815868\n",
      "[8]\tvalidation_0-aucpr:0.989573\tvalidation_0-auc:0.98641\tvalidation_1-aucpr:0.429715\tvalidation_1-auc:0.817793\n",
      "[9]\tvalidation_0-aucpr:0.98983\tvalidation_0-auc:0.986776\tvalidation_1-aucpr:0.432849\tvalidation_1-auc:0.819679\n",
      "[10]\tvalidation_0-aucpr:0.990087\tvalidation_0-auc:0.987107\tvalidation_1-aucpr:0.43541\tvalidation_1-auc:0.820823\n",
      "[11]\tvalidation_0-aucpr:0.990309\tvalidation_0-auc:0.987418\tvalidation_1-aucpr:0.43853\tvalidation_1-auc:0.822472\n",
      "[12]\tvalidation_0-aucpr:0.990546\tvalidation_0-auc:0.987732\tvalidation_1-aucpr:0.443751\tvalidation_1-auc:0.823932\n",
      "[13]\tvalidation_0-aucpr:0.990675\tvalidation_0-auc:0.987905\tvalidation_1-aucpr:0.444764\tvalidation_1-auc:0.82453\n",
      "[14]\tvalidation_0-aucpr:0.990932\tvalidation_0-auc:0.988265\tvalidation_1-aucpr:0.449485\tvalidation_1-auc:0.826169\n",
      "[15]\tvalidation_0-aucpr:0.991083\tvalidation_0-auc:0.988462\tvalidation_1-aucpr:0.450671\tvalidation_1-auc:0.82692\n",
      "[16]\tvalidation_0-aucpr:0.991247\tvalidation_0-auc:0.988709\tvalidation_1-aucpr:0.452869\tvalidation_1-auc:0.827905\n",
      "[17]\tvalidation_0-aucpr:0.991353\tvalidation_0-auc:0.988842\tvalidation_1-aucpr:0.453641\tvalidation_1-auc:0.828104\n",
      "[18]\tvalidation_0-aucpr:0.991508\tvalidation_0-auc:0.989071\tvalidation_1-aucpr:0.455768\tvalidation_1-auc:0.829018\n",
      "[19]\tvalidation_0-aucpr:0.991641\tvalidation_0-auc:0.989257\tvalidation_1-aucpr:0.458666\tvalidation_1-auc:0.830099\n",
      "[20]\tvalidation_0-aucpr:0.991745\tvalidation_0-auc:0.989398\tvalidation_1-aucpr:0.460198\tvalidation_1-auc:0.830381\n",
      "[21]\tvalidation_0-aucpr:0.991857\tvalidation_0-auc:0.989543\tvalidation_1-aucpr:0.462031\tvalidation_1-auc:0.830646\n",
      "[22]\tvalidation_0-aucpr:0.991935\tvalidation_0-auc:0.989663\tvalidation_1-aucpr:0.461982\tvalidation_1-auc:0.830843\n",
      "[23]\tvalidation_0-aucpr:0.992034\tvalidation_0-auc:0.989789\tvalidation_1-aucpr:0.463747\tvalidation_1-auc:0.831343\n",
      "[24]\tvalidation_0-aucpr:0.992164\tvalidation_0-auc:0.989975\tvalidation_1-aucpr:0.468003\tvalidation_1-auc:0.831876\n",
      "[25]\tvalidation_0-aucpr:0.992288\tvalidation_0-auc:0.990159\tvalidation_1-aucpr:0.469756\tvalidation_1-auc:0.832574\n",
      "[26]\tvalidation_0-aucpr:0.992426\tvalidation_0-auc:0.990348\tvalidation_1-aucpr:0.471491\tvalidation_1-auc:0.832653\n",
      "[27]\tvalidation_0-aucpr:0.992568\tvalidation_0-auc:0.99055\tvalidation_1-aucpr:0.475132\tvalidation_1-auc:0.833567\n",
      "[28]\tvalidation_0-aucpr:0.992725\tvalidation_0-auc:0.990777\tvalidation_1-aucpr:0.476195\tvalidation_1-auc:0.834077\n",
      "[29]\tvalidation_0-aucpr:0.992813\tvalidation_0-auc:0.990891\tvalidation_1-aucpr:0.476535\tvalidation_1-auc:0.83412\n",
      "[30]\tvalidation_0-aucpr:0.992894\tvalidation_0-auc:0.990998\tvalidation_1-aucpr:0.477497\tvalidation_1-auc:0.834294\n",
      "[31]\tvalidation_0-aucpr:0.993023\tvalidation_0-auc:0.991178\tvalidation_1-aucpr:0.477768\tvalidation_1-auc:0.834464\n",
      "[32]\tvalidation_0-aucpr:0.993134\tvalidation_0-auc:0.99134\tvalidation_1-aucpr:0.478223\tvalidation_1-auc:0.834845\n",
      "[33]\tvalidation_0-aucpr:0.993197\tvalidation_0-auc:0.99142\tvalidation_1-aucpr:0.483819\tvalidation_1-auc:0.835475\n",
      "[34]\tvalidation_0-aucpr:0.99329\tvalidation_0-auc:0.991555\tvalidation_1-aucpr:0.484298\tvalidation_1-auc:0.835766\n",
      "[35]\tvalidation_0-aucpr:0.993367\tvalidation_0-auc:0.991658\tvalidation_1-aucpr:0.488516\tvalidation_1-auc:0.836383\n",
      "[36]\tvalidation_0-aucpr:0.993456\tvalidation_0-auc:0.991787\tvalidation_1-aucpr:0.488875\tvalidation_1-auc:0.836385\n",
      "[37]\tvalidation_0-aucpr:0.99354\tvalidation_0-auc:0.9919\tvalidation_1-aucpr:0.491535\tvalidation_1-auc:0.836647\n",
      "[38]\tvalidation_0-aucpr:0.993621\tvalidation_0-auc:0.992016\tvalidation_1-aucpr:0.493796\tvalidation_1-auc:0.837063\n",
      "[39]\tvalidation_0-aucpr:0.993724\tvalidation_0-auc:0.992168\tvalidation_1-aucpr:0.493952\tvalidation_1-auc:0.83713\n",
      "[40]\tvalidation_0-aucpr:0.993808\tvalidation_0-auc:0.992279\tvalidation_1-aucpr:0.494581\tvalidation_1-auc:0.837485\n",
      "[41]\tvalidation_0-aucpr:0.993919\tvalidation_0-auc:0.992438\tvalidation_1-aucpr:0.494422\tvalidation_1-auc:0.837607\n",
      "[42]\tvalidation_0-aucpr:0.994008\tvalidation_0-auc:0.992559\tvalidation_1-aucpr:0.495535\tvalidation_1-auc:0.837895\n",
      "[43]\tvalidation_0-aucpr:0.994105\tvalidation_0-auc:0.99269\tvalidation_1-aucpr:0.495917\tvalidation_1-auc:0.838052\n",
      "[44]\tvalidation_0-aucpr:0.994142\tvalidation_0-auc:0.992738\tvalidation_1-aucpr:0.496545\tvalidation_1-auc:0.838233\n",
      "[45]\tvalidation_0-aucpr:0.994228\tvalidation_0-auc:0.992857\tvalidation_1-aucpr:0.496544\tvalidation_1-auc:0.838262\n",
      "[46]\tvalidation_0-aucpr:0.994321\tvalidation_0-auc:0.992985\tvalidation_1-aucpr:0.49679\tvalidation_1-auc:0.83833\n",
      "[47]\tvalidation_0-aucpr:0.994431\tvalidation_0-auc:0.993134\tvalidation_1-aucpr:0.496736\tvalidation_1-auc:0.838488\n",
      "[48]\tvalidation_0-aucpr:0.994512\tvalidation_0-auc:0.993245\tvalidation_1-aucpr:0.497072\tvalidation_1-auc:0.838697\n",
      "[49]\tvalidation_0-aucpr:0.994588\tvalidation_0-auc:0.993347\tvalidation_1-aucpr:0.496814\tvalidation_1-auc:0.838737\n",
      "[50]\tvalidation_0-aucpr:0.994662\tvalidation_0-auc:0.993448\tvalidation_1-aucpr:0.497226\tvalidation_1-auc:0.838966\n",
      "[51]\tvalidation_0-aucpr:0.994737\tvalidation_0-auc:0.993551\tvalidation_1-aucpr:0.497294\tvalidation_1-auc:0.838862\n",
      "[52]\tvalidation_0-aucpr:0.994817\tvalidation_0-auc:0.99366\tvalidation_1-aucpr:0.497364\tvalidation_1-auc:0.839099\n",
      "[53]\tvalidation_0-aucpr:0.994896\tvalidation_0-auc:0.99377\tvalidation_1-aucpr:0.497063\tvalidation_1-auc:0.838911\n",
      "[54]\tvalidation_0-aucpr:0.994987\tvalidation_0-auc:0.993893\tvalidation_1-aucpr:0.49707\tvalidation_1-auc:0.838974\n",
      "[55]\tvalidation_0-aucpr:0.995062\tvalidation_0-auc:0.993996\tvalidation_1-aucpr:0.497144\tvalidation_1-auc:0.839057\n",
      "[56]\tvalidation_0-aucpr:0.995132\tvalidation_0-auc:0.99409\tvalidation_1-aucpr:0.497071\tvalidation_1-auc:0.839043\n",
      "[57]\tvalidation_0-aucpr:0.995194\tvalidation_0-auc:0.994176\tvalidation_1-aucpr:0.497649\tvalidation_1-auc:0.839289\n",
      "[58]\tvalidation_0-aucpr:0.995247\tvalidation_0-auc:0.994246\tvalidation_1-aucpr:0.497857\tvalidation_1-auc:0.839342\n",
      "[59]\tvalidation_0-aucpr:0.995293\tvalidation_0-auc:0.994307\tvalidation_1-aucpr:0.498242\tvalidation_1-auc:0.839665\n",
      "[60]\tvalidation_0-aucpr:0.995368\tvalidation_0-auc:0.994408\tvalidation_1-aucpr:0.498471\tvalidation_1-auc:0.839708\n",
      "[61]\tvalidation_0-aucpr:0.995413\tvalidation_0-auc:0.994469\tvalidation_1-aucpr:0.498464\tvalidation_1-auc:0.839661\n",
      "[62]\tvalidation_0-aucpr:0.995456\tvalidation_0-auc:0.994527\tvalidation_1-aucpr:0.498576\tvalidation_1-auc:0.839658\n",
      "[63]\tvalidation_0-aucpr:0.995526\tvalidation_0-auc:0.994618\tvalidation_1-aucpr:0.498746\tvalidation_1-auc:0.839587\n",
      "[64]\tvalidation_0-aucpr:0.995625\tvalidation_0-auc:0.994749\tvalidation_1-aucpr:0.498827\tvalidation_1-auc:0.839788\n",
      "[65]\tvalidation_0-aucpr:0.995687\tvalidation_0-auc:0.994831\tvalidation_1-aucpr:0.499301\tvalidation_1-auc:0.840036\n",
      "[66]\tvalidation_0-aucpr:0.995766\tvalidation_0-auc:0.994933\tvalidation_1-aucpr:0.499238\tvalidation_1-auc:0.840048\n",
      "[67]\tvalidation_0-aucpr:0.995852\tvalidation_0-auc:0.995045\tvalidation_1-aucpr:0.499481\tvalidation_1-auc:0.839976\n",
      "[68]\tvalidation_0-aucpr:0.99587\tvalidation_0-auc:0.995069\tvalidation_1-aucpr:0.499617\tvalidation_1-auc:0.840149\n",
      "[69]\tvalidation_0-aucpr:0.995914\tvalidation_0-auc:0.995124\tvalidation_1-aucpr:0.499215\tvalidation_1-auc:0.839857\n",
      "[70]\tvalidation_0-aucpr:0.995973\tvalidation_0-auc:0.995202\tvalidation_1-aucpr:0.49927\tvalidation_1-auc:0.839872\n",
      "[71]\tvalidation_0-aucpr:0.995991\tvalidation_0-auc:0.995225\tvalidation_1-aucpr:0.499487\tvalidation_1-auc:0.84005\n",
      "[72]\tvalidation_0-aucpr:0.996035\tvalidation_0-auc:0.995282\tvalidation_1-aucpr:0.499404\tvalidation_1-auc:0.839976\n"
     ]
    },
    {
     "name": "stdout",
     "output_type": "stream",
     "text": [
      "[73]\tvalidation_0-aucpr:0.996068\tvalidation_0-auc:0.995324\tvalidation_1-aucpr:0.499343\tvalidation_1-auc:0.840041\n",
      "[74]\tvalidation_0-aucpr:0.996117\tvalidation_0-auc:0.995386\tvalidation_1-aucpr:0.499383\tvalidation_1-auc:0.840143\n",
      "[75]\tvalidation_0-aucpr:0.996156\tvalidation_0-auc:0.995437\tvalidation_1-aucpr:0.499508\tvalidation_1-auc:0.840278\n",
      "[76]\tvalidation_0-aucpr:0.996193\tvalidation_0-auc:0.995485\tvalidation_1-aucpr:0.49947\tvalidation_1-auc:0.840361\n",
      "[77]\tvalidation_0-aucpr:0.99623\tvalidation_0-auc:0.995532\tvalidation_1-aucpr:0.499287\tvalidation_1-auc:0.840241\n",
      "[78]\tvalidation_0-aucpr:0.9963\tvalidation_0-auc:0.995623\tvalidation_1-aucpr:0.499434\tvalidation_1-auc:0.840283\n",
      "[79]\tvalidation_0-aucpr:0.996315\tvalidation_0-auc:0.995642\tvalidation_1-aucpr:0.499516\tvalidation_1-auc:0.840291\n",
      "[80]\tvalidation_0-aucpr:0.996346\tvalidation_0-auc:0.995682\tvalidation_1-aucpr:0.499433\tvalidation_1-auc:0.84019\n",
      "[81]\tvalidation_0-aucpr:0.996389\tvalidation_0-auc:0.995737\tvalidation_1-aucpr:0.499395\tvalidation_1-auc:0.840299\n",
      "[82]\tvalidation_0-aucpr:0.996399\tvalidation_0-auc:0.995751\tvalidation_1-aucpr:0.499418\tvalidation_1-auc:0.84043\n",
      "[83]\tvalidation_0-aucpr:0.996467\tvalidation_0-auc:0.995838\tvalidation_1-aucpr:0.499672\tvalidation_1-auc:0.84047\n",
      "[84]\tvalidation_0-aucpr:0.996544\tvalidation_0-auc:0.995936\tvalidation_1-aucpr:0.499895\tvalidation_1-auc:0.840549\n",
      "[85]\tvalidation_0-aucpr:0.996569\tvalidation_0-auc:0.995969\tvalidation_1-aucpr:0.500011\tvalidation_1-auc:0.840507\n",
      "[86]\tvalidation_0-aucpr:0.996598\tvalidation_0-auc:0.996005\tvalidation_1-aucpr:0.500424\tvalidation_1-auc:0.84055\n",
      "[87]\tvalidation_0-aucpr:0.996635\tvalidation_0-auc:0.99605\tvalidation_1-aucpr:0.500323\tvalidation_1-auc:0.840466\n",
      "[88]\tvalidation_0-aucpr:0.996695\tvalidation_0-auc:0.996128\tvalidation_1-aucpr:0.500535\tvalidation_1-auc:0.840596\n",
      "[89]\tvalidation_0-aucpr:0.996722\tvalidation_0-auc:0.996163\tvalidation_1-aucpr:0.500742\tvalidation_1-auc:0.840576\n",
      "[90]\tvalidation_0-aucpr:0.996739\tvalidation_0-auc:0.996184\tvalidation_1-aucpr:0.500846\tvalidation_1-auc:0.840696\n",
      "[91]\tvalidation_0-aucpr:0.996753\tvalidation_0-auc:0.996201\tvalidation_1-aucpr:0.500772\tvalidation_1-auc:0.840726\n",
      "[92]\tvalidation_0-aucpr:0.996838\tvalidation_0-auc:0.996307\tvalidation_1-aucpr:0.500507\tvalidation_1-auc:0.840676\n",
      "[93]\tvalidation_0-aucpr:0.996873\tvalidation_0-auc:0.996351\tvalidation_1-aucpr:0.500488\tvalidation_1-auc:0.840739\n",
      "[94]\tvalidation_0-aucpr:0.996914\tvalidation_0-auc:0.996403\tvalidation_1-aucpr:0.500296\tvalidation_1-auc:0.840629\n",
      "[95]\tvalidation_0-aucpr:0.996952\tvalidation_0-auc:0.996452\tvalidation_1-aucpr:0.500062\tvalidation_1-auc:0.840447\n",
      "[96]\tvalidation_0-aucpr:0.996965\tvalidation_0-auc:0.996468\tvalidation_1-aucpr:0.500131\tvalidation_1-auc:0.840504\n",
      "[97]\tvalidation_0-aucpr:0.997002\tvalidation_0-auc:0.996514\tvalidation_1-aucpr:0.500161\tvalidation_1-auc:0.840681\n",
      "[98]\tvalidation_0-aucpr:0.997047\tvalidation_0-auc:0.99657\tvalidation_1-aucpr:0.500093\tvalidation_1-auc:0.840713\n",
      "[99]\tvalidation_0-aucpr:0.9971\tvalidation_0-auc:0.996637\tvalidation_1-aucpr:0.499687\tvalidation_1-auc:0.840554\n",
      "[100]\tvalidation_0-aucpr:0.997118\tvalidation_0-auc:0.996659\tvalidation_1-aucpr:0.499853\tvalidation_1-auc:0.840499\n",
      "[101]\tvalidation_0-aucpr:0.997127\tvalidation_0-auc:0.99667\tvalidation_1-aucpr:0.499969\tvalidation_1-auc:0.840595\n",
      "[102]\tvalidation_0-aucpr:0.997139\tvalidation_0-auc:0.996685\tvalidation_1-aucpr:0.50014\tvalidation_1-auc:0.840576\n",
      "[103]\tvalidation_0-aucpr:0.997179\tvalidation_0-auc:0.996737\tvalidation_1-aucpr:0.500271\tvalidation_1-auc:0.840649\n",
      "[104]\tvalidation_0-aucpr:0.997224\tvalidation_0-auc:0.996795\tvalidation_1-aucpr:0.500188\tvalidation_1-auc:0.840708\n",
      "[105]\tvalidation_0-aucpr:0.997262\tvalidation_0-auc:0.996841\tvalidation_1-aucpr:0.500147\tvalidation_1-auc:0.840691\n",
      "[106]\tvalidation_0-aucpr:0.997292\tvalidation_0-auc:0.996877\tvalidation_1-aucpr:0.500113\tvalidation_1-auc:0.840633\n",
      "[107]\tvalidation_0-aucpr:0.997337\tvalidation_0-auc:0.996932\tvalidation_1-aucpr:0.499751\tvalidation_1-auc:0.840713\n",
      "[108]\tvalidation_0-aucpr:0.997352\tvalidation_0-auc:0.996951\tvalidation_1-aucpr:0.499763\tvalidation_1-auc:0.840631\n",
      "[109]\tvalidation_0-aucpr:0.99739\tvalidation_0-auc:0.996997\tvalidation_1-aucpr:0.499709\tvalidation_1-auc:0.840696\n",
      "[110]\tvalidation_0-aucpr:0.997415\tvalidation_0-auc:0.997027\tvalidation_1-aucpr:0.499761\tvalidation_1-auc:0.84078\n",
      "[111]\tvalidation_0-aucpr:0.997457\tvalidation_0-auc:0.997078\tvalidation_1-aucpr:0.499936\tvalidation_1-auc:0.840851\n",
      "[112]\tvalidation_0-aucpr:0.997481\tvalidation_0-auc:0.997107\tvalidation_1-aucpr:0.499935\tvalidation_1-auc:0.840786\n",
      "[113]\tvalidation_0-aucpr:0.997545\tvalidation_0-auc:0.997187\tvalidation_1-aucpr:0.499715\tvalidation_1-auc:0.841098\n",
      "[114]\tvalidation_0-aucpr:0.997553\tvalidation_0-auc:0.997197\tvalidation_1-aucpr:0.499683\tvalidation_1-auc:0.841021\n",
      "[115]\tvalidation_0-aucpr:0.997592\tvalidation_0-auc:0.997245\tvalidation_1-aucpr:0.499425\tvalidation_1-auc:0.841021\n",
      "[116]\tvalidation_0-aucpr:0.997609\tvalidation_0-auc:0.997266\tvalidation_1-aucpr:0.499426\tvalidation_1-auc:0.841025\n",
      "[117]\tvalidation_0-aucpr:0.99763\tvalidation_0-auc:0.997291\tvalidation_1-aucpr:0.499541\tvalidation_1-auc:0.841067\n",
      "[118]\tvalidation_0-aucpr:0.997652\tvalidation_0-auc:0.997318\tvalidation_1-aucpr:0.499453\tvalidation_1-auc:0.84102\n",
      "[119]\tvalidation_0-aucpr:0.997671\tvalidation_0-auc:0.99734\tvalidation_1-aucpr:0.499422\tvalidation_1-auc:0.841036\n",
      "[120]\tvalidation_0-aucpr:0.997695\tvalidation_0-auc:0.99737\tvalidation_1-aucpr:0.499544\tvalidation_1-auc:0.841034\n",
      "[121]\tvalidation_0-aucpr:0.997719\tvalidation_0-auc:0.997399\tvalidation_1-aucpr:0.499742\tvalidation_1-auc:0.841172\n",
      "[122]\tvalidation_0-aucpr:0.997736\tvalidation_0-auc:0.99742\tvalidation_1-aucpr:0.499964\tvalidation_1-auc:0.841219\n",
      "[123]\tvalidation_0-aucpr:0.997771\tvalidation_0-auc:0.997462\tvalidation_1-aucpr:0.500104\tvalidation_1-auc:0.84126\n",
      "[124]\tvalidation_0-aucpr:0.997801\tvalidation_0-auc:0.997499\tvalidation_1-aucpr:0.500062\tvalidation_1-auc:0.841221\n",
      "[125]\tvalidation_0-aucpr:0.997837\tvalidation_0-auc:0.997541\tvalidation_1-aucpr:0.49998\tvalidation_1-auc:0.841097\n",
      "[126]\tvalidation_0-aucpr:0.997858\tvalidation_0-auc:0.997567\tvalidation_1-aucpr:0.499904\tvalidation_1-auc:0.841037\n",
      "[127]\tvalidation_0-aucpr:0.997872\tvalidation_0-auc:0.997584\tvalidation_1-aucpr:0.499862\tvalidation_1-auc:0.840992\n",
      "[128]\tvalidation_0-aucpr:0.997886\tvalidation_0-auc:0.997601\tvalidation_1-aucpr:0.499827\tvalidation_1-auc:0.840992\n",
      "[129]\tvalidation_0-aucpr:0.997925\tvalidation_0-auc:0.997648\tvalidation_1-aucpr:0.499806\tvalidation_1-auc:0.841088\n",
      "[130]\tvalidation_0-aucpr:0.997944\tvalidation_0-auc:0.99767\tvalidation_1-aucpr:0.499835\tvalidation_1-auc:0.841081\n",
      "[131]\tvalidation_0-aucpr:0.997954\tvalidation_0-auc:0.997683\tvalidation_1-aucpr:0.499746\tvalidation_1-auc:0.840973\n",
      "[132]\tvalidation_0-aucpr:0.997977\tvalidation_0-auc:0.99771\tvalidation_1-aucpr:0.499804\tvalidation_1-auc:0.840937\n",
      "[133]\tvalidation_0-aucpr:0.997984\tvalidation_0-auc:0.997718\tvalidation_1-aucpr:0.499864\tvalidation_1-auc:0.840929\n",
      "[134]\tvalidation_0-aucpr:0.998032\tvalidation_0-auc:0.997776\tvalidation_1-aucpr:0.500029\tvalidation_1-auc:0.840991\n",
      "[135]\tvalidation_0-aucpr:0.998085\tvalidation_0-auc:0.99784\tvalidation_1-aucpr:0.499986\tvalidation_1-auc:0.84115\n",
      "[136]\tvalidation_0-aucpr:0.998098\tvalidation_0-auc:0.997854\tvalidation_1-aucpr:0.49996\tvalidation_1-auc:0.841174\n",
      "[137]\tvalidation_0-aucpr:0.998105\tvalidation_0-auc:0.997864\tvalidation_1-aucpr:0.499964\tvalidation_1-auc:0.841181\n",
      "[138]\tvalidation_0-aucpr:0.998111\tvalidation_0-auc:0.99787\tvalidation_1-aucpr:0.499946\tvalidation_1-auc:0.841144\n",
      "[139]\tvalidation_0-aucpr:0.998134\tvalidation_0-auc:0.997898\tvalidation_1-aucpr:0.499761\tvalidation_1-auc:0.841066\n",
      "[140]\tvalidation_0-aucpr:0.998153\tvalidation_0-auc:0.99792\tvalidation_1-aucpr:0.49989\tvalidation_1-auc:0.841048\n",
      "[141]\tvalidation_0-aucpr:0.998186\tvalidation_0-auc:0.997958\tvalidation_1-aucpr:0.499541\tvalidation_1-auc:0.840924\n",
      "[142]\tvalidation_0-aucpr:0.998235\tvalidation_0-auc:0.998017\tvalidation_1-aucpr:0.499774\tvalidation_1-auc:0.840993\n",
      "[143]\tvalidation_0-aucpr:0.998242\tvalidation_0-auc:0.998025\tvalidation_1-aucpr:0.499813\tvalidation_1-auc:0.841016\n",
      "[144]\tvalidation_0-aucpr:0.998254\tvalidation_0-auc:0.99804\tvalidation_1-aucpr:0.499675\tvalidation_1-auc:0.841107\n",
      "[145]\tvalidation_0-aucpr:0.998255\tvalidation_0-auc:0.998041\tvalidation_1-aucpr:0.499648\tvalidation_1-auc:0.841088\n"
     ]
    },
    {
     "name": "stdout",
     "output_type": "stream",
     "text": [
      "[146]\tvalidation_0-aucpr:0.998267\tvalidation_0-auc:0.998055\tvalidation_1-aucpr:0.4995\tvalidation_1-auc:0.840981\n",
      "[147]\tvalidation_0-aucpr:0.998305\tvalidation_0-auc:0.998101\tvalidation_1-aucpr:0.499588\tvalidation_1-auc:0.840857\n",
      "[148]\tvalidation_0-aucpr:0.998322\tvalidation_0-auc:0.998121\tvalidation_1-aucpr:0.49954\tvalidation_1-auc:0.840819\n",
      "[149]\tvalidation_0-aucpr:0.99835\tvalidation_0-auc:0.998154\tvalidation_1-aucpr:0.499436\tvalidation_1-auc:0.84078\n"
     ]
    },
    {
     "data": {
      "text/plain": [
       "XGBClassifier(base_score=0.5, booster='gbtree', colsample_bylevel=1,\n",
       "              colsample_bynode=1, colsample_bytree=0.9, gamma=3,\n",
       "              learning_rate=0.1, max_delta_step=0, max_depth=14,\n",
       "              min_child_weight=1, missing=None, n_estimators=150, n_jobs=-1,\n",
       "              nthread=None, objective='binary:logistic', random_state=0,\n",
       "              reg_alpha=0, reg_lambda=5, scale_pos_weight=1, seed=None,\n",
       "              silent=None, subsample=0.9, verbosity=1)"
      ]
     },
     "execution_count": 26,
     "metadata": {},
     "output_type": "execute_result"
    }
   ],
   "source": [
    "best_xgb.fit(x_train, y_train,\n",
    "        eval_set=[(x_train, y_train), (x_test, y_test)],\n",
    "        eval_metric=['aucpr','auc'],\n",
    "        verbose=True)\n",
    "#evals_result = clf.evals_result()"
   ]
  },
  {
   "cell_type": "code",
   "execution_count": 28,
   "metadata": {},
   "outputs": [],
   "source": [
    "pred=best_xgb.predict(x_test)"
   ]
  },
  {
   "cell_type": "code",
   "execution_count": 25,
   "metadata": {},
   "outputs": [],
   "source": [
    "from sklearn.metrics import classification_report,confusion_matrix,plot_precision_recall_curve,plot_roc_curve"
   ]
  },
  {
   "cell_type": "code",
   "execution_count": 29,
   "metadata": {},
   "outputs": [
    {
     "name": "stdout",
     "output_type": "stream",
     "text": [
      "              precision    recall  f1-score   support\n",
      "\n",
      "           0       0.94      1.00      0.97     28269\n",
      "           1       0.92      0.26      0.40      2482\n",
      "\n",
      "    accuracy                           0.94     30751\n",
      "   macro avg       0.93      0.63      0.68     30751\n",
      "weighted avg       0.94      0.94      0.92     30751\n",
      "\n"
     ]
    }
   ],
   "source": [
    "print(classification_report(y_test,pred))"
   ]
  },
  {
   "cell_type": "code",
   "execution_count": 31,
   "metadata": {},
   "outputs": [
    {
     "data": {
      "text/plain": [
       "<sklearn.metrics._plot.precision_recall_curve.PrecisionRecallDisplay at 0x1e41d4babc8>"
      ]
     },
     "execution_count": 31,
     "metadata": {},
     "output_type": "execute_result"
    },
    {
     "data": {
      "image/png": "[encoded data removed]",
      "text/plain": [
       "<Figure size 432x288 with 1 Axes>"
      ]
     },
     "metadata": {
      "needs_background": "light"
     },
     "output_type": "display_data"
    }
   ],
   "source": [
    "plot_precision_recall_curve(best_xgb,x_test,y_test)"
   ]
  },
  {
   "cell_type": "code",
   "execution_count": 34,
   "metadata": {},
   "outputs": [
    {
     "data": {
      "text/plain": [
       "<sklearn.metrics._plot.roc_curve.RocCurveDisplay at 0x1e41f982188>"
      ]
     },
     "execution_count": 34,
     "metadata": {},
     "output_type": "execute_result"
    },
    {
     "data": {
      "image/png": "[encoded data removed]",
      "text/plain": [
       "<Figure size 432x288 with 1 Axes>"
      ]
     },
     "metadata": {
      "needs_background": "light"
     },
     "output_type": "display_data"
    }
   ],
   "source": [
    "plot_roc_curve(best_xgb,x_test,y_test)"
   ]
  },
  {
   "cell_type": "code",
   "execution_count": 22,
   "metadata": {},
   "outputs": [],
   "source": [
    "params={'min_child_weight':[10,20,30,40,50,100]}"
   ]
  },
  {
   "cell_type": "code",
   "execution_count": 23,
   "metadata": {},
   "outputs": [],
   "source": [
    "xgb2=xgboost.XGBClassifier(n_estimators=100,subsample=0.7, reg_lambda=5, max_depth=12, gamma=3, colsample_bytree=0.8,n_jobs=-1)"
   ]
  },
  {
   "cell_type": "code",
   "execution_count": 24,
   "metadata": {},
   "outputs": [],
   "source": [
    "best_xgb2=GridSearchCV(xgb2,params,cv=StratifiedKFold(n_splits=5),scoring='f1',n_jobs=-1,verbose=30)"
   ]
  },
  {
   "cell_type": "code",
   "execution_count": 25,
   "metadata": {},
   "outputs": [
    {
     "name": "stdout",
     "output_type": "stream",
     "text": [
      "Fitting 5 folds for each of 6 candidates, totalling 30 fits\n"
     ]
    },
    {
     "name": "stderr",
     "output_type": "stream",
     "text": [
      "[Parallel(n_jobs=-1)]: Using backend LokyBackend with 8 concurrent workers.\n",
      "[Parallel(n_jobs=-1)]: Done   1 tasks      | elapsed:   28.8s\n",
      "[Parallel(n_jobs=-1)]: Done   2 tasks      | elapsed:   28.9s\n",
      "[Parallel(n_jobs=-1)]: Done   3 tasks      | elapsed:   55.2s\n",
      "[Parallel(n_jobs=-1)]: Done   4 tasks      | elapsed:  1.2min\n",
      "[Parallel(n_jobs=-1)]: Done   5 tasks      | elapsed:  1.4min\n",
      "[Parallel(n_jobs=-1)]: Done   6 tasks      | elapsed:  1.6min\n",
      "[Parallel(n_jobs=-1)]: Done   7 tasks      | elapsed:  1.7min\n",
      "[Parallel(n_jobs=-1)]: Done   8 tasks      | elapsed:  1.8min\n",
      "[Parallel(n_jobs=-1)]: Done   9 tasks      | elapsed:  2.0min\n",
      "[Parallel(n_jobs=-1)]: Done  10 tasks      | elapsed:  2.1min\n",
      "[Parallel(n_jobs=-1)]: Done  11 tasks      | elapsed:  2.2min\n",
      "[Parallel(n_jobs=-1)]: Done  12 tasks      | elapsed:  2.3min\n",
      "[Parallel(n_jobs=-1)]: Done  13 tasks      | elapsed:  2.4min\n",
      "[Parallel(n_jobs=-1)]: Done  14 tasks      | elapsed:  2.5min\n",
      "[Parallel(n_jobs=-1)]: Done  15 tasks      | elapsed:  2.7min\n",
      "[Parallel(n_jobs=-1)]: Done  17 out of  30 | elapsed:  2.9min remaining:  2.2min\n",
      "[Parallel(n_jobs=-1)]: Done  19 out of  30 | elapsed:  3.1min remaining:  1.8min\n",
      "[Parallel(n_jobs=-1)]: Done  21 out of  30 | elapsed:  3.4min remaining:  1.4min\n",
      "[Parallel(n_jobs=-1)]: Done  23 out of  30 | elapsed:  3.6min remaining:  1.1min\n",
      "[Parallel(n_jobs=-1)]: Done  25 out of  30 | elapsed: 22.6min remaining:  4.5min\n",
      "[Parallel(n_jobs=-1)]: Done  27 out of  30 | elapsed: 23.3min remaining:  2.6min\n",
      "[Parallel(n_jobs=-1)]: Done  30 out of  30 | elapsed: 23.4min finished\n"
     ]
    },
    {
     "data": {
      "text/plain": [
       "GridSearchCV(cv=StratifiedKFold(n_splits=5, random_state=None, shuffle=False),\n",
       "             error_score=nan,\n",
       "             estimator=XGBClassifier(base_score=0.5, booster='gbtree',\n",
       "                                     colsample_bylevel=1, colsample_bynode=1,\n",
       "                                     colsample_bytree=0.8, gamma=3,\n",
       "                                     learning_rate=0.1, max_delta_step=0,\n",
       "                                     max_depth=12, min_child_weight=1,\n",
       "                                     missing=None, n_estimators=100, n_jobs=-1,\n",
       "                                     nthread=None, objective='binary:logistic',\n",
       "                                     random_state=0, reg_alpha=0, reg_lambda=5,\n",
       "                                     scale_pos_weight=1, seed=None, silent=None,\n",
       "                                     subsample=0.7, verbosity=1),\n",
       "             iid='deprecated', n_jobs=-1,\n",
       "             param_grid={'min_child_weight': [10, 20, 30, 40, 50, 100]},\n",
       "             pre_dispatch='2*n_jobs', refit=True, return_train_score=False,\n",
       "             scoring='f1', verbose=30)"
      ]
     },
     "execution_count": 25,
     "metadata": {},
     "output_type": "execute_result"
    }
   ],
   "source": [
    "best_xgb2.fit(x_train,y_train)"
   ]
  },
  {
   "cell_type": "code",
   "execution_count": 26,
   "metadata": {},
   "outputs": [
    {
     "data": {
      "text/plain": [
       "{'min_child_weight': 10}"
      ]
     },
     "execution_count": 26,
     "metadata": {},
     "output_type": "execute_result"
    }
   ],
   "source": [
    "best_xgb2.best_params_"
   ]
  },
  {
   "cell_type": "code",
   "execution_count": 27,
   "metadata": {
    "scrolled": true
   },
   "outputs": [
    {
     "name": "stdout",
     "output_type": "stream",
     "text": [
      "[0]\tvalidation_0-aucpr:0.962367\tvalidation_0-auc:0.951865\tvalidation_1-aucpr:0.373599\tvalidation_1-auc:0.774391\n",
      "[1]\tvalidation_0-aucpr:0.977331\tvalidation_0-auc:0.970693\tvalidation_1-aucpr:0.390563\tvalidation_1-auc:0.794761\n",
      "[2]\tvalidation_0-aucpr:0.981234\tvalidation_0-auc:0.975465\tvalidation_1-aucpr:0.400557\tvalidation_1-auc:0.801699\n",
      "[3]\tvalidation_0-aucpr:0.983682\tvalidation_0-auc:0.978709\tvalidation_1-aucpr:0.407904\tvalidation_1-auc:0.80608\n",
      "[4]\tvalidation_0-aucpr:0.985129\tvalidation_0-auc:0.980635\tvalidation_1-aucpr:0.406406\tvalidation_1-auc:0.806772\n",
      "[5]\tvalidation_0-aucpr:0.985748\tvalidation_0-auc:0.981495\tvalidation_1-aucpr:0.409174\tvalidation_1-auc:0.810477\n",
      "[6]\tvalidation_0-aucpr:0.986083\tvalidation_0-auc:0.981941\tvalidation_1-aucpr:0.410012\tvalidation_1-auc:0.81159\n",
      "[7]\tvalidation_0-aucpr:0.98679\tvalidation_0-auc:0.982816\tvalidation_1-aucpr:0.414177\tvalidation_1-auc:0.814108\n",
      "[8]\tvalidation_0-aucpr:0.987349\tvalidation_0-auc:0.983529\tvalidation_1-aucpr:0.41848\tvalidation_1-auc:0.816524\n",
      "[9]\tvalidation_0-aucpr:0.98771\tvalidation_0-auc:0.983926\tvalidation_1-aucpr:0.420272\tvalidation_1-auc:0.816606\n",
      "[10]\tvalidation_0-aucpr:0.987962\tvalidation_0-auc:0.98427\tvalidation_1-aucpr:0.421338\tvalidation_1-auc:0.817565\n",
      "[11]\tvalidation_0-aucpr:0.9883\tvalidation_0-auc:0.98471\tvalidation_1-aucpr:0.424882\tvalidation_1-auc:0.819462\n",
      "[12]\tvalidation_0-aucpr:0.988492\tvalidation_0-auc:0.984948\tvalidation_1-aucpr:0.426561\tvalidation_1-auc:0.819899\n",
      "[13]\tvalidation_0-aucpr:0.988638\tvalidation_0-auc:0.985135\tvalidation_1-aucpr:0.426136\tvalidation_1-auc:0.820013\n",
      "[14]\tvalidation_0-aucpr:0.988745\tvalidation_0-auc:0.985263\tvalidation_1-aucpr:0.427371\tvalidation_1-auc:0.820039\n",
      "[15]\tvalidation_0-aucpr:0.989011\tvalidation_0-auc:0.985601\tvalidation_1-aucpr:0.432309\tvalidation_1-auc:0.82215\n",
      "[16]\tvalidation_0-aucpr:0.989123\tvalidation_0-auc:0.98574\tvalidation_1-aucpr:0.433311\tvalidation_1-auc:0.821986\n",
      "[17]\tvalidation_0-aucpr:0.98921\tvalidation_0-auc:0.985854\tvalidation_1-aucpr:0.433575\tvalidation_1-auc:0.822789\n",
      "[18]\tvalidation_0-aucpr:0.98938\tvalidation_0-auc:0.986094\tvalidation_1-aucpr:0.435098\tvalidation_1-auc:0.823551\n",
      "[19]\tvalidation_0-aucpr:0.98957\tvalidation_0-auc:0.986345\tvalidation_1-aucpr:0.443327\tvalidation_1-auc:0.825369\n",
      "[20]\tvalidation_0-aucpr:0.989718\tvalidation_0-auc:0.986542\tvalidation_1-aucpr:0.449631\tvalidation_1-auc:0.826629\n",
      "[21]\tvalidation_0-aucpr:0.989803\tvalidation_0-auc:0.986653\tvalidation_1-aucpr:0.451329\tvalidation_1-auc:0.827159\n",
      "[22]\tvalidation_0-aucpr:0.989909\tvalidation_0-auc:0.986804\tvalidation_1-aucpr:0.451723\tvalidation_1-auc:0.827668\n",
      "[23]\tvalidation_0-aucpr:0.990005\tvalidation_0-auc:0.986927\tvalidation_1-aucpr:0.452836\tvalidation_1-auc:0.828034\n",
      "[24]\tvalidation_0-aucpr:0.990065\tvalidation_0-auc:0.987006\tvalidation_1-aucpr:0.453688\tvalidation_1-auc:0.828435\n",
      "[25]\tvalidation_0-aucpr:0.99019\tvalidation_0-auc:0.987184\tvalidation_1-aucpr:0.455497\tvalidation_1-auc:0.82923\n",
      "[26]\tvalidation_0-aucpr:0.990265\tvalidation_0-auc:0.987279\tvalidation_1-aucpr:0.458248\tvalidation_1-auc:0.82954\n",
      "[27]\tvalidation_0-aucpr:0.990379\tvalidation_0-auc:0.987437\tvalidation_1-aucpr:0.460903\tvalidation_1-auc:0.830565\n",
      "[28]\tvalidation_0-aucpr:0.990474\tvalidation_0-auc:0.987574\tvalidation_1-aucpr:0.464103\tvalidation_1-auc:0.831402\n",
      "[29]\tvalidation_0-aucpr:0.990563\tvalidation_0-auc:0.987698\tvalidation_1-aucpr:0.464126\tvalidation_1-auc:0.831394\n",
      "[30]\tvalidation_0-aucpr:0.990643\tvalidation_0-auc:0.987797\tvalidation_1-aucpr:0.471276\tvalidation_1-auc:0.832234\n",
      "[31]\tvalidation_0-aucpr:0.990692\tvalidation_0-auc:0.987855\tvalidation_1-aucpr:0.472898\tvalidation_1-auc:0.832608\n",
      "[32]\tvalidation_0-aucpr:0.990785\tvalidation_0-auc:0.987976\tvalidation_1-aucpr:0.479776\tvalidation_1-auc:0.833522\n",
      "[33]\tvalidation_0-aucpr:0.990866\tvalidation_0-auc:0.988097\tvalidation_1-aucpr:0.479471\tvalidation_1-auc:0.833751\n",
      "[34]\tvalidation_0-aucpr:0.990928\tvalidation_0-auc:0.988178\tvalidation_1-aucpr:0.48421\tvalidation_1-auc:0.834443\n",
      "[35]\tvalidation_0-aucpr:0.991011\tvalidation_0-auc:0.988297\tvalidation_1-aucpr:0.484274\tvalidation_1-auc:0.834507\n",
      "[36]\tvalidation_0-aucpr:0.991078\tvalidation_0-auc:0.988389\tvalidation_1-aucpr:0.487336\tvalidation_1-auc:0.834928\n",
      "[37]\tvalidation_0-aucpr:0.991157\tvalidation_0-auc:0.988497\tvalidation_1-aucpr:0.4897\tvalidation_1-auc:0.835305\n",
      "[38]\tvalidation_0-aucpr:0.991215\tvalidation_0-auc:0.988581\tvalidation_1-aucpr:0.489959\tvalidation_1-auc:0.835568\n",
      "[39]\tvalidation_0-aucpr:0.991281\tvalidation_0-auc:0.988678\tvalidation_1-aucpr:0.490854\tvalidation_1-auc:0.835697\n",
      "[40]\tvalidation_0-aucpr:0.991347\tvalidation_0-auc:0.988775\tvalidation_1-aucpr:0.491098\tvalidation_1-auc:0.835871\n",
      "[41]\tvalidation_0-aucpr:0.991419\tvalidation_0-auc:0.988878\tvalidation_1-aucpr:0.491901\tvalidation_1-auc:0.836084\n",
      "[42]\tvalidation_0-aucpr:0.991483\tvalidation_0-auc:0.988968\tvalidation_1-aucpr:0.492834\tvalidation_1-auc:0.836352\n",
      "[43]\tvalidation_0-aucpr:0.991552\tvalidation_0-auc:0.989062\tvalidation_1-aucpr:0.493523\tvalidation_1-auc:0.836533\n",
      "[44]\tvalidation_0-aucpr:0.991607\tvalidation_0-auc:0.989136\tvalidation_1-aucpr:0.49377\tvalidation_1-auc:0.836561\n",
      "[45]\tvalidation_0-aucpr:0.991668\tvalidation_0-auc:0.989225\tvalidation_1-aucpr:0.493927\tvalidation_1-auc:0.836758\n",
      "[46]\tvalidation_0-aucpr:0.991717\tvalidation_0-auc:0.989299\tvalidation_1-aucpr:0.493967\tvalidation_1-auc:0.836822\n",
      "[47]\tvalidation_0-aucpr:0.991781\tvalidation_0-auc:0.989393\tvalidation_1-aucpr:0.4944\tvalidation_1-auc:0.837199\n",
      "[48]\tvalidation_0-aucpr:0.991854\tvalidation_0-auc:0.989499\tvalidation_1-aucpr:0.494963\tvalidation_1-auc:0.837395\n",
      "[49]\tvalidation_0-aucpr:0.991909\tvalidation_0-auc:0.989576\tvalidation_1-aucpr:0.49526\tvalidation_1-auc:0.837556\n",
      "[50]\tvalidation_0-aucpr:0.99196\tvalidation_0-auc:0.989651\tvalidation_1-aucpr:0.495661\tvalidation_1-auc:0.837812\n",
      "[51]\tvalidation_0-aucpr:0.991988\tvalidation_0-auc:0.989691\tvalidation_1-aucpr:0.496122\tvalidation_1-auc:0.837687\n",
      "[52]\tvalidation_0-aucpr:0.99203\tvalidation_0-auc:0.989751\tvalidation_1-aucpr:0.496546\tvalidation_1-auc:0.837911\n",
      "[53]\tvalidation_0-aucpr:0.992086\tvalidation_0-auc:0.989833\tvalidation_1-aucpr:0.49687\tvalidation_1-auc:0.837741\n",
      "[54]\tvalidation_0-aucpr:0.992146\tvalidation_0-auc:0.989918\tvalidation_1-aucpr:0.497282\tvalidation_1-auc:0.838099\n",
      "[55]\tvalidation_0-aucpr:0.992187\tvalidation_0-auc:0.989977\tvalidation_1-aucpr:0.497542\tvalidation_1-auc:0.838187\n",
      "[56]\tvalidation_0-aucpr:0.992235\tvalidation_0-auc:0.990045\tvalidation_1-aucpr:0.497495\tvalidation_1-auc:0.838232\n",
      "[57]\tvalidation_0-aucpr:0.992296\tvalidation_0-auc:0.990131\tvalidation_1-aucpr:0.497959\tvalidation_1-auc:0.83863\n",
      "[58]\tvalidation_0-aucpr:0.992341\tvalidation_0-auc:0.990195\tvalidation_1-aucpr:0.49787\tvalidation_1-auc:0.838523\n",
      "[59]\tvalidation_0-aucpr:0.99239\tvalidation_0-auc:0.990264\tvalidation_1-aucpr:0.497658\tvalidation_1-auc:0.838548\n",
      "[60]\tvalidation_0-aucpr:0.99243\tvalidation_0-auc:0.990323\tvalidation_1-aucpr:0.497838\tvalidation_1-auc:0.838656\n",
      "[61]\tvalidation_0-aucpr:0.99249\tvalidation_0-auc:0.990409\tvalidation_1-aucpr:0.49796\tvalidation_1-auc:0.838848\n",
      "[62]\tvalidation_0-aucpr:0.992544\tvalidation_0-auc:0.990487\tvalidation_1-aucpr:0.497668\tvalidation_1-auc:0.838845\n",
      "[63]\tvalidation_0-aucpr:0.992581\tvalidation_0-auc:0.990538\tvalidation_1-aucpr:0.498036\tvalidation_1-auc:0.838793\n",
      "[64]\tvalidation_0-aucpr:0.992615\tvalidation_0-auc:0.990586\tvalidation_1-aucpr:0.498172\tvalidation_1-auc:0.838841\n",
      "[65]\tvalidation_0-aucpr:0.992655\tvalidation_0-auc:0.990643\tvalidation_1-aucpr:0.498391\tvalidation_1-auc:0.838925\n",
      "[66]\tvalidation_0-aucpr:0.992694\tvalidation_0-auc:0.990699\tvalidation_1-aucpr:0.499095\tvalidation_1-auc:0.83898\n",
      "[67]\tvalidation_0-aucpr:0.99275\tvalidation_0-auc:0.990778\tvalidation_1-aucpr:0.499127\tvalidation_1-auc:0.839264\n",
      "[68]\tvalidation_0-aucpr:0.992792\tvalidation_0-auc:0.990837\tvalidation_1-aucpr:0.499132\tvalidation_1-auc:0.839281\n",
      "[69]\tvalidation_0-aucpr:0.992839\tvalidation_0-auc:0.990906\tvalidation_1-aucpr:0.498724\tvalidation_1-auc:0.839295\n",
      "[70]\tvalidation_0-aucpr:0.992871\tvalidation_0-auc:0.990952\tvalidation_1-aucpr:0.498336\tvalidation_1-auc:0.839282\n",
      "[71]\tvalidation_0-aucpr:0.992906\tvalidation_0-auc:0.991003\tvalidation_1-aucpr:0.498658\tvalidation_1-auc:0.839335\n",
      "[72]\tvalidation_0-aucpr:0.992935\tvalidation_0-auc:0.991045\tvalidation_1-aucpr:0.498836\tvalidation_1-auc:0.839447\n"
     ]
    },
    {
     "name": "stdout",
     "output_type": "stream",
     "text": [
      "[73]\tvalidation_0-aucpr:0.993006\tvalidation_0-auc:0.991145\tvalidation_1-aucpr:0.498878\tvalidation_1-auc:0.839543\n",
      "[74]\tvalidation_0-aucpr:0.993038\tvalidation_0-auc:0.991192\tvalidation_1-aucpr:0.498957\tvalidation_1-auc:0.839618\n",
      "[75]\tvalidation_0-aucpr:0.99308\tvalidation_0-auc:0.991253\tvalidation_1-aucpr:0.49907\tvalidation_1-auc:0.839851\n",
      "[76]\tvalidation_0-aucpr:0.993101\tvalidation_0-auc:0.991283\tvalidation_1-aucpr:0.499243\tvalidation_1-auc:0.839813\n",
      "[77]\tvalidation_0-aucpr:0.993112\tvalidation_0-auc:0.991297\tvalidation_1-aucpr:0.499487\tvalidation_1-auc:0.839886\n",
      "[78]\tvalidation_0-aucpr:0.993142\tvalidation_0-auc:0.991339\tvalidation_1-aucpr:0.499862\tvalidation_1-auc:0.839845\n",
      "[79]\tvalidation_0-aucpr:0.993196\tvalidation_0-auc:0.991414\tvalidation_1-aucpr:0.499864\tvalidation_1-auc:0.839802\n",
      "[80]\tvalidation_0-aucpr:0.993239\tvalidation_0-auc:0.991475\tvalidation_1-aucpr:0.499976\tvalidation_1-auc:0.839797\n",
      "[81]\tvalidation_0-aucpr:0.993275\tvalidation_0-auc:0.991526\tvalidation_1-aucpr:0.500126\tvalidation_1-auc:0.83983\n",
      "[82]\tvalidation_0-aucpr:0.993298\tvalidation_0-auc:0.99156\tvalidation_1-aucpr:0.499961\tvalidation_1-auc:0.839712\n",
      "[83]\tvalidation_0-aucpr:0.993329\tvalidation_0-auc:0.991601\tvalidation_1-aucpr:0.500237\tvalidation_1-auc:0.839941\n",
      "[84]\tvalidation_0-aucpr:0.993344\tvalidation_0-auc:0.991624\tvalidation_1-aucpr:0.500127\tvalidation_1-auc:0.839903\n",
      "[85]\tvalidation_0-aucpr:0.993361\tvalidation_0-auc:0.991647\tvalidation_1-aucpr:0.50006\tvalidation_1-auc:0.839888\n",
      "[86]\tvalidation_0-aucpr:0.99338\tvalidation_0-auc:0.991673\tvalidation_1-aucpr:0.50003\tvalidation_1-auc:0.839828\n",
      "[87]\tvalidation_0-aucpr:0.993403\tvalidation_0-auc:0.991707\tvalidation_1-aucpr:0.500299\tvalidation_1-auc:0.839839\n",
      "[88]\tvalidation_0-aucpr:0.993454\tvalidation_0-auc:0.99178\tvalidation_1-aucpr:0.500492\tvalidation_1-auc:0.839735\n",
      "[89]\tvalidation_0-aucpr:0.993482\tvalidation_0-auc:0.99182\tvalidation_1-aucpr:0.500448\tvalidation_1-auc:0.839803\n",
      "[90]\tvalidation_0-aucpr:0.993533\tvalidation_0-auc:0.991892\tvalidation_1-aucpr:0.500373\tvalidation_1-auc:0.839753\n",
      "[91]\tvalidation_0-aucpr:0.993552\tvalidation_0-auc:0.991919\tvalidation_1-aucpr:0.500352\tvalidation_1-auc:0.839805\n",
      "[92]\tvalidation_0-aucpr:0.993573\tvalidation_0-auc:0.991947\tvalidation_1-aucpr:0.500268\tvalidation_1-auc:0.83975\n",
      "[93]\tvalidation_0-aucpr:0.993634\tvalidation_0-auc:0.992035\tvalidation_1-aucpr:0.50052\tvalidation_1-auc:0.84001\n",
      "[94]\tvalidation_0-aucpr:0.993698\tvalidation_0-auc:0.992125\tvalidation_1-aucpr:0.500218\tvalidation_1-auc:0.839825\n",
      "[95]\tvalidation_0-aucpr:0.993724\tvalidation_0-auc:0.992161\tvalidation_1-aucpr:0.500358\tvalidation_1-auc:0.839935\n",
      "[96]\tvalidation_0-aucpr:0.993773\tvalidation_0-auc:0.992229\tvalidation_1-aucpr:0.500823\tvalidation_1-auc:0.839941\n",
      "[97]\tvalidation_0-aucpr:0.993801\tvalidation_0-auc:0.992267\tvalidation_1-aucpr:0.50095\tvalidation_1-auc:0.839958\n",
      "[98]\tvalidation_0-aucpr:0.99384\tvalidation_0-auc:0.992322\tvalidation_1-aucpr:0.500628\tvalidation_1-auc:0.8399\n",
      "[99]\tvalidation_0-aucpr:0.993854\tvalidation_0-auc:0.992342\tvalidation_1-aucpr:0.50098\tvalidation_1-auc:0.840025\n"
     ]
    },
    {
     "data": {
      "text/plain": [
       "XGBClassifier(base_score=0.5, booster='gbtree', colsample_bylevel=1,\n",
       "              colsample_bynode=1, colsample_bytree=0.8, gamma=3,\n",
       "              learning_rate=0.1, max_delta_step=0, max_depth=12,\n",
       "              min_child_weight=10, missing=None, n_estimators=100, n_jobs=-1,\n",
       "              nthread=None, objective='binary:logistic', random_state=0,\n",
       "              reg_alpha=0, reg_lambda=5, scale_pos_weight=1, seed=None,\n",
       "              silent=None, subsample=0.7, verbosity=1)"
      ]
     },
     "execution_count": 27,
     "metadata": {},
     "output_type": "execute_result"
    }
   ],
   "source": [
    "xgb2=best_xgb2.best_estimator_\n",
    "xgb2.fit(x_train, y_train,\n",
    "        eval_set=[(x_train, y_train), (x_test, y_test)],\n",
    "        eval_metric=['aucpr','auc'],\n",
    "        verbose=True)"
   ]
  },
  {
   "cell_type": "code",
   "execution_count": 37,
   "metadata": {},
   "outputs": [],
   "source": [
    "params={'learning_rate':[0.1,0.05,0.03,0.01,0.005],'reg_lambda':[15,20,30,50,60]}"
   ]
  },
  {
   "cell_type": "code",
   "execution_count": 41,
   "metadata": {},
   "outputs": [],
   "source": [
    "xgb3=xgboost.XGBClassifier(n_estimators=200,subsample=0.8, max_depth=10, gamma=3, colsample_bytree=0.8,n_jobs=-1,min_child_weight=10)"
   ]
  },
  {
   "cell_type": "code",
   "execution_count": 39,
   "metadata": {},
   "outputs": [
    {
     "name": "stdout",
     "output_type": "stream",
     "text": [
      "Fitting 3 folds for each of 25 candidates, totalling 75 fits\n"
     ]
    },
    {
     "name": "stderr",
     "output_type": "stream",
     "text": [
      "[Parallel(n_jobs=-1)]: Using backend LokyBackend with 8 concurrent workers.\n",
      "[Parallel(n_jobs=-1)]: Done   2 tasks      | elapsed:   22.4s\n",
      "[Parallel(n_jobs=-1)]: Done  56 tasks      | elapsed:  5.5min\n",
      "[Parallel(n_jobs=-1)]: Done  75 out of  75 | elapsed: 27.4min finished\n"
     ]
    },
    {
     "data": {
      "text/plain": [
       "GridSearchCV(cv=StratifiedKFold(n_splits=3, random_state=None, shuffle=False),\n",
       "             error_score=nan,\n",
       "             estimator=XGBClassifier(base_score=0.5, booster='gbtree',\n",
       "                                     colsample_bylevel=1, colsample_bynode=1,\n",
       "                                     colsample_bytree=0.8, gamma=3,\n",
       "                                     learning_rate=0.1, max_delta_step=0,\n",
       "                                     max_depth=10, min_child_weight=10,\n",
       "                                     missing=None, n_estimators=200, n_jobs=-1,\n",
       "                                     nthread=None, objective='binary:logistic',\n",
       "                                     random_state=0, reg_alpha=0, reg_lambda=1,\n",
       "                                     scale_pos_weight=1, seed=None, silent=None,\n",
       "                                     subsample=0.8, verbosity=1),\n",
       "             iid='deprecated', n_jobs=-1,\n",
       "             param_grid={'learning_rate': [0.1, 0.05, 0.03, 0.01, 0.005],\n",
       "                         'reg_lambda': [15, 20, 30, 50, 60]},\n",
       "             pre_dispatch='2*n_jobs', refit=True, return_train_score=False,\n",
       "             scoring='f1', verbose=5)"
      ]
     },
     "execution_count": 39,
     "metadata": {},
     "output_type": "execute_result"
    }
   ],
   "source": [
    "random_xgb3=GridSearchCV(xgb3,params,cv=StratifiedKFold(n_splits=3),n_jobs=-1,verbose=5,scoring='f1')\n",
    "random_xgb3.fit(x_train,y_train)"
   ]
  },
  {
   "cell_type": "code",
   "execution_count": 40,
   "metadata": {},
   "outputs": [
    {
     "data": {
      "text/plain": [
       "{'learning_rate': 0.1, 'reg_lambda': 15}"
      ]
     },
     "execution_count": 40,
     "metadata": {},
     "output_type": "execute_result"
    }
   ],
   "source": [
    "random_xgb3.best_params_"
   ]
  },
  {
   "cell_type": "code",
   "execution_count": 18,
   "metadata": {},
   "outputs": [],
   "source": [
    "xgb3=xgboost.XGBClassifier(n_estimators=500,subsample=0.9, max_depth=10, gamma=3, colsample_bytree=0.8,n_jobs=-1,min_child_weight=20,reg_lambda=15)"
   ]
  },
  {
   "cell_type": "code",
   "execution_count": 48,
   "metadata": {
    "scrolled": false
   },
   "outputs": [
    {
     "name": "stdout",
     "output_type": "stream",
     "text": [
      "[0]\tvalidation_0-aucpr:0.951236\tvalidation_0-auc:0.938924\tvalidation_1-aucpr:0.373994\tvalidation_1-auc:0.773942\n",
      "[1]\tvalidation_0-aucpr:0.970099\tvalidation_0-auc:0.961733\tvalidation_1-aucpr:0.382933\tvalidation_1-auc:0.793908\n",
      "[2]\tvalidation_0-aucpr:0.97442\tvalidation_0-auc:0.966797\tvalidation_1-aucpr:0.393047\tvalidation_1-auc:0.800828\n",
      "[3]\tvalidation_0-aucpr:0.978119\tvalidation_0-auc:0.971638\tvalidation_1-aucpr:0.403835\tvalidation_1-auc:0.805061\n",
      "[4]\tvalidation_0-aucpr:0.979687\tvalidation_0-auc:0.974034\tvalidation_1-aucpr:0.399816\tvalidation_1-auc:0.805784\n",
      "[5]\tvalidation_0-aucpr:0.980828\tvalidation_0-auc:0.975562\tvalidation_1-aucpr:0.401047\tvalidation_1-auc:0.806802\n",
      "[6]\tvalidation_0-aucpr:0.981968\tvalidation_0-auc:0.977079\tvalidation_1-aucpr:0.402991\tvalidation_1-auc:0.808561\n",
      "[7]\tvalidation_0-aucpr:0.983323\tvalidation_0-auc:0.978652\tvalidation_1-aucpr:0.404866\tvalidation_1-auc:0.80995\n",
      "[8]\tvalidation_0-aucpr:0.983923\tvalidation_0-auc:0.97931\tvalidation_1-aucpr:0.406415\tvalidation_1-auc:0.810996\n",
      "[9]\tvalidation_0-aucpr:0.984333\tvalidation_0-auc:0.979809\tvalidation_1-aucpr:0.407801\tvalidation_1-auc:0.811667\n",
      "[10]\tvalidation_0-aucpr:0.984914\tvalidation_0-auc:0.980497\tvalidation_1-aucpr:0.41009\tvalidation_1-auc:0.81216\n",
      "[11]\tvalidation_0-aucpr:0.98556\tvalidation_0-auc:0.981294\tvalidation_1-aucpr:0.410791\tvalidation_1-auc:0.813306\n",
      "[12]\tvalidation_0-aucpr:0.986004\tvalidation_0-auc:0.981788\tvalidation_1-aucpr:0.411741\tvalidation_1-auc:0.813512\n",
      "[13]\tvalidation_0-aucpr:0.986298\tvalidation_0-auc:0.982113\tvalidation_1-aucpr:0.411737\tvalidation_1-auc:0.813694\n",
      "[14]\tvalidation_0-aucpr:0.986479\tvalidation_0-auc:0.982327\tvalidation_1-aucpr:0.413089\tvalidation_1-auc:0.813963\n",
      "[15]\tvalidation_0-aucpr:0.986802\tvalidation_0-auc:0.982724\tvalidation_1-aucpr:0.413529\tvalidation_1-auc:0.814525\n",
      "[16]\tvalidation_0-aucpr:0.987058\tvalidation_0-auc:0.983012\tvalidation_1-aucpr:0.414643\tvalidation_1-auc:0.81423\n",
      "[17]\tvalidation_0-aucpr:0.98725\tvalidation_0-auc:0.98324\tvalidation_1-aucpr:0.415368\tvalidation_1-auc:0.814344\n",
      "[18]\tvalidation_0-aucpr:0.987583\tvalidation_0-auc:0.983665\tvalidation_1-aucpr:0.423443\tvalidation_1-auc:0.817157\n",
      "[19]\tvalidation_0-aucpr:0.987811\tvalidation_0-auc:0.983954\tvalidation_1-aucpr:0.424863\tvalidation_1-auc:0.818286\n",
      "[20]\tvalidation_0-aucpr:0.987948\tvalidation_0-auc:0.984133\tvalidation_1-aucpr:0.426063\tvalidation_1-auc:0.819052\n",
      "[21]\tvalidation_0-aucpr:0.988097\tvalidation_0-auc:0.984318\tvalidation_1-aucpr:0.428363\tvalidation_1-auc:0.819968\n",
      "[22]\tvalidation_0-aucpr:0.988241\tvalidation_0-auc:0.984498\tvalidation_1-aucpr:0.428463\tvalidation_1-auc:0.819974\n",
      "[23]\tvalidation_0-aucpr:0.988416\tvalidation_0-auc:0.984723\tvalidation_1-aucpr:0.432075\tvalidation_1-auc:0.821274\n",
      "[24]\tvalidation_0-aucpr:0.988519\tvalidation_0-auc:0.984855\tvalidation_1-aucpr:0.433887\tvalidation_1-auc:0.822189\n",
      "[25]\tvalidation_0-aucpr:0.988641\tvalidation_0-auc:0.985023\tvalidation_1-aucpr:0.435647\tvalidation_1-auc:0.823206\n",
      "[26]\tvalidation_0-aucpr:0.988782\tvalidation_0-auc:0.985192\tvalidation_1-aucpr:0.441052\tvalidation_1-auc:0.824442\n",
      "[27]\tvalidation_0-aucpr:0.988865\tvalidation_0-auc:0.985297\tvalidation_1-aucpr:0.443204\tvalidation_1-auc:0.825228\n",
      "[28]\tvalidation_0-aucpr:0.98898\tvalidation_0-auc:0.985447\tvalidation_1-aucpr:0.446444\tvalidation_1-auc:0.826153\n",
      "[29]\tvalidation_0-aucpr:0.989067\tvalidation_0-auc:0.985565\tvalidation_1-aucpr:0.447177\tvalidation_1-auc:0.826691\n",
      "[30]\tvalidation_0-aucpr:0.989186\tvalidation_0-auc:0.985712\tvalidation_1-aucpr:0.45353\tvalidation_1-auc:0.828242\n",
      "[31]\tvalidation_0-aucpr:0.989252\tvalidation_0-auc:0.985794\tvalidation_1-aucpr:0.45513\tvalidation_1-auc:0.828517\n",
      "[32]\tvalidation_0-aucpr:0.989374\tvalidation_0-auc:0.985944\tvalidation_1-aucpr:0.460851\tvalidation_1-auc:0.829438\n",
      "[33]\tvalidation_0-aucpr:0.989495\tvalidation_0-auc:0.986095\tvalidation_1-aucpr:0.466696\tvalidation_1-auc:0.830304\n",
      "[34]\tvalidation_0-aucpr:0.989553\tvalidation_0-auc:0.98617\tvalidation_1-aucpr:0.4671\tvalidation_1-auc:0.83049\n",
      "[35]\tvalidation_0-aucpr:0.98962\tvalidation_0-auc:0.986266\tvalidation_1-aucpr:0.467684\tvalidation_1-auc:0.830812\n",
      "[36]\tvalidation_0-aucpr:0.98969\tvalidation_0-auc:0.986353\tvalidation_1-aucpr:0.470475\tvalidation_1-auc:0.83139\n",
      "[37]\tvalidation_0-aucpr:0.98977\tvalidation_0-auc:0.986461\tvalidation_1-aucpr:0.472531\tvalidation_1-auc:0.831551\n",
      "[38]\tvalidation_0-aucpr:0.989819\tvalidation_0-auc:0.986528\tvalidation_1-aucpr:0.473795\tvalidation_1-auc:0.831861\n",
      "[39]\tvalidation_0-aucpr:0.989885\tvalidation_0-auc:0.986611\tvalidation_1-aucpr:0.475298\tvalidation_1-auc:0.832231\n",
      "[40]\tvalidation_0-aucpr:0.989957\tvalidation_0-auc:0.986712\tvalidation_1-aucpr:0.476746\tvalidation_1-auc:0.832575\n",
      "[41]\tvalidation_0-aucpr:0.990018\tvalidation_0-auc:0.986802\tvalidation_1-aucpr:0.477621\tvalidation_1-auc:0.83302\n",
      "[42]\tvalidation_0-aucpr:0.990064\tvalidation_0-auc:0.986863\tvalidation_1-aucpr:0.478948\tvalidation_1-auc:0.833218\n",
      "[43]\tvalidation_0-aucpr:0.990112\tvalidation_0-auc:0.986927\tvalidation_1-aucpr:0.479646\tvalidation_1-auc:0.833473\n",
      "[44]\tvalidation_0-aucpr:0.990174\tvalidation_0-auc:0.987009\tvalidation_1-aucpr:0.482033\tvalidation_1-auc:0.833841\n",
      "[45]\tvalidation_0-aucpr:0.990222\tvalidation_0-auc:0.987078\tvalidation_1-aucpr:0.48206\tvalidation_1-auc:0.834038\n",
      "[46]\tvalidation_0-aucpr:0.99027\tvalidation_0-auc:0.987149\tvalidation_1-aucpr:0.482593\tvalidation_1-auc:0.834313\n",
      "[47]\tvalidation_0-aucpr:0.990323\tvalidation_0-auc:0.987222\tvalidation_1-aucpr:0.483125\tvalidation_1-auc:0.834523\n",
      "[48]\tvalidation_0-aucpr:0.99037\tvalidation_0-auc:0.987286\tvalidation_1-aucpr:0.484366\tvalidation_1-auc:0.834826\n",
      "[49]\tvalidation_0-aucpr:0.990395\tvalidation_0-auc:0.98732\tvalidation_1-aucpr:0.484517\tvalidation_1-auc:0.834905\n",
      "[50]\tvalidation_0-aucpr:0.990433\tvalidation_0-auc:0.987376\tvalidation_1-aucpr:0.484762\tvalidation_1-auc:0.835113\n",
      "[51]\tvalidation_0-aucpr:0.990474\tvalidation_0-auc:0.98743\tvalidation_1-aucpr:0.485659\tvalidation_1-auc:0.835443\n",
      "[52]\tvalidation_0-aucpr:0.99051\tvalidation_0-auc:0.987481\tvalidation_1-aucpr:0.486086\tvalidation_1-auc:0.835658\n",
      "[53]\tvalidation_0-aucpr:0.990555\tvalidation_0-auc:0.987548\tvalidation_1-aucpr:0.486349\tvalidation_1-auc:0.835987\n",
      "[54]\tvalidation_0-aucpr:0.990595\tvalidation_0-auc:0.987603\tvalidation_1-aucpr:0.487216\tvalidation_1-auc:0.83619\n",
      "[55]\tvalidation_0-aucpr:0.990642\tvalidation_0-auc:0.98767\tvalidation_1-aucpr:0.487457\tvalidation_1-auc:0.836429\n",
      "[56]\tvalidation_0-aucpr:0.990677\tvalidation_0-auc:0.98772\tvalidation_1-aucpr:0.488085\tvalidation_1-auc:0.836656\n",
      "[57]\tvalidation_0-aucpr:0.990712\tvalidation_0-auc:0.987769\tvalidation_1-aucpr:0.488809\tvalidation_1-auc:0.836769\n",
      "[58]\tvalidation_0-aucpr:0.990748\tvalidation_0-auc:0.987823\tvalidation_1-aucpr:0.489298\tvalidation_1-auc:0.836939\n",
      "[59]\tvalidation_0-aucpr:0.990773\tvalidation_0-auc:0.987858\tvalidation_1-aucpr:0.489436\tvalidation_1-auc:0.836967\n",
      "[60]\tvalidation_0-aucpr:0.990797\tvalidation_0-auc:0.987892\tvalidation_1-aucpr:0.48999\tvalidation_1-auc:0.837189\n",
      "[61]\tvalidation_0-aucpr:0.99082\tvalidation_0-auc:0.987926\tvalidation_1-aucpr:0.489891\tvalidation_1-auc:0.837124\n",
      "[62]\tvalidation_0-aucpr:0.990844\tvalidation_0-auc:0.987958\tvalidation_1-aucpr:0.489894\tvalidation_1-auc:0.837067\n",
      "[63]\tvalidation_0-aucpr:0.990868\tvalidation_0-auc:0.98799\tvalidation_1-aucpr:0.489914\tvalidation_1-auc:0.836903\n",
      "[64]\tvalidation_0-aucpr:0.990899\tvalidation_0-auc:0.988035\tvalidation_1-aucpr:0.490008\tvalidation_1-auc:0.837032\n",
      "[65]\tvalidation_0-aucpr:0.990937\tvalidation_0-auc:0.988091\tvalidation_1-aucpr:0.490492\tvalidation_1-auc:0.837279\n",
      "[66]\tvalidation_0-aucpr:0.99098\tvalidation_0-auc:0.988156\tvalidation_1-aucpr:0.490332\tvalidation_1-auc:0.837469\n",
      "[67]\tvalidation_0-aucpr:0.991011\tvalidation_0-auc:0.988202\tvalidation_1-aucpr:0.490419\tvalidation_1-auc:0.837542\n",
      "[68]\tvalidation_0-aucpr:0.99105\tvalidation_0-auc:0.988258\tvalidation_1-aucpr:0.491243\tvalidation_1-auc:0.837726\n",
      "[69]\tvalidation_0-aucpr:0.991084\tvalidation_0-auc:0.98831\tvalidation_1-aucpr:0.491289\tvalidation_1-auc:0.83785\n",
      "[70]\tvalidation_0-aucpr:0.991099\tvalidation_0-auc:0.988331\tvalidation_1-aucpr:0.491417\tvalidation_1-auc:0.837969\n",
      "[71]\tvalidation_0-aucpr:0.99113\tvalidation_0-auc:0.988378\tvalidation_1-aucpr:0.491647\tvalidation_1-auc:0.838094\n",
      "[72]\tvalidation_0-aucpr:0.99116\tvalidation_0-auc:0.988421\tvalidation_1-aucpr:0.491653\tvalidation_1-auc:0.838138\n"
     ]
    },
    {
     "name": "stdout",
     "output_type": "stream",
     "text": [
      "[73]\tvalidation_0-aucpr:0.991172\tvalidation_0-auc:0.988439\tvalidation_1-aucpr:0.491669\tvalidation_1-auc:0.838136\n",
      "[74]\tvalidation_0-aucpr:0.991188\tvalidation_0-auc:0.988464\tvalidation_1-aucpr:0.491388\tvalidation_1-auc:0.838097\n",
      "[75]\tvalidation_0-aucpr:0.99123\tvalidation_0-auc:0.988525\tvalidation_1-aucpr:0.492961\tvalidation_1-auc:0.838344\n",
      "[76]\tvalidation_0-aucpr:0.991249\tvalidation_0-auc:0.988554\tvalidation_1-aucpr:0.493095\tvalidation_1-auc:0.838394\n",
      "[77]\tvalidation_0-aucpr:0.991272\tvalidation_0-auc:0.988588\tvalidation_1-aucpr:0.493351\tvalidation_1-auc:0.838409\n",
      "[78]\tvalidation_0-aucpr:0.991286\tvalidation_0-auc:0.988609\tvalidation_1-aucpr:0.493286\tvalidation_1-auc:0.838473\n",
      "[79]\tvalidation_0-aucpr:0.991297\tvalidation_0-auc:0.988626\tvalidation_1-aucpr:0.493204\tvalidation_1-auc:0.838403\n",
      "[80]\tvalidation_0-aucpr:0.99132\tvalidation_0-auc:0.988661\tvalidation_1-aucpr:0.493398\tvalidation_1-auc:0.838344\n",
      "[81]\tvalidation_0-aucpr:0.991342\tvalidation_0-auc:0.988693\tvalidation_1-aucpr:0.493347\tvalidation_1-auc:0.838374\n",
      "[82]\tvalidation_0-aucpr:0.991359\tvalidation_0-auc:0.988717\tvalidation_1-aucpr:0.493588\tvalidation_1-auc:0.838503\n",
      "[83]\tvalidation_0-aucpr:0.991403\tvalidation_0-auc:0.988784\tvalidation_1-aucpr:0.495485\tvalidation_1-auc:0.838827\n",
      "[84]\tvalidation_0-aucpr:0.99142\tvalidation_0-auc:0.988809\tvalidation_1-aucpr:0.495378\tvalidation_1-auc:0.838879\n",
      "[85]\tvalidation_0-aucpr:0.991454\tvalidation_0-auc:0.98886\tvalidation_1-aucpr:0.495418\tvalidation_1-auc:0.838923\n",
      "[86]\tvalidation_0-aucpr:0.991478\tvalidation_0-auc:0.988895\tvalidation_1-aucpr:0.495493\tvalidation_1-auc:0.838988\n",
      "[87]\tvalidation_0-aucpr:0.991509\tvalidation_0-auc:0.98894\tvalidation_1-aucpr:0.495732\tvalidation_1-auc:0.839039\n",
      "[88]\tvalidation_0-aucpr:0.991524\tvalidation_0-auc:0.988962\tvalidation_1-aucpr:0.49627\tvalidation_1-auc:0.839018\n",
      "[89]\tvalidation_0-aucpr:0.99154\tvalidation_0-auc:0.988987\tvalidation_1-aucpr:0.496395\tvalidation_1-auc:0.839055\n",
      "[90]\tvalidation_0-aucpr:0.991557\tvalidation_0-auc:0.989013\tvalidation_1-aucpr:0.49651\tvalidation_1-auc:0.839084\n",
      "[91]\tvalidation_0-aucpr:0.991579\tvalidation_0-auc:0.989046\tvalidation_1-aucpr:0.496398\tvalidation_1-auc:0.838949\n",
      "[92]\tvalidation_0-aucpr:0.991613\tvalidation_0-auc:0.989097\tvalidation_1-aucpr:0.497582\tvalidation_1-auc:0.839166\n",
      "[93]\tvalidation_0-aucpr:0.99164\tvalidation_0-auc:0.989136\tvalidation_1-aucpr:0.497748\tvalidation_1-auc:0.839251\n",
      "[94]\tvalidation_0-aucpr:0.991653\tvalidation_0-auc:0.989155\tvalidation_1-aucpr:0.497854\tvalidation_1-auc:0.839316\n",
      "[95]\tvalidation_0-aucpr:0.991669\tvalidation_0-auc:0.989179\tvalidation_1-aucpr:0.497944\tvalidation_1-auc:0.839432\n",
      "[96]\tvalidation_0-aucpr:0.991704\tvalidation_0-auc:0.989229\tvalidation_1-aucpr:0.498104\tvalidation_1-auc:0.839526\n",
      "[97]\tvalidation_0-aucpr:0.99173\tvalidation_0-auc:0.989267\tvalidation_1-aucpr:0.498401\tvalidation_1-auc:0.839717\n",
      "[98]\tvalidation_0-aucpr:0.991747\tvalidation_0-auc:0.989295\tvalidation_1-aucpr:0.498315\tvalidation_1-auc:0.83969\n",
      "[99]\tvalidation_0-aucpr:0.99176\tvalidation_0-auc:0.989313\tvalidation_1-aucpr:0.498488\tvalidation_1-auc:0.839775\n",
      "[100]\tvalidation_0-aucpr:0.99178\tvalidation_0-auc:0.989343\tvalidation_1-aucpr:0.498566\tvalidation_1-auc:0.839716\n",
      "[101]\tvalidation_0-aucpr:0.991791\tvalidation_0-auc:0.989358\tvalidation_1-aucpr:0.498751\tvalidation_1-auc:0.839813\n",
      "[102]\tvalidation_0-aucpr:0.991814\tvalidation_0-auc:0.989392\tvalidation_1-aucpr:0.498993\tvalidation_1-auc:0.839827\n",
      "[103]\tvalidation_0-aucpr:0.991836\tvalidation_0-auc:0.989425\tvalidation_1-aucpr:0.499147\tvalidation_1-auc:0.83986\n",
      "[104]\tvalidation_0-aucpr:0.991856\tvalidation_0-auc:0.989454\tvalidation_1-aucpr:0.498894\tvalidation_1-auc:0.839806\n",
      "[105]\tvalidation_0-aucpr:0.991887\tvalidation_0-auc:0.9895\tvalidation_1-aucpr:0.499648\tvalidation_1-auc:0.840093\n",
      "[106]\tvalidation_0-aucpr:0.991907\tvalidation_0-auc:0.98953\tvalidation_1-aucpr:0.499532\tvalidation_1-auc:0.840097\n",
      "[107]\tvalidation_0-aucpr:0.991942\tvalidation_0-auc:0.989582\tvalidation_1-aucpr:0.499978\tvalidation_1-auc:0.840201\n",
      "[108]\tvalidation_0-aucpr:0.99195\tvalidation_0-auc:0.989595\tvalidation_1-aucpr:0.500018\tvalidation_1-auc:0.840191\n",
      "[109]\tvalidation_0-aucpr:0.99197\tvalidation_0-auc:0.989624\tvalidation_1-aucpr:0.500063\tvalidation_1-auc:0.84007\n",
      "[110]\tvalidation_0-aucpr:0.991993\tvalidation_0-auc:0.989658\tvalidation_1-aucpr:0.500077\tvalidation_1-auc:0.840176\n",
      "[111]\tvalidation_0-aucpr:0.992005\tvalidation_0-auc:0.989674\tvalidation_1-aucpr:0.500322\tvalidation_1-auc:0.840294\n",
      "[112]\tvalidation_0-aucpr:0.992018\tvalidation_0-auc:0.989694\tvalidation_1-aucpr:0.500368\tvalidation_1-auc:0.840323\n",
      "[113]\tvalidation_0-aucpr:0.992055\tvalidation_0-auc:0.98975\tvalidation_1-aucpr:0.50057\tvalidation_1-auc:0.840425\n",
      "[114]\tvalidation_0-aucpr:0.992072\tvalidation_0-auc:0.989775\tvalidation_1-aucpr:0.500733\tvalidation_1-auc:0.840465\n",
      "[115]\tvalidation_0-aucpr:0.992104\tvalidation_0-auc:0.989824\tvalidation_1-aucpr:0.500996\tvalidation_1-auc:0.840636\n",
      "[116]\tvalidation_0-aucpr:0.992115\tvalidation_0-auc:0.98984\tvalidation_1-aucpr:0.501079\tvalidation_1-auc:0.840683\n",
      "[117]\tvalidation_0-aucpr:0.992142\tvalidation_0-auc:0.989881\tvalidation_1-aucpr:0.501023\tvalidation_1-auc:0.840739\n",
      "[118]\tvalidation_0-aucpr:0.992166\tvalidation_0-auc:0.989915\tvalidation_1-aucpr:0.501106\tvalidation_1-auc:0.840761\n",
      "[119]\tvalidation_0-aucpr:0.992173\tvalidation_0-auc:0.989927\tvalidation_1-aucpr:0.501046\tvalidation_1-auc:0.840798\n",
      "[120]\tvalidation_0-aucpr:0.992188\tvalidation_0-auc:0.989948\tvalidation_1-aucpr:0.501139\tvalidation_1-auc:0.840712\n",
      "[121]\tvalidation_0-aucpr:0.992217\tvalidation_0-auc:0.989991\tvalidation_1-aucpr:0.501383\tvalidation_1-auc:0.840804\n",
      "[122]\tvalidation_0-aucpr:0.992222\tvalidation_0-auc:0.989997\tvalidation_1-aucpr:0.501323\tvalidation_1-auc:0.840772\n",
      "[123]\tvalidation_0-aucpr:0.992242\tvalidation_0-auc:0.990026\tvalidation_1-aucpr:0.501603\tvalidation_1-auc:0.840763\n",
      "[124]\tvalidation_0-aucpr:0.992267\tvalidation_0-auc:0.99006\tvalidation_1-aucpr:0.501705\tvalidation_1-auc:0.840878\n",
      "[125]\tvalidation_0-aucpr:0.992288\tvalidation_0-auc:0.990092\tvalidation_1-aucpr:0.501793\tvalidation_1-auc:0.840959\n",
      "[126]\tvalidation_0-aucpr:0.992299\tvalidation_0-auc:0.990106\tvalidation_1-aucpr:0.501709\tvalidation_1-auc:0.84093\n",
      "[127]\tvalidation_0-aucpr:0.992319\tvalidation_0-auc:0.990135\tvalidation_1-aucpr:0.501968\tvalidation_1-auc:0.84096\n",
      "[128]\tvalidation_0-aucpr:0.992336\tvalidation_0-auc:0.99016\tvalidation_1-aucpr:0.502191\tvalidation_1-auc:0.840982\n",
      "[129]\tvalidation_0-aucpr:0.992363\tvalidation_0-auc:0.9902\tvalidation_1-aucpr:0.50233\tvalidation_1-auc:0.841002\n",
      "[130]\tvalidation_0-aucpr:0.992385\tvalidation_0-auc:0.990233\tvalidation_1-aucpr:0.502298\tvalidation_1-auc:0.841075\n",
      "[131]\tvalidation_0-aucpr:0.992401\tvalidation_0-auc:0.990258\tvalidation_1-aucpr:0.502282\tvalidation_1-auc:0.841022\n",
      "[132]\tvalidation_0-aucpr:0.992408\tvalidation_0-auc:0.990267\tvalidation_1-aucpr:0.502404\tvalidation_1-auc:0.841072\n",
      "[133]\tvalidation_0-aucpr:0.99243\tvalidation_0-auc:0.990301\tvalidation_1-aucpr:0.502374\tvalidation_1-auc:0.841105\n",
      "[134]\tvalidation_0-aucpr:0.992453\tvalidation_0-auc:0.990333\tvalidation_1-aucpr:0.502202\tvalidation_1-auc:0.841059\n",
      "[135]\tvalidation_0-aucpr:0.992477\tvalidation_0-auc:0.990369\tvalidation_1-aucpr:0.502111\tvalidation_1-auc:0.841137\n",
      "[136]\tvalidation_0-aucpr:0.992486\tvalidation_0-auc:0.990383\tvalidation_1-aucpr:0.502149\tvalidation_1-auc:0.841153\n",
      "[137]\tvalidation_0-aucpr:0.992517\tvalidation_0-auc:0.990427\tvalidation_1-aucpr:0.502265\tvalidation_1-auc:0.841121\n",
      "[138]\tvalidation_0-aucpr:0.992535\tvalidation_0-auc:0.990452\tvalidation_1-aucpr:0.502469\tvalidation_1-auc:0.841188\n",
      "[139]\tvalidation_0-aucpr:0.992555\tvalidation_0-auc:0.990481\tvalidation_1-aucpr:0.502411\tvalidation_1-auc:0.841138\n",
      "[140]\tvalidation_0-aucpr:0.992569\tvalidation_0-auc:0.990501\tvalidation_1-aucpr:0.502577\tvalidation_1-auc:0.841188\n",
      "[141]\tvalidation_0-aucpr:0.992598\tvalidation_0-auc:0.990544\tvalidation_1-aucpr:0.502659\tvalidation_1-auc:0.841219\n",
      "[142]\tvalidation_0-aucpr:0.992615\tvalidation_0-auc:0.99057\tvalidation_1-aucpr:0.502777\tvalidation_1-auc:0.841247\n",
      "[143]\tvalidation_0-aucpr:0.992628\tvalidation_0-auc:0.990589\tvalidation_1-aucpr:0.502647\tvalidation_1-auc:0.841194\n",
      "[144]\tvalidation_0-aucpr:0.992639\tvalidation_0-auc:0.990604\tvalidation_1-aucpr:0.502718\tvalidation_1-auc:0.841259\n",
      "[145]\tvalidation_0-aucpr:0.99266\tvalidation_0-auc:0.990634\tvalidation_1-aucpr:0.502655\tvalidation_1-auc:0.841327\n"
     ]
    },
    {
     "name": "stdout",
     "output_type": "stream",
     "text": [
      "[146]\tvalidation_0-aucpr:0.992674\tvalidation_0-auc:0.990655\tvalidation_1-aucpr:0.502926\tvalidation_1-auc:0.841465\n",
      "[147]\tvalidation_0-aucpr:0.992694\tvalidation_0-auc:0.990684\tvalidation_1-aucpr:0.502912\tvalidation_1-auc:0.841525\n",
      "[148]\tvalidation_0-aucpr:0.992723\tvalidation_0-auc:0.990726\tvalidation_1-aucpr:0.503066\tvalidation_1-auc:0.841474\n",
      "[149]\tvalidation_0-aucpr:0.992733\tvalidation_0-auc:0.990741\tvalidation_1-aucpr:0.503352\tvalidation_1-auc:0.841576\n",
      "[150]\tvalidation_0-aucpr:0.992757\tvalidation_0-auc:0.990775\tvalidation_1-aucpr:0.50332\tvalidation_1-auc:0.841556\n",
      "[151]\tvalidation_0-aucpr:0.992782\tvalidation_0-auc:0.990811\tvalidation_1-aucpr:0.503285\tvalidation_1-auc:0.841494\n",
      "[152]\tvalidation_0-aucpr:0.99279\tvalidation_0-auc:0.990822\tvalidation_1-aucpr:0.503326\tvalidation_1-auc:0.841505\n",
      "[153]\tvalidation_0-aucpr:0.992801\tvalidation_0-auc:0.990837\tvalidation_1-aucpr:0.503461\tvalidation_1-auc:0.841417\n",
      "[154]\tvalidation_0-aucpr:0.992818\tvalidation_0-auc:0.990861\tvalidation_1-aucpr:0.503512\tvalidation_1-auc:0.841426\n",
      "[155]\tvalidation_0-aucpr:0.992843\tvalidation_0-auc:0.9909\tvalidation_1-aucpr:0.503563\tvalidation_1-auc:0.84146\n",
      "[156]\tvalidation_0-aucpr:0.992862\tvalidation_0-auc:0.990927\tvalidation_1-aucpr:0.503565\tvalidation_1-auc:0.841395\n",
      "[157]\tvalidation_0-aucpr:0.992876\tvalidation_0-auc:0.990948\tvalidation_1-aucpr:0.503481\tvalidation_1-auc:0.841388\n",
      "[158]\tvalidation_0-aucpr:0.99288\tvalidation_0-auc:0.990954\tvalidation_1-aucpr:0.503427\tvalidation_1-auc:0.841402\n",
      "[159]\tvalidation_0-aucpr:0.992893\tvalidation_0-auc:0.990973\tvalidation_1-aucpr:0.503439\tvalidation_1-auc:0.841432\n",
      "[160]\tvalidation_0-aucpr:0.992913\tvalidation_0-auc:0.991004\tvalidation_1-aucpr:0.503182\tvalidation_1-auc:0.841415\n",
      "[161]\tvalidation_0-aucpr:0.992931\tvalidation_0-auc:0.991029\tvalidation_1-aucpr:0.50329\tvalidation_1-auc:0.841521\n",
      "[162]\tvalidation_0-aucpr:0.992943\tvalidation_0-auc:0.991047\tvalidation_1-aucpr:0.503354\tvalidation_1-auc:0.841517\n",
      "[163]\tvalidation_0-aucpr:0.992979\tvalidation_0-auc:0.991097\tvalidation_1-aucpr:0.503332\tvalidation_1-auc:0.841425\n",
      "[164]\tvalidation_0-aucpr:0.992998\tvalidation_0-auc:0.991126\tvalidation_1-aucpr:0.503441\tvalidation_1-auc:0.841452\n",
      "[165]\tvalidation_0-aucpr:0.993\tvalidation_0-auc:0.991129\tvalidation_1-aucpr:0.503448\tvalidation_1-auc:0.841465\n",
      "[166]\tvalidation_0-aucpr:0.993015\tvalidation_0-auc:0.99115\tvalidation_1-aucpr:0.503351\tvalidation_1-auc:0.841488\n",
      "[167]\tvalidation_0-aucpr:0.993025\tvalidation_0-auc:0.991165\tvalidation_1-aucpr:0.503254\tvalidation_1-auc:0.841429\n",
      "[168]\tvalidation_0-aucpr:0.993036\tvalidation_0-auc:0.991179\tvalidation_1-aucpr:0.503386\tvalidation_1-auc:0.84148\n",
      "[169]\tvalidation_0-aucpr:0.99306\tvalidation_0-auc:0.991215\tvalidation_1-aucpr:0.503422\tvalidation_1-auc:0.841457\n",
      "[170]\tvalidation_0-aucpr:0.993078\tvalidation_0-auc:0.991239\tvalidation_1-aucpr:0.503457\tvalidation_1-auc:0.841468\n",
      "[171]\tvalidation_0-aucpr:0.993087\tvalidation_0-auc:0.991252\tvalidation_1-aucpr:0.503307\tvalidation_1-auc:0.841508\n",
      "[172]\tvalidation_0-aucpr:0.993101\tvalidation_0-auc:0.991271\tvalidation_1-aucpr:0.503306\tvalidation_1-auc:0.841481\n",
      "[173]\tvalidation_0-aucpr:0.993118\tvalidation_0-auc:0.991298\tvalidation_1-aucpr:0.503477\tvalidation_1-auc:0.841514\n",
      "[174]\tvalidation_0-aucpr:0.993141\tvalidation_0-auc:0.99133\tvalidation_1-aucpr:0.503494\tvalidation_1-auc:0.841439\n",
      "[175]\tvalidation_0-aucpr:0.993154\tvalidation_0-auc:0.991347\tvalidation_1-aucpr:0.503745\tvalidation_1-auc:0.841579\n",
      "[176]\tvalidation_0-aucpr:0.993165\tvalidation_0-auc:0.991363\tvalidation_1-aucpr:0.503922\tvalidation_1-auc:0.841599\n",
      "[177]\tvalidation_0-aucpr:0.993174\tvalidation_0-auc:0.991377\tvalidation_1-aucpr:0.503973\tvalidation_1-auc:0.841674\n",
      "[178]\tvalidation_0-aucpr:0.993199\tvalidation_0-auc:0.99141\tvalidation_1-aucpr:0.503969\tvalidation_1-auc:0.841637\n",
      "[179]\tvalidation_0-aucpr:0.993213\tvalidation_0-auc:0.99143\tvalidation_1-aucpr:0.504083\tvalidation_1-auc:0.841651\n",
      "[180]\tvalidation_0-aucpr:0.993228\tvalidation_0-auc:0.991453\tvalidation_1-aucpr:0.504164\tvalidation_1-auc:0.841646\n",
      "[181]\tvalidation_0-aucpr:0.993239\tvalidation_0-auc:0.991468\tvalidation_1-aucpr:0.50421\tvalidation_1-auc:0.84168\n",
      "[182]\tvalidation_0-aucpr:0.993263\tvalidation_0-auc:0.991501\tvalidation_1-aucpr:0.504164\tvalidation_1-auc:0.841653\n",
      "[183]\tvalidation_0-aucpr:0.993276\tvalidation_0-auc:0.991519\tvalidation_1-aucpr:0.50408\tvalidation_1-auc:0.841646\n",
      "[184]\tvalidation_0-aucpr:0.993289\tvalidation_0-auc:0.991538\tvalidation_1-aucpr:0.50393\tvalidation_1-auc:0.841606\n",
      "[185]\tvalidation_0-aucpr:0.993314\tvalidation_0-auc:0.991574\tvalidation_1-aucpr:0.504128\tvalidation_1-auc:0.84156\n",
      "[186]\tvalidation_0-aucpr:0.993324\tvalidation_0-auc:0.991589\tvalidation_1-aucpr:0.504292\tvalidation_1-auc:0.841634\n",
      "[187]\tvalidation_0-aucpr:0.993336\tvalidation_0-auc:0.991607\tvalidation_1-aucpr:0.504291\tvalidation_1-auc:0.841639\n",
      "[188]\tvalidation_0-aucpr:0.993341\tvalidation_0-auc:0.991615\tvalidation_1-aucpr:0.50425\tvalidation_1-auc:0.841642\n",
      "[189]\tvalidation_0-aucpr:0.993365\tvalidation_0-auc:0.991648\tvalidation_1-aucpr:0.504294\tvalidation_1-auc:0.841667\n",
      "[190]\tvalidation_0-aucpr:0.993397\tvalidation_0-auc:0.991695\tvalidation_1-aucpr:0.504356\tvalidation_1-auc:0.841707\n",
      "[191]\tvalidation_0-aucpr:0.993419\tvalidation_0-auc:0.991726\tvalidation_1-aucpr:0.504344\tvalidation_1-auc:0.84175\n",
      "[192]\tvalidation_0-aucpr:0.993433\tvalidation_0-auc:0.991745\tvalidation_1-aucpr:0.504408\tvalidation_1-auc:0.841824\n",
      "[193]\tvalidation_0-aucpr:0.993449\tvalidation_0-auc:0.991767\tvalidation_1-aucpr:0.504247\tvalidation_1-auc:0.841799\n",
      "[194]\tvalidation_0-aucpr:0.993469\tvalidation_0-auc:0.991794\tvalidation_1-aucpr:0.504246\tvalidation_1-auc:0.841831\n",
      "[195]\tvalidation_0-aucpr:0.993485\tvalidation_0-auc:0.991815\tvalidation_1-aucpr:0.504185\tvalidation_1-auc:0.841798\n",
      "[196]\tvalidation_0-aucpr:0.993504\tvalidation_0-auc:0.991841\tvalidation_1-aucpr:0.50429\tvalidation_1-auc:0.841875\n",
      "[197]\tvalidation_0-aucpr:0.993524\tvalidation_0-auc:0.991872\tvalidation_1-aucpr:0.504049\tvalidation_1-auc:0.841773\n",
      "[198]\tvalidation_0-aucpr:0.993542\tvalidation_0-auc:0.991897\tvalidation_1-aucpr:0.504065\tvalidation_1-auc:0.841753\n",
      "[199]\tvalidation_0-aucpr:0.993552\tvalidation_0-auc:0.991911\tvalidation_1-aucpr:0.504032\tvalidation_1-auc:0.841711\n",
      "[200]\tvalidation_0-aucpr:0.993567\tvalidation_0-auc:0.991932\tvalidation_1-aucpr:0.50395\tvalidation_1-auc:0.841627\n",
      "[201]\tvalidation_0-aucpr:0.993572\tvalidation_0-auc:0.99194\tvalidation_1-aucpr:0.504091\tvalidation_1-auc:0.841664\n",
      "[202]\tvalidation_0-aucpr:0.993608\tvalidation_0-auc:0.991991\tvalidation_1-aucpr:0.504122\tvalidation_1-auc:0.841653\n",
      "[203]\tvalidation_0-aucpr:0.993625\tvalidation_0-auc:0.992016\tvalidation_1-aucpr:0.504064\tvalidation_1-auc:0.841669\n",
      "[204]\tvalidation_0-aucpr:0.99363\tvalidation_0-auc:0.992023\tvalidation_1-aucpr:0.504099\tvalidation_1-auc:0.841662\n",
      "[205]\tvalidation_0-aucpr:0.993642\tvalidation_0-auc:0.992038\tvalidation_1-aucpr:0.504108\tvalidation_1-auc:0.841637\n",
      "[206]\tvalidation_0-aucpr:0.993654\tvalidation_0-auc:0.992054\tvalidation_1-aucpr:0.504085\tvalidation_1-auc:0.841531\n",
      "[207]\tvalidation_0-aucpr:0.993663\tvalidation_0-auc:0.992068\tvalidation_1-aucpr:0.503929\tvalidation_1-auc:0.841407\n",
      "[208]\tvalidation_0-aucpr:0.99368\tvalidation_0-auc:0.992091\tvalidation_1-aucpr:0.504035\tvalidation_1-auc:0.841356\n",
      "[209]\tvalidation_0-aucpr:0.9937\tvalidation_0-auc:0.992119\tvalidation_1-aucpr:0.504037\tvalidation_1-auc:0.841397\n",
      "[210]\tvalidation_0-aucpr:0.993716\tvalidation_0-auc:0.99214\tvalidation_1-aucpr:0.504157\tvalidation_1-auc:0.841414\n",
      "[211]\tvalidation_0-aucpr:0.993725\tvalidation_0-auc:0.992153\tvalidation_1-aucpr:0.504018\tvalidation_1-auc:0.841441\n",
      "[212]\tvalidation_0-aucpr:0.99373\tvalidation_0-auc:0.992162\tvalidation_1-aucpr:0.503987\tvalidation_1-auc:0.841431\n",
      "[213]\tvalidation_0-aucpr:0.993745\tvalidation_0-auc:0.992181\tvalidation_1-aucpr:0.503877\tvalidation_1-auc:0.841493\n",
      "[214]\tvalidation_0-aucpr:0.993759\tvalidation_0-auc:0.992201\tvalidation_1-aucpr:0.503977\tvalidation_1-auc:0.84152\n",
      "[215]\tvalidation_0-aucpr:0.993773\tvalidation_0-auc:0.992219\tvalidation_1-aucpr:0.503965\tvalidation_1-auc:0.841539\n",
      "[216]\tvalidation_0-aucpr:0.993777\tvalidation_0-auc:0.992225\tvalidation_1-aucpr:0.504036\tvalidation_1-auc:0.841533\n",
      "[217]\tvalidation_0-aucpr:0.993795\tvalidation_0-auc:0.992251\tvalidation_1-aucpr:0.504083\tvalidation_1-auc:0.841564\n",
      "[218]\tvalidation_0-aucpr:0.993818\tvalidation_0-auc:0.992285\tvalidation_1-aucpr:0.504166\tvalidation_1-auc:0.841523\n"
     ]
    },
    {
     "name": "stdout",
     "output_type": "stream",
     "text": [
      "[219]\tvalidation_0-aucpr:0.993839\tvalidation_0-auc:0.992315\tvalidation_1-aucpr:0.504136\tvalidation_1-auc:0.841589\n",
      "[220]\tvalidation_0-aucpr:0.993853\tvalidation_0-auc:0.992335\tvalidation_1-aucpr:0.504064\tvalidation_1-auc:0.841557\n",
      "[221]\tvalidation_0-aucpr:0.993858\tvalidation_0-auc:0.992342\tvalidation_1-aucpr:0.504141\tvalidation_1-auc:0.841618\n",
      "[222]\tvalidation_0-aucpr:0.993864\tvalidation_0-auc:0.99235\tvalidation_1-aucpr:0.504143\tvalidation_1-auc:0.841681\n",
      "[223]\tvalidation_0-aucpr:0.993885\tvalidation_0-auc:0.992381\tvalidation_1-aucpr:0.504358\tvalidation_1-auc:0.841805\n",
      "[224]\tvalidation_0-aucpr:0.993898\tvalidation_0-auc:0.992399\tvalidation_1-aucpr:0.504334\tvalidation_1-auc:0.841805\n",
      "[225]\tvalidation_0-aucpr:0.993911\tvalidation_0-auc:0.992417\tvalidation_1-aucpr:0.504439\tvalidation_1-auc:0.841916\n",
      "[226]\tvalidation_0-aucpr:0.993935\tvalidation_0-auc:0.992452\tvalidation_1-aucpr:0.504381\tvalidation_1-auc:0.841948\n",
      "[227]\tvalidation_0-aucpr:0.993946\tvalidation_0-auc:0.992467\tvalidation_1-aucpr:0.504407\tvalidation_1-auc:0.841991\n",
      "[228]\tvalidation_0-aucpr:0.993951\tvalidation_0-auc:0.992473\tvalidation_1-aucpr:0.504328\tvalidation_1-auc:0.841992\n",
      "[229]\tvalidation_0-aucpr:0.993966\tvalidation_0-auc:0.992495\tvalidation_1-aucpr:0.504326\tvalidation_1-auc:0.841935\n",
      "[230]\tvalidation_0-aucpr:0.993975\tvalidation_0-auc:0.992507\tvalidation_1-aucpr:0.504374\tvalidation_1-auc:0.841924\n",
      "[231]\tvalidation_0-aucpr:0.993993\tvalidation_0-auc:0.99253\tvalidation_1-aucpr:0.504256\tvalidation_1-auc:0.841912\n",
      "[232]\tvalidation_0-aucpr:0.994008\tvalidation_0-auc:0.992552\tvalidation_1-aucpr:0.504323\tvalidation_1-auc:0.84194\n",
      "[233]\tvalidation_0-aucpr:0.994021\tvalidation_0-auc:0.992571\tvalidation_1-aucpr:0.504372\tvalidation_1-auc:0.841905\n",
      "[234]\tvalidation_0-aucpr:0.994036\tvalidation_0-auc:0.992592\tvalidation_1-aucpr:0.504311\tvalidation_1-auc:0.841927\n",
      "[235]\tvalidation_0-aucpr:0.994047\tvalidation_0-auc:0.992607\tvalidation_1-aucpr:0.504234\tvalidation_1-auc:0.841968\n",
      "[236]\tvalidation_0-aucpr:0.994062\tvalidation_0-auc:0.992629\tvalidation_1-aucpr:0.50425\tvalidation_1-auc:0.842049\n",
      "[237]\tvalidation_0-aucpr:0.994068\tvalidation_0-auc:0.992637\tvalidation_1-aucpr:0.504264\tvalidation_1-auc:0.842093\n",
      "[238]\tvalidation_0-aucpr:0.994085\tvalidation_0-auc:0.99266\tvalidation_1-aucpr:0.504339\tvalidation_1-auc:0.84215\n",
      "[239]\tvalidation_0-aucpr:0.994112\tvalidation_0-auc:0.992696\tvalidation_1-aucpr:0.504434\tvalidation_1-auc:0.842129\n",
      "[240]\tvalidation_0-aucpr:0.994117\tvalidation_0-auc:0.992703\tvalidation_1-aucpr:0.504473\tvalidation_1-auc:0.842129\n",
      "[241]\tvalidation_0-aucpr:0.994125\tvalidation_0-auc:0.992714\tvalidation_1-aucpr:0.504422\tvalidation_1-auc:0.84212\n",
      "[242]\tvalidation_0-aucpr:0.994138\tvalidation_0-auc:0.992732\tvalidation_1-aucpr:0.504406\tvalidation_1-auc:0.842145\n",
      "[243]\tvalidation_0-aucpr:0.994153\tvalidation_0-auc:0.992752\tvalidation_1-aucpr:0.50447\tvalidation_1-auc:0.842121\n",
      "[244]\tvalidation_0-aucpr:0.994166\tvalidation_0-auc:0.992772\tvalidation_1-aucpr:0.504613\tvalidation_1-auc:0.84226\n",
      "[245]\tvalidation_0-aucpr:0.994179\tvalidation_0-auc:0.992789\tvalidation_1-aucpr:0.504556\tvalidation_1-auc:0.842237\n",
      "[246]\tvalidation_0-aucpr:0.994203\tvalidation_0-auc:0.992823\tvalidation_1-aucpr:0.504566\tvalidation_1-auc:0.842286\n",
      "[247]\tvalidation_0-aucpr:0.994208\tvalidation_0-auc:0.992829\tvalidation_1-aucpr:0.504588\tvalidation_1-auc:0.842297\n",
      "[248]\tvalidation_0-aucpr:0.994235\tvalidation_0-auc:0.992867\tvalidation_1-aucpr:0.504391\tvalidation_1-auc:0.842298\n",
      "[249]\tvalidation_0-aucpr:0.994245\tvalidation_0-auc:0.992881\tvalidation_1-aucpr:0.5045\tvalidation_1-auc:0.842303\n",
      "[250]\tvalidation_0-aucpr:0.994257\tvalidation_0-auc:0.992896\tvalidation_1-aucpr:0.50437\tvalidation_1-auc:0.842256\n",
      "[251]\tvalidation_0-aucpr:0.994264\tvalidation_0-auc:0.992907\tvalidation_1-aucpr:0.504336\tvalidation_1-auc:0.842264\n",
      "[252]\tvalidation_0-aucpr:0.994276\tvalidation_0-auc:0.992923\tvalidation_1-aucpr:0.504544\tvalidation_1-auc:0.842434\n",
      "[253]\tvalidation_0-aucpr:0.994291\tvalidation_0-auc:0.992944\tvalidation_1-aucpr:0.504577\tvalidation_1-auc:0.842445\n",
      "[254]\tvalidation_0-aucpr:0.994307\tvalidation_0-auc:0.992968\tvalidation_1-aucpr:0.50463\tvalidation_1-auc:0.842432\n",
      "[255]\tvalidation_0-aucpr:0.99432\tvalidation_0-auc:0.992985\tvalidation_1-aucpr:0.504678\tvalidation_1-auc:0.842401\n",
      "[256]\tvalidation_0-aucpr:0.994327\tvalidation_0-auc:0.992995\tvalidation_1-aucpr:0.504734\tvalidation_1-auc:0.842431\n",
      "[257]\tvalidation_0-aucpr:0.994346\tvalidation_0-auc:0.993021\tvalidation_1-aucpr:0.504678\tvalidation_1-auc:0.842332\n",
      "[258]\tvalidation_0-aucpr:0.99436\tvalidation_0-auc:0.99304\tvalidation_1-aucpr:0.504783\tvalidation_1-auc:0.842292\n",
      "[259]\tvalidation_0-aucpr:0.99437\tvalidation_0-auc:0.993055\tvalidation_1-aucpr:0.504658\tvalidation_1-auc:0.842282\n",
      "[260]\tvalidation_0-aucpr:0.994381\tvalidation_0-auc:0.99307\tvalidation_1-aucpr:0.504574\tvalidation_1-auc:0.842245\n",
      "[261]\tvalidation_0-aucpr:0.994393\tvalidation_0-auc:0.993088\tvalidation_1-aucpr:0.50449\tvalidation_1-auc:0.842257\n",
      "[262]\tvalidation_0-aucpr:0.994401\tvalidation_0-auc:0.9931\tvalidation_1-aucpr:0.504517\tvalidation_1-auc:0.842284\n",
      "[263]\tvalidation_0-aucpr:0.994412\tvalidation_0-auc:0.993115\tvalidation_1-aucpr:0.504469\tvalidation_1-auc:0.842278\n",
      "[264]\tvalidation_0-aucpr:0.994422\tvalidation_0-auc:0.993128\tvalidation_1-aucpr:0.504341\tvalidation_1-auc:0.842227\n",
      "[265]\tvalidation_0-aucpr:0.994429\tvalidation_0-auc:0.993137\tvalidation_1-aucpr:0.50417\tvalidation_1-auc:0.842188\n",
      "[266]\tvalidation_0-aucpr:0.994438\tvalidation_0-auc:0.99315\tvalidation_1-aucpr:0.504274\tvalidation_1-auc:0.842297\n",
      "[267]\tvalidation_0-aucpr:0.994461\tvalidation_0-auc:0.993179\tvalidation_1-aucpr:0.504373\tvalidation_1-auc:0.842356\n",
      "[268]\tvalidation_0-aucpr:0.99447\tvalidation_0-auc:0.993191\tvalidation_1-aucpr:0.504341\tvalidation_1-auc:0.842353\n",
      "[269]\tvalidation_0-aucpr:0.994473\tvalidation_0-auc:0.993195\tvalidation_1-aucpr:0.504273\tvalidation_1-auc:0.842339\n",
      "[270]\tvalidation_0-aucpr:0.994486\tvalidation_0-auc:0.993214\tvalidation_1-aucpr:0.504185\tvalidation_1-auc:0.842378\n",
      "[271]\tvalidation_0-aucpr:0.994502\tvalidation_0-auc:0.993237\tvalidation_1-aucpr:0.504357\tvalidation_1-auc:0.842404\n",
      "[272]\tvalidation_0-aucpr:0.994518\tvalidation_0-auc:0.993258\tvalidation_1-aucpr:0.504185\tvalidation_1-auc:0.842367\n",
      "[273]\tvalidation_0-aucpr:0.994533\tvalidation_0-auc:0.993278\tvalidation_1-aucpr:0.504231\tvalidation_1-auc:0.842317\n",
      "[274]\tvalidation_0-aucpr:0.994555\tvalidation_0-auc:0.993308\tvalidation_1-aucpr:0.503911\tvalidation_1-auc:0.842242\n",
      "[275]\tvalidation_0-aucpr:0.994559\tvalidation_0-auc:0.993314\tvalidation_1-aucpr:0.504015\tvalidation_1-auc:0.842301\n",
      "[276]\tvalidation_0-aucpr:0.994577\tvalidation_0-auc:0.993338\tvalidation_1-aucpr:0.503963\tvalidation_1-auc:0.84231\n",
      "[277]\tvalidation_0-aucpr:0.994594\tvalidation_0-auc:0.993362\tvalidation_1-aucpr:0.50401\tvalidation_1-auc:0.842259\n",
      "[278]\tvalidation_0-aucpr:0.994613\tvalidation_0-auc:0.993386\tvalidation_1-aucpr:0.503961\tvalidation_1-auc:0.842245\n",
      "[279]\tvalidation_0-aucpr:0.994622\tvalidation_0-auc:0.993399\tvalidation_1-aucpr:0.50391\tvalidation_1-auc:0.842233\n",
      "[280]\tvalidation_0-aucpr:0.994631\tvalidation_0-auc:0.993411\tvalidation_1-aucpr:0.50388\tvalidation_1-auc:0.842197\n",
      "[281]\tvalidation_0-aucpr:0.994643\tvalidation_0-auc:0.993427\tvalidation_1-aucpr:0.503875\tvalidation_1-auc:0.842143\n",
      "[282]\tvalidation_0-aucpr:0.99465\tvalidation_0-auc:0.993437\tvalidation_1-aucpr:0.503858\tvalidation_1-auc:0.842122\n",
      "[283]\tvalidation_0-aucpr:0.99466\tvalidation_0-auc:0.993449\tvalidation_1-aucpr:0.503803\tvalidation_1-auc:0.842084\n",
      "[284]\tvalidation_0-aucpr:0.994677\tvalidation_0-auc:0.993473\tvalidation_1-aucpr:0.503549\tvalidation_1-auc:0.842001\n",
      "[285]\tvalidation_0-aucpr:0.994686\tvalidation_0-auc:0.993484\tvalidation_1-aucpr:0.503478\tvalidation_1-auc:0.841965\n",
      "[286]\tvalidation_0-aucpr:0.994705\tvalidation_0-auc:0.993509\tvalidation_1-aucpr:0.503535\tvalidation_1-auc:0.842005\n",
      "[287]\tvalidation_0-aucpr:0.99471\tvalidation_0-auc:0.993517\tvalidation_1-aucpr:0.503561\tvalidation_1-auc:0.842001\n",
      "[288]\tvalidation_0-aucpr:0.994714\tvalidation_0-auc:0.993523\tvalidation_1-aucpr:0.503624\tvalidation_1-auc:0.84195\n",
      "[289]\tvalidation_0-aucpr:0.994733\tvalidation_0-auc:0.993549\tvalidation_1-aucpr:0.503497\tvalidation_1-auc:0.841862\n",
      "[290]\tvalidation_0-aucpr:0.99476\tvalidation_0-auc:0.993585\tvalidation_1-aucpr:0.503643\tvalidation_1-auc:0.841843\n",
      "[291]\tvalidation_0-aucpr:0.994765\tvalidation_0-auc:0.993592\tvalidation_1-aucpr:0.503657\tvalidation_1-auc:0.841864\n"
     ]
    },
    {
     "name": "stdout",
     "output_type": "stream",
     "text": [
      "[292]\tvalidation_0-aucpr:0.994787\tvalidation_0-auc:0.993622\tvalidation_1-aucpr:0.503576\tvalidation_1-auc:0.8418\n",
      "[293]\tvalidation_0-aucpr:0.994799\tvalidation_0-auc:0.993638\tvalidation_1-aucpr:0.503616\tvalidation_1-auc:0.841885\n",
      "[294]\tvalidation_0-aucpr:0.994815\tvalidation_0-auc:0.993658\tvalidation_1-aucpr:0.503541\tvalidation_1-auc:0.841974\n",
      "[295]\tvalidation_0-aucpr:0.994824\tvalidation_0-auc:0.993672\tvalidation_1-aucpr:0.503532\tvalidation_1-auc:0.84192\n",
      "[296]\tvalidation_0-aucpr:0.994833\tvalidation_0-auc:0.993685\tvalidation_1-aucpr:0.503639\tvalidation_1-auc:0.841994\n",
      "[297]\tvalidation_0-aucpr:0.994853\tvalidation_0-auc:0.993712\tvalidation_1-aucpr:0.503781\tvalidation_1-auc:0.842144\n",
      "[298]\tvalidation_0-aucpr:0.994861\tvalidation_0-auc:0.993723\tvalidation_1-aucpr:0.503803\tvalidation_1-auc:0.842102\n",
      "[299]\tvalidation_0-aucpr:0.994869\tvalidation_0-auc:0.993734\tvalidation_1-aucpr:0.503738\tvalidation_1-auc:0.842148\n",
      "[300]\tvalidation_0-aucpr:0.994871\tvalidation_0-auc:0.993736\tvalidation_1-aucpr:0.503672\tvalidation_1-auc:0.842132\n",
      "[301]\tvalidation_0-aucpr:0.994893\tvalidation_0-auc:0.993766\tvalidation_1-aucpr:0.503679\tvalidation_1-auc:0.842204\n",
      "[302]\tvalidation_0-aucpr:0.994904\tvalidation_0-auc:0.993781\tvalidation_1-aucpr:0.503658\tvalidation_1-auc:0.842202\n",
      "[303]\tvalidation_0-aucpr:0.994914\tvalidation_0-auc:0.993796\tvalidation_1-aucpr:0.503772\tvalidation_1-auc:0.842251\n",
      "[304]\tvalidation_0-aucpr:0.994921\tvalidation_0-auc:0.993804\tvalidation_1-aucpr:0.503872\tvalidation_1-auc:0.842244\n",
      "[305]\tvalidation_0-aucpr:0.994934\tvalidation_0-auc:0.993821\tvalidation_1-aucpr:0.50397\tvalidation_1-auc:0.842311\n",
      "[306]\tvalidation_0-aucpr:0.994946\tvalidation_0-auc:0.993838\tvalidation_1-aucpr:0.504032\tvalidation_1-auc:0.842424\n",
      "[307]\tvalidation_0-aucpr:0.994954\tvalidation_0-auc:0.993848\tvalidation_1-aucpr:0.504099\tvalidation_1-auc:0.842424\n",
      "[308]\tvalidation_0-aucpr:0.994973\tvalidation_0-auc:0.993875\tvalidation_1-aucpr:0.504249\tvalidation_1-auc:0.842443\n",
      "[309]\tvalidation_0-aucpr:0.994991\tvalidation_0-auc:0.993897\tvalidation_1-aucpr:0.504027\tvalidation_1-auc:0.842236\n",
      "[310]\tvalidation_0-aucpr:0.994992\tvalidation_0-auc:0.993898\tvalidation_1-aucpr:0.504044\tvalidation_1-auc:0.842242\n",
      "[311]\tvalidation_0-aucpr:0.995006\tvalidation_0-auc:0.993917\tvalidation_1-aucpr:0.504023\tvalidation_1-auc:0.84221\n",
      "[312]\tvalidation_0-aucpr:0.995015\tvalidation_0-auc:0.99393\tvalidation_1-aucpr:0.504029\tvalidation_1-auc:0.842264\n",
      "[313]\tvalidation_0-aucpr:0.995024\tvalidation_0-auc:0.993941\tvalidation_1-aucpr:0.504109\tvalidation_1-auc:0.842311\n",
      "[314]\tvalidation_0-aucpr:0.995039\tvalidation_0-auc:0.993962\tvalidation_1-aucpr:0.504279\tvalidation_1-auc:0.8424\n",
      "[315]\tvalidation_0-aucpr:0.995051\tvalidation_0-auc:0.993978\tvalidation_1-aucpr:0.504412\tvalidation_1-auc:0.842428\n",
      "[316]\tvalidation_0-aucpr:0.995061\tvalidation_0-auc:0.993991\tvalidation_1-aucpr:0.504438\tvalidation_1-auc:0.84236\n",
      "[317]\tvalidation_0-aucpr:0.995064\tvalidation_0-auc:0.993995\tvalidation_1-aucpr:0.504473\tvalidation_1-auc:0.842395\n",
      "[318]\tvalidation_0-aucpr:0.995064\tvalidation_0-auc:0.993996\tvalidation_1-aucpr:0.504498\tvalidation_1-auc:0.842402\n",
      "[319]\tvalidation_0-aucpr:0.995079\tvalidation_0-auc:0.994015\tvalidation_1-aucpr:0.504505\tvalidation_1-auc:0.84239\n",
      "[320]\tvalidation_0-aucpr:0.995097\tvalidation_0-auc:0.994039\tvalidation_1-aucpr:0.504361\tvalidation_1-auc:0.842311\n",
      "[321]\tvalidation_0-aucpr:0.995102\tvalidation_0-auc:0.994046\tvalidation_1-aucpr:0.50435\tvalidation_1-auc:0.842243\n",
      "[322]\tvalidation_0-aucpr:0.995112\tvalidation_0-auc:0.994059\tvalidation_1-aucpr:0.504398\tvalidation_1-auc:0.842231\n",
      "[323]\tvalidation_0-aucpr:0.995129\tvalidation_0-auc:0.994081\tvalidation_1-aucpr:0.504169\tvalidation_1-auc:0.842216\n",
      "[324]\tvalidation_0-aucpr:0.995141\tvalidation_0-auc:0.994098\tvalidation_1-aucpr:0.50412\tvalidation_1-auc:0.842197\n",
      "[325]\tvalidation_0-aucpr:0.995152\tvalidation_0-auc:0.994114\tvalidation_1-aucpr:0.504216\tvalidation_1-auc:0.842184\n",
      "[326]\tvalidation_0-aucpr:0.995156\tvalidation_0-auc:0.994118\tvalidation_1-aucpr:0.504302\tvalidation_1-auc:0.842213\n",
      "[327]\tvalidation_0-aucpr:0.995172\tvalidation_0-auc:0.994138\tvalidation_1-aucpr:0.504392\tvalidation_1-auc:0.842253\n",
      "[328]\tvalidation_0-aucpr:0.995186\tvalidation_0-auc:0.994156\tvalidation_1-aucpr:0.504457\tvalidation_1-auc:0.842171\n",
      "[329]\tvalidation_0-aucpr:0.995199\tvalidation_0-auc:0.994173\tvalidation_1-aucpr:0.504385\tvalidation_1-auc:0.842193\n",
      "[330]\tvalidation_0-aucpr:0.995211\tvalidation_0-auc:0.994188\tvalidation_1-aucpr:0.504586\tvalidation_1-auc:0.842312\n",
      "[331]\tvalidation_0-aucpr:0.995229\tvalidation_0-auc:0.994211\tvalidation_1-aucpr:0.50466\tvalidation_1-auc:0.842343\n",
      "[332]\tvalidation_0-aucpr:0.995244\tvalidation_0-auc:0.994232\tvalidation_1-aucpr:0.504669\tvalidation_1-auc:0.842375\n",
      "[333]\tvalidation_0-aucpr:0.995255\tvalidation_0-auc:0.994246\tvalidation_1-aucpr:0.504651\tvalidation_1-auc:0.842333\n",
      "[334]\tvalidation_0-aucpr:0.995269\tvalidation_0-auc:0.994265\tvalidation_1-aucpr:0.504666\tvalidation_1-auc:0.842319\n",
      "[335]\tvalidation_0-aucpr:0.995277\tvalidation_0-auc:0.994276\tvalidation_1-aucpr:0.504604\tvalidation_1-auc:0.842276\n",
      "[336]\tvalidation_0-aucpr:0.995285\tvalidation_0-auc:0.994288\tvalidation_1-aucpr:0.504555\tvalidation_1-auc:0.842317\n",
      "[337]\tvalidation_0-aucpr:0.995293\tvalidation_0-auc:0.994299\tvalidation_1-aucpr:0.504484\tvalidation_1-auc:0.842267\n",
      "[338]\tvalidation_0-aucpr:0.995297\tvalidation_0-auc:0.994305\tvalidation_1-aucpr:0.504491\tvalidation_1-auc:0.842218\n",
      "[339]\tvalidation_0-aucpr:0.995303\tvalidation_0-auc:0.994312\tvalidation_1-aucpr:0.504506\tvalidation_1-auc:0.842241\n",
      "[340]\tvalidation_0-aucpr:0.995311\tvalidation_0-auc:0.994323\tvalidation_1-aucpr:0.504448\tvalidation_1-auc:0.842151\n",
      "[341]\tvalidation_0-aucpr:0.995317\tvalidation_0-auc:0.994332\tvalidation_1-aucpr:0.504433\tvalidation_1-auc:0.842094\n",
      "[342]\tvalidation_0-aucpr:0.99532\tvalidation_0-auc:0.994335\tvalidation_1-aucpr:0.504404\tvalidation_1-auc:0.842023\n",
      "[343]\tvalidation_0-aucpr:0.995329\tvalidation_0-auc:0.994347\tvalidation_1-aucpr:0.504374\tvalidation_1-auc:0.842098\n",
      "[344]\tvalidation_0-aucpr:0.995348\tvalidation_0-auc:0.994371\tvalidation_1-aucpr:0.504233\tvalidation_1-auc:0.841915\n",
      "[345]\tvalidation_0-aucpr:0.995357\tvalidation_0-auc:0.994382\tvalidation_1-aucpr:0.504216\tvalidation_1-auc:0.841915\n",
      "[346]\tvalidation_0-aucpr:0.995377\tvalidation_0-auc:0.994409\tvalidation_1-aucpr:0.504108\tvalidation_1-auc:0.841857\n",
      "[347]\tvalidation_0-aucpr:0.995385\tvalidation_0-auc:0.99442\tvalidation_1-aucpr:0.504106\tvalidation_1-auc:0.841863\n",
      "[348]\tvalidation_0-aucpr:0.995396\tvalidation_0-auc:0.994433\tvalidation_1-aucpr:0.504024\tvalidation_1-auc:0.841867\n",
      "[349]\tvalidation_0-aucpr:0.995405\tvalidation_0-auc:0.994445\tvalidation_1-aucpr:0.503898\tvalidation_1-auc:0.841831\n",
      "[350]\tvalidation_0-aucpr:0.995408\tvalidation_0-auc:0.994449\tvalidation_1-aucpr:0.503939\tvalidation_1-auc:0.841816\n",
      "[351]\tvalidation_0-aucpr:0.995419\tvalidation_0-auc:0.994464\tvalidation_1-aucpr:0.504003\tvalidation_1-auc:0.84187\n",
      "[352]\tvalidation_0-aucpr:0.995429\tvalidation_0-auc:0.994477\tvalidation_1-aucpr:0.503968\tvalidation_1-auc:0.84183\n",
      "[353]\tvalidation_0-aucpr:0.995442\tvalidation_0-auc:0.994494\tvalidation_1-aucpr:0.503974\tvalidation_1-auc:0.841822\n",
      "[354]\tvalidation_0-aucpr:0.995451\tvalidation_0-auc:0.994506\tvalidation_1-aucpr:0.50396\tvalidation_1-auc:0.841783\n",
      "[355]\tvalidation_0-aucpr:0.995459\tvalidation_0-auc:0.994518\tvalidation_1-aucpr:0.504043\tvalidation_1-auc:0.841786\n",
      "[356]\tvalidation_0-aucpr:0.99547\tvalidation_0-auc:0.994532\tvalidation_1-aucpr:0.503977\tvalidation_1-auc:0.841836\n",
      "[357]\tvalidation_0-aucpr:0.995482\tvalidation_0-auc:0.994548\tvalidation_1-aucpr:0.503867\tvalidation_1-auc:0.841843\n",
      "[358]\tvalidation_0-aucpr:0.995499\tvalidation_0-auc:0.994569\tvalidation_1-aucpr:0.503949\tvalidation_1-auc:0.841832\n",
      "[359]\tvalidation_0-aucpr:0.995507\tvalidation_0-auc:0.994579\tvalidation_1-aucpr:0.504071\tvalidation_1-auc:0.841884\n",
      "[360]\tvalidation_0-aucpr:0.995516\tvalidation_0-auc:0.994591\tvalidation_1-aucpr:0.504128\tvalidation_1-auc:0.841998\n",
      "[361]\tvalidation_0-aucpr:0.995525\tvalidation_0-auc:0.994603\tvalidation_1-aucpr:0.504028\tvalidation_1-auc:0.841863\n",
      "[362]\tvalidation_0-aucpr:0.995545\tvalidation_0-auc:0.99463\tvalidation_1-aucpr:0.504026\tvalidation_1-auc:0.841919\n",
      "[363]\tvalidation_0-aucpr:0.995557\tvalidation_0-auc:0.994644\tvalidation_1-aucpr:0.503937\tvalidation_1-auc:0.841885\n",
      "[364]\tvalidation_0-aucpr:0.995562\tvalidation_0-auc:0.994652\tvalidation_1-aucpr:0.503952\tvalidation_1-auc:0.841859\n"
     ]
    },
    {
     "name": "stdout",
     "output_type": "stream",
     "text": [
      "[365]\tvalidation_0-aucpr:0.995572\tvalidation_0-auc:0.994665\tvalidation_1-aucpr:0.503794\tvalidation_1-auc:0.841784\n",
      "[366]\tvalidation_0-aucpr:0.995582\tvalidation_0-auc:0.994679\tvalidation_1-aucpr:0.503879\tvalidation_1-auc:0.841854\n",
      "[367]\tvalidation_0-aucpr:0.995594\tvalidation_0-auc:0.994693\tvalidation_1-aucpr:0.503787\tvalidation_1-auc:0.841851\n",
      "[368]\tvalidation_0-aucpr:0.995611\tvalidation_0-auc:0.994717\tvalidation_1-aucpr:0.503751\tvalidation_1-auc:0.841825\n",
      "[369]\tvalidation_0-aucpr:0.995618\tvalidation_0-auc:0.994725\tvalidation_1-aucpr:0.503739\tvalidation_1-auc:0.841802\n",
      "[370]\tvalidation_0-aucpr:0.995626\tvalidation_0-auc:0.994736\tvalidation_1-aucpr:0.50369\tvalidation_1-auc:0.841818\n",
      "[371]\tvalidation_0-aucpr:0.995634\tvalidation_0-auc:0.994746\tvalidation_1-aucpr:0.503704\tvalidation_1-auc:0.841833\n",
      "[372]\tvalidation_0-aucpr:0.995643\tvalidation_0-auc:0.994758\tvalidation_1-aucpr:0.503829\tvalidation_1-auc:0.841903\n",
      "[373]\tvalidation_0-aucpr:0.995651\tvalidation_0-auc:0.994769\tvalidation_1-aucpr:0.503878\tvalidation_1-auc:0.841894\n",
      "[374]\tvalidation_0-aucpr:0.99566\tvalidation_0-auc:0.99478\tvalidation_1-aucpr:0.503812\tvalidation_1-auc:0.841869\n",
      "[375]\tvalidation_0-aucpr:0.995665\tvalidation_0-auc:0.994787\tvalidation_1-aucpr:0.503795\tvalidation_1-auc:0.841885\n",
      "[376]\tvalidation_0-aucpr:0.995677\tvalidation_0-auc:0.994802\tvalidation_1-aucpr:0.503806\tvalidation_1-auc:0.841889\n",
      "[377]\tvalidation_0-aucpr:0.995683\tvalidation_0-auc:0.99481\tvalidation_1-aucpr:0.503789\tvalidation_1-auc:0.841895\n",
      "[378]\tvalidation_0-aucpr:0.995685\tvalidation_0-auc:0.994814\tvalidation_1-aucpr:0.503838\tvalidation_1-auc:0.841886\n",
      "[379]\tvalidation_0-aucpr:0.995692\tvalidation_0-auc:0.994823\tvalidation_1-aucpr:0.503758\tvalidation_1-auc:0.841919\n",
      "[380]\tvalidation_0-aucpr:0.995694\tvalidation_0-auc:0.994825\tvalidation_1-aucpr:0.503762\tvalidation_1-auc:0.841927\n",
      "[381]\tvalidation_0-aucpr:0.995703\tvalidation_0-auc:0.994837\tvalidation_1-aucpr:0.503776\tvalidation_1-auc:0.841982\n",
      "[382]\tvalidation_0-aucpr:0.995702\tvalidation_0-auc:0.994836\tvalidation_1-aucpr:0.503771\tvalidation_1-auc:0.842004\n",
      "[383]\tvalidation_0-aucpr:0.995714\tvalidation_0-auc:0.994851\tvalidation_1-aucpr:0.50386\tvalidation_1-auc:0.84203\n",
      "[384]\tvalidation_0-aucpr:0.995727\tvalidation_0-auc:0.994868\tvalidation_1-aucpr:0.50391\tvalidation_1-auc:0.842026\n",
      "[385]\tvalidation_0-aucpr:0.995729\tvalidation_0-auc:0.99487\tvalidation_1-aucpr:0.503931\tvalidation_1-auc:0.842021\n",
      "[386]\tvalidation_0-aucpr:0.995737\tvalidation_0-auc:0.99488\tvalidation_1-aucpr:0.503946\tvalidation_1-auc:0.841992\n",
      "[387]\tvalidation_0-aucpr:0.995741\tvalidation_0-auc:0.994885\tvalidation_1-aucpr:0.504022\tvalidation_1-auc:0.841982\n",
      "[388]\tvalidation_0-aucpr:0.995754\tvalidation_0-auc:0.994903\tvalidation_1-aucpr:0.503834\tvalidation_1-auc:0.84184\n",
      "[389]\tvalidation_0-aucpr:0.995767\tvalidation_0-auc:0.99492\tvalidation_1-aucpr:0.503851\tvalidation_1-auc:0.841961\n",
      "[390]\tvalidation_0-aucpr:0.995776\tvalidation_0-auc:0.994932\tvalidation_1-aucpr:0.503874\tvalidation_1-auc:0.841925\n",
      "[391]\tvalidation_0-aucpr:0.995781\tvalidation_0-auc:0.99494\tvalidation_1-aucpr:0.503892\tvalidation_1-auc:0.841913\n",
      "[392]\tvalidation_0-aucpr:0.995794\tvalidation_0-auc:0.994956\tvalidation_1-aucpr:0.503892\tvalidation_1-auc:0.841935\n",
      "[393]\tvalidation_0-aucpr:0.995815\tvalidation_0-auc:0.994984\tvalidation_1-aucpr:0.503975\tvalidation_1-auc:0.842126\n",
      "[394]\tvalidation_0-aucpr:0.995828\tvalidation_0-auc:0.995001\tvalidation_1-aucpr:0.504051\tvalidation_1-auc:0.842183\n",
      "[395]\tvalidation_0-aucpr:0.995837\tvalidation_0-auc:0.995012\tvalidation_1-aucpr:0.504079\tvalidation_1-auc:0.842198\n",
      "[396]\tvalidation_0-aucpr:0.995844\tvalidation_0-auc:0.995021\tvalidation_1-aucpr:0.504151\tvalidation_1-auc:0.842173\n",
      "[397]\tvalidation_0-aucpr:0.995857\tvalidation_0-auc:0.995039\tvalidation_1-aucpr:0.50415\tvalidation_1-auc:0.842143\n",
      "[398]\tvalidation_0-aucpr:0.995875\tvalidation_0-auc:0.995062\tvalidation_1-aucpr:0.504121\tvalidation_1-auc:0.842167\n",
      "[399]\tvalidation_0-aucpr:0.995884\tvalidation_0-auc:0.995073\tvalidation_1-aucpr:0.504036\tvalidation_1-auc:0.842114\n",
      "[400]\tvalidation_0-aucpr:0.995897\tvalidation_0-auc:0.995091\tvalidation_1-aucpr:0.504116\tvalidation_1-auc:0.842104\n",
      "[401]\tvalidation_0-aucpr:0.995903\tvalidation_0-auc:0.995099\tvalidation_1-aucpr:0.504048\tvalidation_1-auc:0.842091\n",
      "[402]\tvalidation_0-aucpr:0.995916\tvalidation_0-auc:0.995116\tvalidation_1-aucpr:0.503996\tvalidation_1-auc:0.842063\n",
      "[403]\tvalidation_0-aucpr:0.995921\tvalidation_0-auc:0.995123\tvalidation_1-aucpr:0.504012\tvalidation_1-auc:0.842066\n",
      "[404]\tvalidation_0-aucpr:0.995924\tvalidation_0-auc:0.995128\tvalidation_1-aucpr:0.503998\tvalidation_1-auc:0.842044\n",
      "[405]\tvalidation_0-aucpr:0.995933\tvalidation_0-auc:0.995139\tvalidation_1-aucpr:0.503924\tvalidation_1-auc:0.842036\n",
      "[406]\tvalidation_0-aucpr:0.995934\tvalidation_0-auc:0.995141\tvalidation_1-aucpr:0.504022\tvalidation_1-auc:0.842065\n",
      "[407]\tvalidation_0-aucpr:0.995942\tvalidation_0-auc:0.99515\tvalidation_1-aucpr:0.5039\tvalidation_1-auc:0.841979\n",
      "[408]\tvalidation_0-aucpr:0.995945\tvalidation_0-auc:0.995155\tvalidation_1-aucpr:0.50391\tvalidation_1-auc:0.841934\n",
      "[409]\tvalidation_0-aucpr:0.995946\tvalidation_0-auc:0.995157\tvalidation_1-aucpr:0.503987\tvalidation_1-auc:0.841975\n",
      "[410]\tvalidation_0-aucpr:0.995952\tvalidation_0-auc:0.995163\tvalidation_1-aucpr:0.504065\tvalidation_1-auc:0.842014\n",
      "[411]\tvalidation_0-aucpr:0.995962\tvalidation_0-auc:0.995178\tvalidation_1-aucpr:0.503979\tvalidation_1-auc:0.841983\n",
      "[412]\tvalidation_0-aucpr:0.995979\tvalidation_0-auc:0.995199\tvalidation_1-aucpr:0.503971\tvalidation_1-auc:0.842017\n",
      "[413]\tvalidation_0-aucpr:0.995988\tvalidation_0-auc:0.995211\tvalidation_1-aucpr:0.504054\tvalidation_1-auc:0.842052\n",
      "[414]\tvalidation_0-aucpr:0.995995\tvalidation_0-auc:0.995219\tvalidation_1-aucpr:0.504035\tvalidation_1-auc:0.842018\n",
      "[415]\tvalidation_0-aucpr:0.996003\tvalidation_0-auc:0.995229\tvalidation_1-aucpr:0.50401\tvalidation_1-auc:0.842017\n",
      "[416]\tvalidation_0-aucpr:0.996009\tvalidation_0-auc:0.995237\tvalidation_1-aucpr:0.503922\tvalidation_1-auc:0.841994\n",
      "[417]\tvalidation_0-aucpr:0.996014\tvalidation_0-auc:0.995242\tvalidation_1-aucpr:0.50395\tvalidation_1-auc:0.842048\n",
      "[418]\tvalidation_0-aucpr:0.99603\tvalidation_0-auc:0.995264\tvalidation_1-aucpr:0.503731\tvalidation_1-auc:0.841925\n",
      "[419]\tvalidation_0-aucpr:0.996049\tvalidation_0-auc:0.995287\tvalidation_1-aucpr:0.503557\tvalidation_1-auc:0.841889\n",
      "[420]\tvalidation_0-aucpr:0.99605\tvalidation_0-auc:0.995288\tvalidation_1-aucpr:0.50351\tvalidation_1-auc:0.841891\n",
      "[421]\tvalidation_0-aucpr:0.99606\tvalidation_0-auc:0.995302\tvalidation_1-aucpr:0.503306\tvalidation_1-auc:0.841842\n",
      "[422]\tvalidation_0-aucpr:0.996065\tvalidation_0-auc:0.995309\tvalidation_1-aucpr:0.50335\tvalidation_1-auc:0.841837\n",
      "[423]\tvalidation_0-aucpr:0.996071\tvalidation_0-auc:0.995316\tvalidation_1-aucpr:0.503243\tvalidation_1-auc:0.84176\n",
      "[424]\tvalidation_0-aucpr:0.996082\tvalidation_0-auc:0.995331\tvalidation_1-aucpr:0.503099\tvalidation_1-auc:0.841745\n",
      "[425]\tvalidation_0-aucpr:0.996087\tvalidation_0-auc:0.995337\tvalidation_1-aucpr:0.503013\tvalidation_1-auc:0.841783\n",
      "[426]\tvalidation_0-aucpr:0.996093\tvalidation_0-auc:0.995345\tvalidation_1-aucpr:0.503166\tvalidation_1-auc:0.841836\n",
      "[427]\tvalidation_0-aucpr:0.996107\tvalidation_0-auc:0.995363\tvalidation_1-aucpr:0.503205\tvalidation_1-auc:0.841923\n",
      "[428]\tvalidation_0-aucpr:0.996107\tvalidation_0-auc:0.995363\tvalidation_1-aucpr:0.503201\tvalidation_1-auc:0.841945\n",
      "[429]\tvalidation_0-aucpr:0.996119\tvalidation_0-auc:0.995379\tvalidation_1-aucpr:0.50315\tvalidation_1-auc:0.841947\n",
      "[430]\tvalidation_0-aucpr:0.996132\tvalidation_0-auc:0.995395\tvalidation_1-aucpr:0.503017\tvalidation_1-auc:0.84195\n",
      "[431]\tvalidation_0-aucpr:0.996148\tvalidation_0-auc:0.995416\tvalidation_1-aucpr:0.502981\tvalidation_1-auc:0.841896\n",
      "[432]\tvalidation_0-aucpr:0.996151\tvalidation_0-auc:0.995421\tvalidation_1-aucpr:0.503\tvalidation_1-auc:0.841901\n",
      "[433]\tvalidation_0-aucpr:0.996156\tvalidation_0-auc:0.995427\tvalidation_1-aucpr:0.503053\tvalidation_1-auc:0.841871\n",
      "[434]\tvalidation_0-aucpr:0.996168\tvalidation_0-auc:0.995442\tvalidation_1-aucpr:0.503096\tvalidation_1-auc:0.841861\n",
      "[435]\tvalidation_0-aucpr:0.996179\tvalidation_0-auc:0.995456\tvalidation_1-aucpr:0.503099\tvalidation_1-auc:0.841902\n",
      "[436]\tvalidation_0-aucpr:0.99619\tvalidation_0-auc:0.99547\tvalidation_1-aucpr:0.503131\tvalidation_1-auc:0.841952\n",
      "[437]\tvalidation_0-aucpr:0.996197\tvalidation_0-auc:0.995479\tvalidation_1-aucpr:0.503089\tvalidation_1-auc:0.841883\n"
     ]
    },
    {
     "name": "stdout",
     "output_type": "stream",
     "text": [
      "[438]\tvalidation_0-aucpr:0.996203\tvalidation_0-auc:0.995487\tvalidation_1-aucpr:0.503093\tvalidation_1-auc:0.841862\n",
      "[439]\tvalidation_0-aucpr:0.99621\tvalidation_0-auc:0.995496\tvalidation_1-aucpr:0.503125\tvalidation_1-auc:0.841869\n",
      "[440]\tvalidation_0-aucpr:0.996217\tvalidation_0-auc:0.995505\tvalidation_1-aucpr:0.503151\tvalidation_1-auc:0.841919\n",
      "[441]\tvalidation_0-aucpr:0.996225\tvalidation_0-auc:0.995515\tvalidation_1-aucpr:0.503189\tvalidation_1-auc:0.841955\n",
      "[442]\tvalidation_0-aucpr:0.996237\tvalidation_0-auc:0.995529\tvalidation_1-aucpr:0.503263\tvalidation_1-auc:0.841942\n",
      "[443]\tvalidation_0-aucpr:0.996243\tvalidation_0-auc:0.995536\tvalidation_1-aucpr:0.503259\tvalidation_1-auc:0.841976\n",
      "[444]\tvalidation_0-aucpr:0.996247\tvalidation_0-auc:0.995541\tvalidation_1-aucpr:0.503216\tvalidation_1-auc:0.841971\n",
      "[445]\tvalidation_0-aucpr:0.996257\tvalidation_0-auc:0.995554\tvalidation_1-aucpr:0.503263\tvalidation_1-auc:0.842075\n",
      "[446]\tvalidation_0-aucpr:0.99626\tvalidation_0-auc:0.995557\tvalidation_1-aucpr:0.503345\tvalidation_1-auc:0.842123\n",
      "[447]\tvalidation_0-aucpr:0.996266\tvalidation_0-auc:0.995566\tvalidation_1-aucpr:0.503246\tvalidation_1-auc:0.842068\n",
      "[448]\tvalidation_0-aucpr:0.99627\tvalidation_0-auc:0.995572\tvalidation_1-aucpr:0.50325\tvalidation_1-auc:0.842063\n",
      "[449]\tvalidation_0-aucpr:0.996276\tvalidation_0-auc:0.99558\tvalidation_1-aucpr:0.503174\tvalidation_1-auc:0.842028\n",
      "[450]\tvalidation_0-aucpr:0.996291\tvalidation_0-auc:0.995599\tvalidation_1-aucpr:0.503146\tvalidation_1-auc:0.842043\n",
      "[451]\tvalidation_0-aucpr:0.996297\tvalidation_0-auc:0.995605\tvalidation_1-aucpr:0.503128\tvalidation_1-auc:0.842141\n",
      "[452]\tvalidation_0-aucpr:0.9963\tvalidation_0-auc:0.99561\tvalidation_1-aucpr:0.503091\tvalidation_1-auc:0.842142\n",
      "[453]\tvalidation_0-aucpr:0.996306\tvalidation_0-auc:0.995618\tvalidation_1-aucpr:0.503115\tvalidation_1-auc:0.842139\n",
      "[454]\tvalidation_0-aucpr:0.996314\tvalidation_0-auc:0.995628\tvalidation_1-aucpr:0.503066\tvalidation_1-auc:0.842099\n",
      "[455]\tvalidation_0-aucpr:0.996318\tvalidation_0-auc:0.995634\tvalidation_1-aucpr:0.503059\tvalidation_1-auc:0.842036\n",
      "[456]\tvalidation_0-aucpr:0.996323\tvalidation_0-auc:0.995641\tvalidation_1-aucpr:0.503051\tvalidation_1-auc:0.842038\n",
      "[457]\tvalidation_0-aucpr:0.996336\tvalidation_0-auc:0.995658\tvalidation_1-aucpr:0.503161\tvalidation_1-auc:0.842083\n",
      "[458]\tvalidation_0-aucpr:0.996353\tvalidation_0-auc:0.995679\tvalidation_1-aucpr:0.503006\tvalidation_1-auc:0.84202\n",
      "[459]\tvalidation_0-aucpr:0.996363\tvalidation_0-auc:0.995692\tvalidation_1-aucpr:0.502905\tvalidation_1-auc:0.842066\n",
      "[460]\tvalidation_0-aucpr:0.996369\tvalidation_0-auc:0.9957\tvalidation_1-aucpr:0.502776\tvalidation_1-auc:0.842033\n",
      "[461]\tvalidation_0-aucpr:0.996379\tvalidation_0-auc:0.995711\tvalidation_1-aucpr:0.502722\tvalidation_1-auc:0.842013\n",
      "[462]\tvalidation_0-aucpr:0.99639\tvalidation_0-auc:0.995726\tvalidation_1-aucpr:0.502462\tvalidation_1-auc:0.841903\n",
      "[463]\tvalidation_0-aucpr:0.996397\tvalidation_0-auc:0.995734\tvalidation_1-aucpr:0.502432\tvalidation_1-auc:0.841914\n",
      "[464]\tvalidation_0-aucpr:0.996407\tvalidation_0-auc:0.995748\tvalidation_1-aucpr:0.502434\tvalidation_1-auc:0.84193\n",
      "[465]\tvalidation_0-aucpr:0.99641\tvalidation_0-auc:0.995752\tvalidation_1-aucpr:0.502473\tvalidation_1-auc:0.841978\n",
      "[466]\tvalidation_0-aucpr:0.996418\tvalidation_0-auc:0.995762\tvalidation_1-aucpr:0.502545\tvalidation_1-auc:0.842009\n",
      "[467]\tvalidation_0-aucpr:0.99643\tvalidation_0-auc:0.995778\tvalidation_1-aucpr:0.502477\tvalidation_1-auc:0.842023\n",
      "[468]\tvalidation_0-aucpr:0.996433\tvalidation_0-auc:0.995782\tvalidation_1-aucpr:0.502489\tvalidation_1-auc:0.842026\n",
      "[469]\tvalidation_0-aucpr:0.996441\tvalidation_0-auc:0.995793\tvalidation_1-aucpr:0.502393\tvalidation_1-auc:0.841971\n",
      "[470]\tvalidation_0-aucpr:0.996455\tvalidation_0-auc:0.99581\tvalidation_1-aucpr:0.502357\tvalidation_1-auc:0.841947\n",
      "[471]\tvalidation_0-aucpr:0.996459\tvalidation_0-auc:0.995815\tvalidation_1-aucpr:0.502253\tvalidation_1-auc:0.841944\n",
      "[472]\tvalidation_0-aucpr:0.996468\tvalidation_0-auc:0.995827\tvalidation_1-aucpr:0.502268\tvalidation_1-auc:0.841889\n",
      "[473]\tvalidation_0-aucpr:0.996474\tvalidation_0-auc:0.995833\tvalidation_1-aucpr:0.50226\tvalidation_1-auc:0.841889\n",
      "[474]\tvalidation_0-aucpr:0.996483\tvalidation_0-auc:0.995846\tvalidation_1-aucpr:0.502277\tvalidation_1-auc:0.841858\n",
      "[475]\tvalidation_0-aucpr:0.996489\tvalidation_0-auc:0.995853\tvalidation_1-aucpr:0.502377\tvalidation_1-auc:0.841897\n",
      "[476]\tvalidation_0-aucpr:0.996492\tvalidation_0-auc:0.995857\tvalidation_1-aucpr:0.502388\tvalidation_1-auc:0.841935\n",
      "[477]\tvalidation_0-aucpr:0.996498\tvalidation_0-auc:0.995865\tvalidation_1-aucpr:0.50242\tvalidation_1-auc:0.841905\n",
      "[478]\tvalidation_0-aucpr:0.996503\tvalidation_0-auc:0.99587\tvalidation_1-aucpr:0.502481\tvalidation_1-auc:0.84191\n",
      "[479]\tvalidation_0-aucpr:0.99651\tvalidation_0-auc:0.99588\tvalidation_1-aucpr:0.502539\tvalidation_1-auc:0.841909\n",
      "[480]\tvalidation_0-aucpr:0.996524\tvalidation_0-auc:0.995898\tvalidation_1-aucpr:0.5025\tvalidation_1-auc:0.841886\n",
      "[481]\tvalidation_0-aucpr:0.996526\tvalidation_0-auc:0.9959\tvalidation_1-aucpr:0.502413\tvalidation_1-auc:0.84181\n",
      "[482]\tvalidation_0-aucpr:0.996543\tvalidation_0-auc:0.995921\tvalidation_1-aucpr:0.50236\tvalidation_1-auc:0.841717\n",
      "[483]\tvalidation_0-aucpr:0.996557\tvalidation_0-auc:0.99594\tvalidation_1-aucpr:0.502378\tvalidation_1-auc:0.841795\n",
      "[484]\tvalidation_0-aucpr:0.996559\tvalidation_0-auc:0.995943\tvalidation_1-aucpr:0.502348\tvalidation_1-auc:0.841809\n",
      "[485]\tvalidation_0-aucpr:0.996562\tvalidation_0-auc:0.995946\tvalidation_1-aucpr:0.502388\tvalidation_1-auc:0.841828\n",
      "[486]\tvalidation_0-aucpr:0.996568\tvalidation_0-auc:0.995953\tvalidation_1-aucpr:0.502361\tvalidation_1-auc:0.841807\n",
      "[487]\tvalidation_0-aucpr:0.996575\tvalidation_0-auc:0.995962\tvalidation_1-aucpr:0.502261\tvalidation_1-auc:0.8418\n",
      "[488]\tvalidation_0-aucpr:0.996576\tvalidation_0-auc:0.995964\tvalidation_1-aucpr:0.502305\tvalidation_1-auc:0.841833\n",
      "[489]\tvalidation_0-aucpr:0.996584\tvalidation_0-auc:0.995973\tvalidation_1-aucpr:0.502229\tvalidation_1-auc:0.84182\n",
      "[490]\tvalidation_0-aucpr:0.996597\tvalidation_0-auc:0.995991\tvalidation_1-aucpr:0.502164\tvalidation_1-auc:0.841851\n",
      "[491]\tvalidation_0-aucpr:0.996603\tvalidation_0-auc:0.995998\tvalidation_1-aucpr:0.502222\tvalidation_1-auc:0.841855\n",
      "[492]\tvalidation_0-aucpr:0.99661\tvalidation_0-auc:0.996007\tvalidation_1-aucpr:0.502161\tvalidation_1-auc:0.841757\n",
      "[493]\tvalidation_0-aucpr:0.996616\tvalidation_0-auc:0.996015\tvalidation_1-aucpr:0.50216\tvalidation_1-auc:0.841743\n",
      "[494]\tvalidation_0-aucpr:0.996619\tvalidation_0-auc:0.996018\tvalidation_1-aucpr:0.502167\tvalidation_1-auc:0.841726\n",
      "[495]\tvalidation_0-aucpr:0.996626\tvalidation_0-auc:0.996027\tvalidation_1-aucpr:0.502242\tvalidation_1-auc:0.841672\n",
      "[496]\tvalidation_0-aucpr:0.996634\tvalidation_0-auc:0.996037\tvalidation_1-aucpr:0.502244\tvalidation_1-auc:0.841658\n",
      "[497]\tvalidation_0-aucpr:0.996642\tvalidation_0-auc:0.996048\tvalidation_1-aucpr:0.502211\tvalidation_1-auc:0.841603\n",
      "[498]\tvalidation_0-aucpr:0.996647\tvalidation_0-auc:0.996053\tvalidation_1-aucpr:0.502274\tvalidation_1-auc:0.841646\n",
      "[499]\tvalidation_0-aucpr:0.996661\tvalidation_0-auc:0.996071\tvalidation_1-aucpr:0.502261\tvalidation_1-auc:0.841563\n"
     ]
    },
    {
     "data": {
      "text/plain": [
       "XGBClassifier(base_score=0.5, booster='gbtree', colsample_bylevel=1,\n",
       "              colsample_bynode=1, colsample_bytree=0.8, gamma=3,\n",
       "              learning_rate=0.1, max_delta_step=0, max_depth=10,\n",
       "              min_child_weight=20, missing=None, n_estimators=500, n_jobs=-1,\n",
       "              nthread=None, objective='binary:logistic', random_state=0,\n",
       "              reg_alpha=0, reg_lambda=15, scale_pos_weight=1, seed=None,\n",
       "              silent=None, subsample=0.8, verbosity=1)"
      ]
     },
     "execution_count": 48,
     "metadata": {},
     "output_type": "execute_result"
    }
   ],
   "source": [
    "\n",
    "xgb3.fit(x_train, y_train,\n",
    "        eval_set=[(x_train, y_train), (x_test, y_test)],\n",
    "        eval_metric=['aucpr','auc'],\n",
    "        verbose=True)"
   ]
  },
  {
   "cell_type": "code",
   "execution_count": 18,
   "metadata": {},
   "outputs": [],
   "source": [
    "from sklearn.ensemble import RandomForestClassifier\n",
    "rfc=RandomForestClassifier(oob_score=True,bootstrap=True)"
   ]
  },
  {
   "cell_type": "code",
   "execution_count": 20,
   "metadata": {},
   "outputs": [],
   "source": [
    "params={'n_estimators':[150,200,250],'max_depth':[6,8,10,12,14],'min_samples_leaf':[0.03,0.05,0.1,0.2]}\n",
    "grid=RandomizedSearchCV(rfc,params,cv=StratifiedKFold(n_splits=5),n_jobs=-1,verbose=5,scoring='f1',n_iter='')"
   ]
  },
  {
   "cell_type": "code",
   "execution_count": 21,
   "metadata": {},
   "outputs": [
    {
     "name": "stdout",
     "output_type": "stream",
     "text": [
      "Fitting 5 folds for each of 20 candidates, totalling 100 fits\n"
     ]
    },
    {
     "name": "stderr",
     "output_type": "stream",
     "text": [
      "[Parallel(n_jobs=-1)]: Using backend LokyBackend with 8 concurrent workers.\n",
      "[Parallel(n_jobs=-1)]: Done   2 tasks      | elapsed:  7.1min\n",
      "[Parallel(n_jobs=-1)]: Done  56 tasks      | elapsed: 43.8min\n",
      "[Parallel(n_jobs=-1)]: Done 100 out of 100 | elapsed: 75.9min finished\n"
     ]
    },
    {
     "data": {
      "text/plain": [
       "GridSearchCV(cv=StratifiedKFold(n_splits=5, random_state=None, shuffle=False),\n",
       "             error_score=nan,\n",
       "             estimator=RandomForestClassifier(bootstrap=True, ccp_alpha=0.0,\n",
       "                                              class_weight=None,\n",
       "                                              criterion='gini', max_depth=None,\n",
       "                                              max_features='auto',\n",
       "                                              max_leaf_nodes=None,\n",
       "                                              max_samples=None,\n",
       "                                              min_impurity_decrease=0.0,\n",
       "                                              min_impurity_split=None,\n",
       "                                              min_samples_leaf=1,\n",
       "                                              min_samples_split=2,\n",
       "                                              min_weight_fraction_leaf=0.0,\n",
       "                                              n_estimators=150, n_jobs=None,\n",
       "                                              oob_score=True, random_state=None,\n",
       "                                              verbose=0, warm_start=False),\n",
       "             iid='deprecated', n_jobs=-1,\n",
       "             param_grid={'max_depth': [6, 8, 10, 12, 14],\n",
       "                         'min_samples_leaf': [0.01, 0.03, 0.05, 0.1]},\n",
       "             pre_dispatch='2*n_jobs', refit=True, return_train_score=False,\n",
       "             scoring='f1', verbose=5)"
      ]
     },
     "execution_count": 21,
     "metadata": {},
     "output_type": "execute_result"
    }
   ],
   "source": [
    "grid.fit(x_train,y_train)\n"
   ]
  },
  {
   "cell_type": "code",
   "execution_count": 22,
   "metadata": {},
   "outputs": [
    {
     "data": {
      "text/plain": [
       "{'max_depth': 12, 'min_samples_leaf': 0.01}"
      ]
     },
     "execution_count": 22,
     "metadata": {},
     "output_type": "execute_result"
    }
   ],
   "source": [
    "grid.best_params_"
   ]
  },
  {
   "cell_type": "code",
   "execution_count": 23,
   "metadata": {},
   "outputs": [
    {
     "data": {
      "text/plain": [
       "0.863235936748115"
      ]
     },
     "execution_count": 23,
     "metadata": {},
     "output_type": "execute_result"
    }
   ],
   "source": [
    "grid.best_score_"
   ]
  },
  {
   "cell_type": "code",
   "execution_count": 24,
   "metadata": {},
   "outputs": [],
   "source": [
    "best_forest=grid.best_estimator_"
   ]
  },
  {
   "cell_type": "code",
   "execution_count": 27,
   "metadata": {},
   "outputs": [
    {
     "data": {
      "text/plain": [
       "RandomForestClassifier(bootstrap=True, ccp_alpha=0.0, class_weight=None,\n",
       "                       criterion='gini', max_depth=12, max_features='auto',\n",
       "                       max_leaf_nodes=None, max_samples=None,\n",
       "                       min_impurity_decrease=0.0, min_impurity_split=None,\n",
       "                       min_samples_leaf=0.01, min_samples_split=2,\n",
       "                       min_weight_fraction_leaf=0.0, n_estimators=150,\n",
       "                       n_jobs=None, oob_score=True, random_state=None,\n",
       "                       verbose=0, warm_start=False)"
      ]
     },
     "execution_count": 27,
     "metadata": {},
     "output_type": "execute_result"
    }
   ],
   "source": [
    "\n",
    "best_forest.fit(x_train,y_train)"
   ]
  },
  {
   "cell_type": "code",
   "execution_count": 28,
   "metadata": {},
   "outputs": [],
   "source": [
    "pred=best_forest.predict(x_test)"
   ]
  },
  {
   "cell_type": "code",
   "execution_count": 29,
   "metadata": {},
   "outputs": [
    {
     "name": "stdout",
     "output_type": "stream",
     "text": [
      "              precision    recall  f1-score   support\n",
      "\n",
      "           0       0.95      0.91      0.93     28269\n",
      "           1       0.29      0.43      0.35      2482\n",
      "\n",
      "    accuracy                           0.87     30751\n",
      "   macro avg       0.62      0.67      0.64     30751\n",
      "weighted avg       0.90      0.87      0.88     30751\n",
      "\n"
     ]
    }
   ],
   "source": [
    "print(classification_report(y_test,pred))"
   ]
  },
  {
   "cell_type": "code",
   "execution_count": 30,
   "metadata": {
    "scrolled": true
   },
   "outputs": [
    {
     "data": {
      "text/plain": [
       "<sklearn.metrics._plot.roc_curve.RocCurveDisplay at 0x23892734cc8>"
      ]
     },
     "execution_count": 30,
     "metadata": {},
     "output_type": "execute_result"
    },
    {
     "data": {
      "image/png": "[encoded data removed]",
      "text/plain": [
       "<Figure size 432x288 with 1 Axes>"
      ]
     },
     "metadata": {
      "needs_background": "light"
     },
     "output_type": "display_data"
    }
   ],
   "source": [
    "plot_roc_curve(best_forest,x_test,y_test)"
   ]
  },
  {
   "cell_type": "code",
   "execution_count": 31,
   "metadata": {},
   "outputs": [
    {
     "data": {
      "text/plain": [
       "<sklearn.metrics._plot.precision_recall_curve.PrecisionRecallDisplay at 0x23892622708>"
      ]
     },
     "execution_count": 31,
     "metadata": {},
     "output_type": "execute_result"
    },
    {
     "data": {
      "image/png": "[encoded data removed]",
      "text/plain": [
       "<Figure size 432x288 with 1 Axes>"
      ]
     },
     "metadata": {
      "needs_background": "light"
     },
     "output_type": "display_data"
    }
   ],
   "source": [
    "plot_precision_recall_curve(best_forest,x_test,y_test)"
   ]
  },
  {
   "cell_type": "code",
   "execution_count": 32,
   "metadata": {},
   "outputs": [],
   "source": [
    "from tqdm import tqdm"
   ]
  },
  {
   "cell_type": "code",
   "execution_count": 33,
   "metadata": {},
   "outputs": [
    {
     "name": "stderr",
     "output_type": "stream",
     "text": [
      "100%|██████████| 4/4 [12:59<00:00, 194.81s/it]\n"
     ]
    }
   ],
   "source": [
    "t=[100,150,200,250]\n",
    "scores=[]\n",
    "for i in tqdm(range(len(t))):\n",
    "    temp_forest=RandomForestClassifier(n_estimators=t[i],oob_score=True,max_depth= 12, min_samples_leaf=0.01)\n",
    "    temp_forest.fit(x_train,y_train)\n",
    "    scores.append(temp_forest.oob_score_)\n",
    "    "
   ]
  },
  {
   "cell_type": "code",
   "execution_count": 34,
   "metadata": {},
   "outputs": [
    {
     "data": {
      "text/plain": [
       "<matplotlib.axes._subplots.AxesSubplot at 0x23892621ec8>"
      ]
     },
     "execution_count": 34,
     "metadata": {},
     "output_type": "execute_result"
    },
    {
     "data": {
      "image/png": "[encoded data removed]",
      "text/plain": [
       "<Figure size 432x288 with 1 Axes>"
      ]
     },
     "metadata": {
      "needs_background": "light"
     },
     "output_type": "display_data"
    }
   ],
   "source": [
    "sn.lineplot(t,scores)"
   ]
  },
  {
   "cell_type": "code",
   "execution_count": 50,
   "metadata": {},
   "outputs": [
    {
     "data": {
      "text/plain": [
       "array([0, 0, 0, ..., 0, 0, 0], dtype=int64)"
      ]
     },
     "execution_count": 50,
     "metadata": {},
     "output_type": "execute_result"
    }
   ],
   "source": [
    "best_forest.predict(x_test)"
   ]
  },
  {
   "cell_type": "code",
   "execution_count": 71,
   "metadata": {},
   "outputs": [],
   "source": [
    "from sklearn.ensemble import VotingClassifier"
   ]
  },
  {
   "cell_type": "code",
   "execution_count": 84,
   "metadata": {},
   "outputs": [],
   "source": [
    "voter=VotingClassifier(estimators=[('forest',best_forest),\n",
    "                                   ('xgb',xgboost.XGBClassifier(\n",
    "                                       n_estimators=150,subsample=0.9, \n",
    "                                       max_depth=10, gamma=3, \n",
    "                                       colsample_bytree=0.8,\n",
    "                                       n_jobs=-1,min_child_weight=20,reg_lambda=15))],voting='soft')\n"
   ]
  },
  {
   "cell_type": "code",
   "execution_count": 85,
   "metadata": {},
   "outputs": [
    {
     "data": {
      "text/plain": [
       "VotingClassifier(estimators=[('forest',\n",
       "                              RandomForestClassifier(bootstrap=True,\n",
       "                                                     ccp_alpha=0.0,\n",
       "                                                     class_weight=None,\n",
       "                                                     criterion='gini',\n",
       "                                                     max_depth=12,\n",
       "                                                     max_features='auto',\n",
       "                                                     max_leaf_nodes=None,\n",
       "                                                     max_samples=None,\n",
       "                                                     min_impurity_decrease=0.0,\n",
       "                                                     min_impurity_split=None,\n",
       "                                                     min_samples_leaf=0.01,\n",
       "                                                     min_samples_split=2,\n",
       "                                                     min_weight_fraction_leaf=0.0,\n",
       "                                                     n_estimators=150,\n",
       "                                                     n_jobs=None,\n",
       "                                                     oob_...\n",
       "                                            colsample_bytree=0.8, gamma=3,\n",
       "                                            learning_rate=0.1, max_delta_step=0,\n",
       "                                            max_depth=10, min_child_weight=20,\n",
       "                                            missing=None, n_estimators=150,\n",
       "                                            n_jobs=-1, nthread=None,\n",
       "                                            objective='binary:logistic',\n",
       "                                            random_state=0, reg_alpha=0,\n",
       "                                            reg_lambda=15, scale_pos_weight=1,\n",
       "                                            seed=None, silent=None,\n",
       "                                            subsample=0.9, verbosity=1))],\n",
       "                 flatten_transform=True, n_jobs=None, voting='soft',\n",
       "                 weights=None)"
      ]
     },
     "execution_count": 85,
     "metadata": {},
     "output_type": "execute_result"
    }
   ],
   "source": [
    "voter.fit(x_train,y_train)"
   ]
  },
  {
   "cell_type": "code",
   "execution_count": 86,
   "metadata": {},
   "outputs": [],
   "source": [
    "pred=voter.predict(x_test)"
   ]
  },
  {
   "cell_type": "code",
   "execution_count": 87,
   "metadata": {},
   "outputs": [
    {
     "name": "stdout",
     "output_type": "stream",
     "text": [
      "              precision    recall  f1-score   support\n",
      "\n",
      "           0       0.94      1.00      0.97     28269\n",
      "           1       0.85      0.27      0.41      2482\n",
      "\n",
      "    accuracy                           0.94     30751\n",
      "   macro avg       0.90      0.63      0.69     30751\n",
      "weighted avg       0.93      0.94      0.92     30751\n",
      "\n"
     ]
    }
   ],
   "source": [
    "print(classification_report(y_test,pred))"
   ]
  },
  {
   "cell_type": "code",
   "execution_count": 88,
   "metadata": {},
   "outputs": [
    {
     "data": {
      "text/plain": [
       "<sklearn.metrics._plot.roc_curve.RocCurveDisplay at 0x238a90fa688>"
      ]
     },
     "execution_count": 88,
     "metadata": {},
     "output_type": "execute_result"
    },
    {
     "data": {
      "image/png": "[encoded data removed]",
      "text/plain": [
       "<Figure size 432x288 with 1 Axes>"
      ]
     },
     "metadata": {
      "needs_background": "light"
     },
     "output_type": "display_data"
    }
   ],
   "source": [
    "plot_roc_curve(voter,x_test,y_test)"
   ]
  },
  {
   "cell_type": "code",
   "execution_count": 89,
   "metadata": {},
   "outputs": [
    {
     "data": {
      "text/plain": [
       "<sklearn.metrics._plot.precision_recall_curve.PrecisionRecallDisplay at 0x2389315bb88>"
      ]
     },
     "execution_count": 89,
     "metadata": {},
     "output_type": "execute_result"
    },
    {
     "data": {
      "image/png": "[encoded data removed]",
      "text/plain": [
       "<Figure size 432x288 with 1 Axes>"
      ]
     },
     "metadata": {
      "needs_background": "light"
     },
     "output_type": "display_data"
    }
   ],
   "source": [
    "plot_precision_recall_curve(voter,x_test,y_test)"
   ]
  },
  {
   "cell_type": "code",
   "execution_count": null,
   "metadata": {},
   "outputs": [],
   "source": []
  }
 ],
 "metadata": {
  "kernelspec": {
   "display_name": "Python 3",
   "language": "python",
   "name": "python3"
  },
  "language_info": {
   "codemirror_mode": {
    "name": "ipython",
    "version": 3
   },
   "file_extension": ".py",
   "mimetype": "text/x-python",
   "name": "python",
   "nbconvert_exporter": "python",
   "pygments_lexer": "ipython3",
   "version": "3.7.6"
  }
 },
 "nbformat": 4,
 "nbformat_minor": 4
}
